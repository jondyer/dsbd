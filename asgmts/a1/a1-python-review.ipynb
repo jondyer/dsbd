{
 "cells": [
  {
   "cell_type": "markdown",
   "metadata": {},
   "source": [
    "# Assignment 1\n",
    "### Jonathan Dyer\n",
    "### jbdyer"
   ]
  },
  {
   "cell_type": "markdown",
   "metadata": {},
   "source": [
    "## Exercise 1\n",
    "### Part i. parse_hms\n",
    "Write the function parse_hms, which takes a string representation of a time duration and returns a triple of hours, minutes, and seconds."
   ]
  },
  {
   "cell_type": "code",
   "execution_count": 36,
   "metadata": {},
   "outputs": [],
   "source": [
    "def parse_hms(hms):\n",
    "    '''\n",
    "    Convert a string of the form h:m:s to a tuple of integers (h, m, s).\n",
    "    Just m:s will be converted to (0, m, s) and\n",
    "    Just s will be converted to (0, 0, s)\n",
    "    '''\n",
    "    elems = hms.split(':')                  # split the input string\n",
    "    fill = 3 - len(elems)                   # find out how many 0's to add\n",
    "    start = [0]*fill                        # start with correct num of 0's\n",
    "    start.extend([int(i) for i in elems])   # add integers\n",
    "    return tuple(start)                     # return tuple"
   ]
  },
  {
   "cell_type": "code",
   "execution_count": 178,
   "metadata": {},
   "outputs": [
    {
     "data": {
      "text/plain": [
       "(2, 34, 16)"
      ]
     },
     "execution_count": 178,
     "metadata": {},
     "output_type": "execute_result"
    }
   ],
   "source": [
    "parse_hms('2:34:16')"
   ]
  },
  {
   "cell_type": "code",
   "execution_count": 179,
   "metadata": {},
   "outputs": [
    {
     "data": {
      "text/plain": [
       "(0, 45, 0)"
      ]
     },
     "execution_count": 179,
     "metadata": {},
     "output_type": "execute_result"
    }
   ],
   "source": [
    "parse_hms('45:00')"
   ]
  },
  {
   "cell_type": "code",
   "execution_count": 180,
   "metadata": {},
   "outputs": [
    {
     "data": {
      "text/plain": [
       "(0, 0, 23)"
      ]
     },
     "execution_count": 180,
     "metadata": {},
     "output_type": "execute_result"
    }
   ],
   "source": [
    "parse_hms('23')"
   ]
  },
  {
   "cell_type": "markdown",
   "metadata": {},
   "source": [
    "### Part ii. hms_to_seconds\n",
    "Write the function hms_to_seconds, which converts three time args to seconds."
   ]
  },
  {
   "cell_type": "code",
   "execution_count": 37,
   "metadata": {},
   "outputs": [],
   "source": [
    "def hms_to_seconds(h,m,s):\n",
    "    '''\n",
    "    Takes three arguments, hours, minutes, and seconds and returns the\n",
    "    equivalent total number of seconds.\n",
    "    '''\n",
    "    return h*3600 + m*60 + s"
   ]
  },
  {
   "cell_type": "code",
   "execution_count": 181,
   "metadata": {},
   "outputs": [
    {
     "data": {
      "text/plain": [
       "5004"
      ]
     },
     "execution_count": 181,
     "metadata": {},
     "output_type": "execute_result"
    }
   ],
   "source": [
    "hms_to_seconds(1,23,24)"
   ]
  },
  {
   "cell_type": "code",
   "execution_count": 182,
   "metadata": {},
   "outputs": [
    {
     "data": {
      "text/plain": [
       "2017"
      ]
     },
     "execution_count": 182,
     "metadata": {},
     "output_type": "execute_result"
    }
   ],
   "source": [
    "hms_to_seconds(0,33,37)"
   ]
  },
  {
   "cell_type": "markdown",
   "metadata": {},
   "source": [
    "### Part iii. seconds_to_hms\n",
    "Write the function seconds_to_hms, which does the reverse of hms_to_seconds."
   ]
  },
  {
   "cell_type": "code",
   "execution_count": 40,
   "metadata": {},
   "outputs": [],
   "source": [
    "def seconds_to_hms(s):\n",
    "    '''\n",
    "    The converse of hms_to_seconds. It takes a number of seconds and returns\n",
    "    the equivalent in hours, minutes, and seconds.\n",
    "    '''\n",
    "    h = s // 3600\n",
    "    m = (s % 3600) // 60\n",
    "    s = s % 60\n",
    "    return (h,m,s)"
   ]
  },
  {
   "cell_type": "code",
   "execution_count": 183,
   "metadata": {},
   "outputs": [
    {
     "data": {
      "text/plain": [
       "(0, 33, 37)"
      ]
     },
     "execution_count": 183,
     "metadata": {},
     "output_type": "execute_result"
    }
   ],
   "source": [
    "seconds_to_hms(2017)"
   ]
  },
  {
   "cell_type": "code",
   "execution_count": 184,
   "metadata": {},
   "outputs": [
    {
     "data": {
      "text/plain": [
       "(0, 0, 0)"
      ]
     },
     "execution_count": 184,
     "metadata": {},
     "output_type": "execute_result"
    }
   ],
   "source": [
    "seconds_to_hms(0)"
   ]
  },
  {
   "cell_type": "code",
   "execution_count": 185,
   "metadata": {},
   "outputs": [
    {
     "data": {
      "text/plain": [
       "1234"
      ]
     },
     "execution_count": 185,
     "metadata": {},
     "output_type": "execute_result"
    }
   ],
   "source": [
    "hms_to_seconds(*seconds_to_hms(1234))"
   ]
  },
  {
   "cell_type": "code",
   "execution_count": 186,
   "metadata": {},
   "outputs": [
    {
     "data": {
      "text/plain": [
       "54321"
      ]
     },
     "execution_count": 186,
     "metadata": {},
     "output_type": "execute_result"
    }
   ],
   "source": [
    "h, m, s = seconds_to_hms(54321)\n",
    "hms_to_seconds(h,m,s)"
   ]
  },
  {
   "cell_type": "markdown",
   "metadata": {},
   "source": [
    "### Part iv. sum_hms\n",
    "Write the function sum_hms, which takes an array of time strings and adds them."
   ]
  },
  {
   "cell_type": "code",
   "execution_count": 51,
   "metadata": {},
   "outputs": [],
   "source": [
    "def sum_hms(li):\n",
    "    '''\n",
    "    Takes an array of strings representing time durations and adds them.\n",
    "    '''\n",
    "    parsed = [parse_hms(hms) for hms in li]\n",
    "    total_in_seconds = sum(hms_to_seconds(*x) for x in parsed)\n",
    "    return seconds_to_hms(total_in_seconds)"
   ]
  },
  {
   "cell_type": "code",
   "execution_count": 187,
   "metadata": {},
   "outputs": [
    {
     "data": {
      "text/plain": [
       "(2, 36, 9)"
      ]
     },
     "execution_count": 187,
     "metadata": {},
     "output_type": "execute_result"
    }
   ],
   "source": [
    "sum_hms(['0:1:24', '2:34:45'])"
   ]
  },
  {
   "cell_type": "code",
   "execution_count": 188,
   "metadata": {},
   "outputs": [
    {
     "data": {
      "text/plain": [
       "(3, 23, 45)"
      ]
     },
     "execution_count": 188,
     "metadata": {},
     "output_type": "execute_result"
    }
   ],
   "source": [
    "sum_hms(['3:00:00', '23:00', '45'])"
   ]
  },
  {
   "cell_type": "code",
   "execution_count": 189,
   "metadata": {},
   "outputs": [
    {
     "data": {
      "text/plain": [
       "(0, 0, 0)"
      ]
     },
     "execution_count": 189,
     "metadata": {},
     "output_type": "execute_result"
    }
   ],
   "source": [
    "sum_hms([])"
   ]
  },
  {
   "cell_type": "markdown",
   "metadata": {},
   "source": [
    "## Exercise 2 [Zeller's Congruence]\n",
    "Write the Zeller function which takes a year, month, and day and returns\n",
    "a number from 0 to 6 representing the day of the week."
   ]
  },
  {
   "cell_type": "code",
   "execution_count": 58,
   "metadata": {},
   "outputs": [],
   "source": [
    "def zeller(year, month, day):\n",
    "    '''\n",
    "    Takes a year, month, and day and returns a number from 0 to 6 representing \n",
    "    the day of the week.\n",
    "    \n",
    "    0 = Saturday\n",
    "    1 = Sunday\n",
    "    ...\n",
    "    6 = Friday\n",
    "    \n",
    "    This is based on the formula at https://en.wikipedia.org/wiki/Zeller's_congruence.\n",
    "    '''\n",
    "    # According to the formula, need to change the values for month and year \n",
    "    # if the date is in Jan or Feb. Let's do that first.\n",
    "    if month <= 2:\n",
    "        m = month + 12\n",
    "        year -= 1\n",
    "    else:\n",
    "        m = month\n",
    "    \n",
    "    # Set up variables according to the formula\n",
    "    q = day\n",
    "    K = year % 100\n",
    "    J = year // 100\n",
    "    \n",
    "    # Now calculate the answer one step at a time\n",
    "    ans = q\n",
    "    ans += (13*(m+1)) // 5\n",
    "    ans += K\n",
    "    ans += K // 4\n",
    "    ans += J // 4\n",
    "    ans -= 2*J\n",
    "    ans %= 7\n",
    "    \n",
    "    return ans\n",
    "    \n",
    "    "
   ]
  },
  {
   "cell_type": "code",
   "execution_count": 190,
   "metadata": {},
   "outputs": [
    {
     "data": {
      "text/plain": [
       "3"
      ]
     },
     "execution_count": 190,
     "metadata": {},
     "output_type": "execute_result"
    }
   ],
   "source": [
    "zeller(2019,1,1)"
   ]
  },
  {
   "cell_type": "code",
   "execution_count": 191,
   "metadata": {},
   "outputs": [
    {
     "data": {
      "text/plain": [
       "5"
      ]
     },
     "execution_count": 191,
     "metadata": {},
     "output_type": "execute_result"
    }
   ],
   "source": [
    "zeller(2019,9,5)"
   ]
  },
  {
   "cell_type": "markdown",
   "metadata": {},
   "source": [
    "## Exercise 3 [probability]\n",
    "### Part a. dice\n",
    "Write function dice() which randomly returns a number from 1 to 6"
   ]
  },
  {
   "cell_type": "code",
   "execution_count": 65,
   "metadata": {},
   "outputs": [],
   "source": [
    "import random"
   ]
  },
  {
   "cell_type": "code",
   "execution_count": 63,
   "metadata": {},
   "outputs": [],
   "source": [
    "def dice():\n",
    "    '''\n",
    "    Randomly returns a number from 1 to 6.\n",
    "    '''\n",
    "    return random.randint(1,6)"
   ]
  },
  {
   "cell_type": "code",
   "execution_count": 193,
   "metadata": {},
   "outputs": [
    {
     "data": {
      "text/plain": [
       "4"
      ]
     },
     "execution_count": 193,
     "metadata": {},
     "output_type": "execute_result"
    }
   ],
   "source": [
    "dice()"
   ]
  },
  {
   "cell_type": "markdown",
   "metadata": {},
   "source": [
    "### Part b. six_in_4\n",
    "Write function that simulates the successive rolling of a single die 4 times (which is equivalent to rolling 4 dice\n",
    "simultaneously once) and checks for the occurrence of a 6, returns True if a 6 occurs in the simulation and False\n",
    "otherwise"
   ]
  },
  {
   "cell_type": "code",
   "execution_count": 92,
   "metadata": {},
   "outputs": [],
   "source": [
    "def six_in_4():\n",
    "    '''\n",
    "    Simulates rolling of a single die 4 times (which is equivalent to rolling \n",
    "    4 dice simultaneously once) and checks for the occurrence of a 6.\n",
    "    \n",
    "    Returns True if a 6 occurs in the simulation and False otherwise.\n",
    "    '''\n",
    "    rolls = [dice() for _ in range(4)]\n",
    "    return 6 in rolls"
   ]
  },
  {
   "cell_type": "code",
   "execution_count": 194,
   "metadata": {},
   "outputs": [
    {
     "data": {
      "text/plain": [
       "False"
      ]
     },
     "execution_count": 194,
     "metadata": {},
     "output_type": "execute_result"
    }
   ],
   "source": [
    "six_in_4()"
   ]
  },
  {
   "cell_type": "markdown",
   "metadata": {},
   "source": [
    "### Part c. two_six_in_24\n",
    "Write function that simulates the successive rolling of two dice 24 times and checks for the occurrence of two\n",
    "sixes. Returns True if a pair of 6s occur in the simulation and False if not."
   ]
  },
  {
   "cell_type": "code",
   "execution_count": 115,
   "metadata": {},
   "outputs": [],
   "source": [
    "def two_six_in_24():\n",
    "    '''\n",
    "    Simulates the successive rolling of two dice 24 times and checks for the \n",
    "    occurrence of two sixes. \n",
    "    \n",
    "    Returns True if a pair of 6s occur in the simulation and False if not.\n",
    "    '''\n",
    "    rolls = [(dice(), dice()) for _ in range(24)]\n",
    "    return (6,6) in rolls"
   ]
  },
  {
   "cell_type": "code",
   "execution_count": 195,
   "metadata": {},
   "outputs": [
    {
     "data": {
      "text/plain": [
       "True"
      ]
     },
     "execution_count": 195,
     "metadata": {},
     "output_type": "execute_result"
    }
   ],
   "source": [
    "two_six_in_24()"
   ]
  },
  {
   "cell_type": "markdown",
   "metadata": {},
   "source": [
    "### Part d. prob_question\n",
    "Write function which will perform both of these simulations n times and returns the probability of\n",
    "occurrence of both events as a pair of numbers in a tuple in the order of ( i, ii )"
   ]
  },
  {
   "cell_type": "code",
   "execution_count": 140,
   "metadata": {},
   "outputs": [],
   "source": [
    "def prob_question(n=1000):\n",
    "    '''\n",
    "    Performs both of these simulations n times:\n",
    "    i.  six in 4 \n",
    "    ii. two six in 24\n",
    "    \n",
    "    Measures the probability of each and returns them as a tuple in order (i,ii).\n",
    "    '''\n",
    "    # first the six in 4\n",
    "    rolls = [six_in_4() for _ in range(n)]\n",
    "    i = sum(rolls) / n\n",
    "    \n",
    "    # now the two six in 24\n",
    "    rolls = [two_six_in_24() for _ in range(n)]\n",
    "    ii = sum(rolls) / n\n",
    "    \n",
    "    return (i, ii)"
   ]
  },
  {
   "cell_type": "code",
   "execution_count": 196,
   "metadata": {},
   "outputs": [
    {
     "data": {
      "text/plain": [
       "(0.5165, 0.486)"
      ]
     },
     "execution_count": 196,
     "metadata": {},
     "output_type": "execute_result"
    }
   ],
   "source": [
    "prob_question(10000)"
   ]
  },
  {
   "cell_type": "markdown",
   "metadata": {},
   "source": [
    "## Exercise 4 [file i/o]\n",
    "### Part i. read_u_data\n",
    "Write a function that reads u.data and returns a dictionary where the key is the\n",
    "itemid (same as movieid) and the value is a list of all ratings for that itemid."
   ]
  },
  {
   "cell_type": "code",
   "execution_count": 237,
   "metadata": {},
   "outputs": [],
   "source": [
    "def read_u_data(data_file='u.data', encoding='utf-8'):\n",
    "    '''\n",
    "    Reads the given data file and processes it. Returns a dictionary where the\n",
    "    key is the itemid (same as movieid) and the value is a list of all ratings\n",
    "    for that itemid.\n",
    "    '''\n",
    "    result = {}\n",
    "    with open(data_file, mode='r', encoding=encoding) as f:  # open the data file\n",
    "        for line in f.readlines():                 # for each line\n",
    "            _, item_id, rating, _ = line.split()   # extract useful info\n",
    "            result.setdefault(item_id, [])         # create an entry for this key if not there\n",
    "            result[item_id].append(int(rating))    # then add this rating\n",
    "\n",
    "        return result"
   ]
  },
  {
   "cell_type": "code",
   "execution_count": 200,
   "metadata": {},
   "outputs": [],
   "source": [
    "u_data = read_u_data()"
   ]
  },
  {
   "cell_type": "markdown",
   "metadata": {},
   "source": [
    "### Part ii. calculate_avg\n",
    "Write a function that takes the output of read_u_data and returns a dictionary with the\n",
    "average of the list of ratings: { movieid : average_rating, ... }. The returned dictionary will be of\n",
    "the form {23 : 4.35, 12 : 3.12, …}."
   ]
  },
  {
   "cell_type": "code",
   "execution_count": 152,
   "metadata": {},
   "outputs": [],
   "source": [
    "def calculate_avg_u_data_rating(d):\n",
    "    '''\n",
    "    Takes the output of read_u_data and returns a dictionary with the \n",
    "    average of the list of ratings: { movieid : average_rating, ... }.\n",
    "    '''\n",
    "    return {k: sum(v)/len(v) for k, v in d.items()}"
   ]
  },
  {
   "cell_type": "code",
   "execution_count": 201,
   "metadata": {},
   "outputs": [],
   "source": [
    "avg_data = calculate_avg_u_data_rating(u_data)"
   ]
  },
  {
   "cell_type": "markdown",
   "metadata": {},
   "source": [
    "### Part iii. read_u_item\n",
    "Write a function that reads u_item and returns a dictionary with movie_id as the key and movie_title as the value."
   ]
  },
  {
   "cell_type": "code",
   "execution_count": 158,
   "metadata": {},
   "outputs": [],
   "source": [
    "def read_u_item(data_file='u.item', encoding='latin-1'):\n",
    "    '''\n",
    "    Reads the given data file and processes it. Returns a dictionary\n",
    "    with movie_id as the key and movie_title as the value.\n",
    "    '''\n",
    "    result = {}\n",
    "    with open(data_file, mode='r', encoding=encoding) as f:  # open the data file\n",
    "        for line in f.readlines():                           # for each line\n",
    "            movie_id, movie_title, *_ = line.split('|')      # extract useful info\n",
    "            result[movie_id] = movie_title                   # create an entry for this key\n",
    "\n",
    "        return result"
   ]
  },
  {
   "cell_type": "code",
   "execution_count": 202,
   "metadata": {},
   "outputs": [],
   "source": [
    "u_item = read_u_item()"
   ]
  },
  {
   "cell_type": "markdown",
   "metadata": {},
   "source": [
    "### Part iv. write_ratings\n",
    "Write a function that takes the dictionaries created in (ii) and (iii), \n",
    "performs the equivalent of an SQL JOIN and writes output in the following\n",
    "format:\n",
    "\n",
    "movieid avg-rating movie-title"
   ]
  },
  {
   "cell_type": "code",
   "execution_count": 172,
   "metadata": {},
   "outputs": [],
   "source": [
    "def write_ratings(u_data_avg, u_item, fname='movie-ratings.txt'):\n",
    "    '''\n",
    "    Takes the dictionaries created by the previous two functions and\n",
    "    JOINs them by movieid. Sorts the output by rating in descending\n",
    "    order and writes it to fname in the format:\n",
    "    movieid  avg-rating  movie-title\n",
    "    \n",
    "    Returns the same output as a list of tuples.\n",
    "    '''\n",
    "    # first build the list of tuples\n",
    "    output = [(movie_id, rating, u_item[movie_id]) for movie_id, rating in u_data_avg.items()]\n",
    "    \n",
    "    # then sort it\n",
    "    sorted_output = sorted(output, key=lambda tup: (-tup[1], tup[2]))\n",
    "    \n",
    "    # then write it to the file\n",
    "    with open(fname, 'w') as f:\n",
    "        for tup in sorted_output:    # for each entry\n",
    "            i, r, t = tup            # unpack it\n",
    "            r = \"{:.2f}\".format(r)   # round the rating to 2 decimals\n",
    "            f.write(' '.join([i,r,t]) + '\\n')\n",
    "            \n",
    "            \n",
    "    return sorted_output"
   ]
  },
  {
   "cell_type": "code",
   "execution_count": 203,
   "metadata": {
    "collapsed": true
   },
   "outputs": [
    {
     "data": {
      "text/plain": [
       "[('1536', 5.0, 'Aiqing wansui (1994)'),\n",
       " ('1653', 5.0, 'Entertaining Angels: The Dorothy Day Story (1996)'),\n",
       " ('814', 5.0, 'Great Day in Harlem, A (1994)'),\n",
       " ('1201', 5.0, 'Marlene Dietrich: Shadow and Light (1996) '),\n",
       " ('1189', 5.0, 'Prefontaine (1997)'),\n",
       " ('1467', 5.0, 'Saint of Fort Washington, The (1993)'),\n",
       " ('1500', 5.0, 'Santa with Muscles (1996)'),\n",
       " ('1599', 5.0, \"Someone Else's America (1995)\"),\n",
       " ('1293', 5.0, 'Star Kid (1997)'),\n",
       " ('1122', 5.0, 'They Made Me a Criminal (1939)'),\n",
       " ('1449', 4.625, 'Pather Panchali (1955)'),\n",
       " ('1398', 4.5, 'Anna (1996)'),\n",
       " ('1594', 4.5, 'Everest (1998)'),\n",
       " ('119', 4.5, 'Maya Lin: A Strong Clear Vision (1994)'),\n",
       " ('1642', 4.5, \"Some Mother's Son (1996)\"),\n",
       " ('408', 4.491071428571429, 'Close Shave, A (1995)'),\n",
       " ('318', 4.466442953020135, \"Schindler's List (1993)\"),\n",
       " ('169', 4.466101694915254, 'Wrong Trousers, The (1993)'),\n",
       " ('483', 4.45679012345679, 'Casablanca (1942)'),\n",
       " ('114',\n",
       "  4.447761194029851,\n",
       "  'Wallace & Gromit: The Best of Aardman Animation (1996)'),\n",
       " ('64', 4.445229681978798, 'Shawshank Redemption, The (1994)'),\n",
       " ('603', 4.3875598086124405, 'Rear Window (1954)'),\n",
       " ('12', 4.385767790262173, 'Usual Suspects, The (1995)'),\n",
       " ('50', 4.3584905660377355, 'Star Wars (1977)'),\n",
       " ('178', 4.344, '12 Angry Men (1957)'),\n",
       " ('1639', 4.333333333333333, 'Bitter Sugar (Azucar Amargo) (1996)'),\n",
       " ('1191', 4.333333333333333, 'Letter From Death Row, A (1998)'),\n",
       " ('513', 4.333333333333333, 'Third Man, The (1949)'),\n",
       " ('134', 4.292929292929293, 'Citizen Kane (1941)'),\n",
       " ('963', 4.2926829268292686, 'Some Folks Call It a Sling Blade (1993)'),\n",
       " ('427', 4.292237442922374, 'To Kill a Mockingbird (1962)'),\n",
       " ('357', 4.291666666666667, \"One Flew Over the Cuckoo's Nest (1975)\"),\n",
       " ('98', 4.28974358974359, 'Silence of the Lambs, The (1991)'),\n",
       " ('480', 4.284916201117318, 'North by Northwest (1959)'),\n",
       " ('127', 4.283292978208232, 'Godfather, The (1972)'),\n",
       " ('285', 4.265432098765432, 'Secrets & Lies (1996)'),\n",
       " ('272', 4.262626262626263, 'Good Will Hunting (1997)'),\n",
       " ('251', 4.260869565217392, 'Shall We Dance? (1996)'),\n",
       " ('657', 4.259541984732825, 'Manchurian Candidate, The (1962)'),\n",
       " ('474',\n",
       "  4.252577319587629,\n",
       "  'Dr. Strangelove or: How I Learned to Stop Worrying and Love the Bomb (1963)'),\n",
       " ('174', 4.252380952380952, 'Raiders of the Lost Ark (1981)'),\n",
       " ('479', 4.251396648044692, 'Vertigo (1958)'),\n",
       " ('1064', 4.25, 'Crossfire (1947)'),\n",
       " ('1125', 4.25, 'Innocents, The (1961)'),\n",
       " ('1524', 4.25, 'Kaspar Hauser (1993)'),\n",
       " ('313', 4.2457142857142856, 'Titanic (1997)'),\n",
       " ('511', 4.23121387283237, 'Lawrence of Arabia (1962)'),\n",
       " ('641', 4.212121212121212, 'Paths of Glory (1957)'),\n",
       " ('484', 4.2101449275362315, 'Maltese Falcon, The (1941)'),\n",
       " ('172', 4.204359673024523, 'Empire Strikes Back, The (1980)'),\n",
       " ('515', 4.203980099502488, 'Boot, Das (1981)'),\n",
       " ('1367', 4.2, 'Faust (1994)'),\n",
       " ('1396', 4.2, 'Stonewall (1995)'),\n",
       " ('488', 4.2, 'Sunset Blvd. (1950)'),\n",
       " ('223', 4.198529411764706, 'Sling Blade (1996)'),\n",
       " ('316', 4.196428571428571, 'As Good As It Gets (1997)'),\n",
       " ('966', 4.1923076923076925, 'Affair to Remember, An (1957)'),\n",
       " ('187', 4.186602870813397, 'Godfather: Part II, The (1974)'),\n",
       " ('498', 4.184210526315789, 'African Queen, The (1951)'),\n",
       " ('199', 4.175757575757576, 'Bridge on the River Kwai, The (1957)'),\n",
       " ('170', 4.1735537190082646, 'Cinema Paradiso (1988)'),\n",
       " ('173', 4.172839506172839, 'Princess Bride, The (1987)'),\n",
       " ('191', 4.163043478260869, 'Amadeus (1984)'),\n",
       " ('302', 4.161616161616162, 'L.A. Confidential (1997)'),\n",
       " ('100', 4.155511811023622, 'Fargo (1996)'),\n",
       " ('923', 4.155172413793103, 'Raise the Red Lantern (1991)'),\n",
       " ('22', 4.151515151515151, 'Braveheart (1995)'),\n",
       " ('493', 4.15, 'Thin Man, The (1934)'),\n",
       " ('89', 4.138181818181818, 'Blade Runner (1982)'),\n",
       " ('190', 4.137096774193548, 'Henry V (1989)'),\n",
       " ('654', 4.136054421768708, 'Chinatown (1974)'),\n",
       " ('528', 4.132231404958677, 'Killing Fields, The (1984)'),\n",
       " ('1007', 4.127659574468085, 'Waiting for Guffman (1996)'),\n",
       " ('1251', 4.125, 'A Chef in Love (1996)'),\n",
       " ('136', 4.123809523809523, 'Mr. Smith Goes to Washington (1939)'),\n",
       " ('496', 4.121212121212121, \"It's a Wonderful Life (1946)\"),\n",
       " ('23', 4.1208791208791204, 'Taxi Driver (1976)'),\n",
       " ('166', 4.120689655172414, 'Manon of the Spring (Manon des sources) (1986)'),\n",
       " ('192', 4.120689655172414, 'Raging Bull (1980)'),\n",
       " ('489', 4.115384615384615, 'Notorious (1946)'),\n",
       " ('478', 4.115384615384615, 'Philadelphia Story, The (1940)'),\n",
       " ('113',\n",
       "  4.111111111111111,\n",
       "  'Horseman on the Roof, The (Hussard sur le toit, Le) (1995)'),\n",
       " ('165', 4.109375, 'Jean de Florette (1986)'),\n",
       " ('189', 4.106060606060606, 'Grand Day Out, A (1992)'),\n",
       " ('520', 4.104838709677419, 'Great Escape, The (1963)'),\n",
       " ('197', 4.104602510460251, 'Graduate, The (1967)'),\n",
       " ('487', 4.102941176470588, 'Roman Holiday (1953)'),\n",
       " ('661', 4.1022727272727275, 'High Noon (1952)'),\n",
       " ('185', 4.100418410041841, 'Psycho (1960)'),\n",
       " ('315', 4.1, 'Apt Pupil (1998)'),\n",
       " ('1169', 4.1, 'Fresh (1994)'),\n",
       " ('611', 4.1, 'Laura (1944)'),\n",
       " ('647', 4.1, 'Ran (1985)'),\n",
       " ('519', 4.1, 'Treasure of the Sierra Madre, The (1948)'),\n",
       " ('48', 4.094017094017094, 'Hoop Dreams (1994)'),\n",
       " ('659', 4.078260869565217, 'Arsenic and Old Lace (1944)'),\n",
       " ('132', 4.0772357723577235, 'Wizard of Oz, The (1939)'),\n",
       " ('651', 4.076023391812866, 'Glory (1989)'),\n",
       " ('168', 4.0664556962025316, 'Monty Python and the Holy Grail (1974)'),\n",
       " ('1194', 4.064516129032258, 'Once Were Warriors (1994)'),\n",
       " ('83', 4.0625, 'Much Ado About Nothing (1993)'),\n",
       " ('56', 4.060913705583756, 'Pulp Fiction (1994)'),\n",
       " ('59', 4.0602409638554215, 'Three Colors: Red (1994)'),\n",
       " ('194', 4.058091286307054, 'Sting, The (1973)'),\n",
       " ('633', 4.057971014492754, 'Christmas Carol, A (1938)'),\n",
       " ('124', 4.053475935828877, 'Lone Star (1996)'),\n",
       " ('615', 4.0508474576271185, '39 Steps, The (1935)'),\n",
       " ('45', 4.05, 'Eat Drink Man Woman (1994)'),\n",
       " ('320', 4.05, 'Paradise Lost: The Child Murders at Robin Hood Hills (1996)'),\n",
       " ('1203', 4.0476190476190474, 'Top Hat (1935)'),\n",
       " ('606', 4.045454545454546, 'All About Eve (1950)'),\n",
       " ('694', 4.045454545454546, 'Persuasion (1995)'),\n",
       " ('1142', 4.045454545454546, 'When We Were Kings (1996)'),\n",
       " ('180', 4.04524886877828, 'Apocalypse Now (1979)'),\n",
       " ('79', 4.044642857142857, 'Fugitive, The (1993)'),\n",
       " ('613', 4.037037037037037, 'My Man Godfrey (1936)'),\n",
       " ('183', 4.034364261168385, 'Alien (1979)'),\n",
       " ('648', 4.029850746268656, 'Quiet Man, The (1952)'),\n",
       " ('709', 4.028846153846154, 'Strictly Ballroom (1992)'),\n",
       " ('525', 4.027397260273973, 'Big Sleep, The (1946)'),\n",
       " ('530', 4.025, 'Man Who Would Be King, The (1975)'),\n",
       " ('589', 4.023255813953488, 'Wild Bunch, The (1969)'),\n",
       " ('524', 4.021739130434782, 'Great Dictator, The (1940)'),\n",
       " ('527', 4.02051282051282, 'Gandhi (1982)'),\n",
       " ('490', 4.02, 'To Catch a Thief (1955)'),\n",
       " ('60', 4.015625, 'Three Colors: Blue (1993)'),\n",
       " ('604', 4.012345679012346, 'It Happened One Night (1934)'),\n",
       " ('275', 4.0111940298507465, 'Sense and Sensibility (1995)'),\n",
       " ('1039', 4.011111111111111, 'Hamlet (1996)'),\n",
       " ('181', 4.007889546351085, 'Return of the Jedi (1983)'),\n",
       " ('198', 4.0078740157480315, 'Nikita (La Femme Nikita) (1990)'),\n",
       " ('96', 4.0067796610169495, 'Terminator 2: Judgment Day (1991)'),\n",
       " ('1235', 4.0, 'Big Bang Theory, The (1994)'),\n",
       " ('1636', 4.0, 'Brothers in Trouble (1995)'),\n",
       " ('1650', 4.0, 'Butcher Boy, The (1998)'),\n",
       " ('1645', 4.0, 'Butcher Boy, The (1998)'),\n",
       " ('1080', 4.0, 'Celestial Clockwork (1994)'),\n",
       " ('1537', 4.0, 'Cosi (1996)'),\n",
       " ('1623', 4.0, 'Cérémonie, La (1995)'),\n",
       " ('1458', 4.0, 'Damsel in Distress, A (1937)'),\n",
       " ('1593', 4.0, 'Death in Brunswick (1991)'),\n",
       " ('1616', 4.0, 'Desert Winds (1995)'),\n",
       " ('505', 4.0, 'Dial M for Murder (1954)'),\n",
       " ('430', 4.0, 'Duck Soup (1933)'),\n",
       " ('1498', 4.0, 'Farmer & Chase (1995)'),\n",
       " ('1158', 4.0, 'Fille seule, La (A Single Girl) (1995)'),\n",
       " ('601', 4.0, 'For Whom the Bell Tolls (1943)'),\n",
       " ('1482', 4.0, 'Gate of Heavenly Peace, The (1995)'),\n",
       " ('1450', 4.0, 'Golden Earrings (1947)'),\n",
       " ('1143', 4.0, 'Hard Eight (1996)'),\n",
       " ('1604', 4.0, 'He Walked by Night (1948)'),\n",
       " ('494', 4.0, 'His Girl Friday (1940)'),\n",
       " ('1533', 4.0, \"I Don't Want to Talk About It (De eso no se habla) (1993)\"),\n",
       " ('1130', 4.0, \"Jupiter's Wife (1994)\"),\n",
       " ('1505', 4.0, 'Killer: A Journal of Murder (1995)'),\n",
       " ('1452', 4.0, 'Lady of Burlesque (1943)'),\n",
       " ('656', 4.0, 'M (1931)'),\n",
       " ('1674', 4.0, 'Mamma Roma (1962)'),\n",
       " ('1466', 4.0, \"Margaret's Museum (1995)\"),\n",
       " ('1629', 4.0, 'Nico Icon (1995)'),\n",
       " ('1625', 4.0, 'Nightwatch (1997)'),\n",
       " ('1525', 4.0, 'Object of My Affection, The (1998)'),\n",
       " ('850', 4.0, 'Perfect Candidate, A (1996)'),\n",
       " ('57', 4.0, 'Priest (1994)'),\n",
       " ('1131', 4.0, 'Safe (1995)'),\n",
       " ('1651', 4.0, 'Spanish Prisoner, The (1997)'),\n",
       " ('711', 4.0, 'Substance of Fire, The (1996)'),\n",
       " ('1613', 4.0, 'Tokyo Fist (1995)'),\n",
       " ('1516', 4.0, 'Wedding Gift, The (1994)'),\n",
       " ('867', 4.0, 'Whole Wide World, The (1996)'),\n",
       " ('1492', 4.0, 'Window to Paris (1994)'),\n",
       " ('1515', 4.0, 'Wings of Courage (1995)'),\n",
       " ('512', 4.0, 'Wings of Desire (1987)'),\n",
       " ('1526', 4.0, 'Witness (1985)'),\n",
       " ('701', 4.0, 'Wonderful, Horrible Life of Leni Riefenstahl, The (1993)'),\n",
       " ('1512', 4.0, 'World of Apu, The (Apur Sansar) (1959)'),\n",
       " ('8', 3.9954337899543377, 'Babe (1995)'),\n",
       " ('523', 3.9939024390243905, 'Cool Hand Luke (1967)'),\n",
       " ('705', 3.9927007299270074, \"Singin' in the Rain (1952)\"),\n",
       " ('205', 3.9926470588235294, 'Patton (1970)'),\n",
       " ('242', 3.9914529914529915, 'Kolya (1996)'),\n",
       " ('156', 3.9864864864864864, 'Reservoir Dogs (1992)'),\n",
       " ('213', 3.985074626865672, 'Room with a View, A (1986)'),\n",
       " ('482', 3.984375, 'Some Like It Hot (1959)'),\n",
       " ('529', 3.978494623655914, 'My Life as a Dog (Mitt liv som hund) (1985)'),\n",
       " ('921', 3.9782608695652173, 'Farewell My Concubine (1993)'),\n",
       " ('607', 3.9696969696969697, 'Rebecca (1940)'),\n",
       " ('135', 3.969111969111969, '2001: A Space Odyssey (1968)'),\n",
       " ('516', 3.9682539682539684, 'Local Hero (1983)'),\n",
       " ('1019', 3.967741935483871, 'Die xue shuang xiong (Killer, The) (1989)'),\n",
       " ('14', 3.9672131147540983, 'Postino, Il (1994)'),\n",
       " ('1137', 3.9655172413793105, 'Beautiful Thing (1996)'),\n",
       " ('297', 3.96, \"Ulee's Gold (1997)\"),\n",
       " ('19', 3.9565217391304346, \"Antonia's Line (1995)\"),\n",
       " ('499', 3.9516129032258065, 'Cat on a Hot Tin Roof (1958)'),\n",
       " ('182', 3.9513274336283186, 'GoodFellas (1990)'),\n",
       " ('435', 3.949074074074074, 'Butch Cassidy and the Sundance Kid (1969)'),\n",
       " ('306', 3.9479166666666665, 'Mrs. Brown (Her Majesty, Mrs. Brown) (1997)'),\n",
       " ('176', 3.9471830985915495, 'Aliens (1986)'),\n",
       " ('30', 3.945945945945946, 'Belle de jour (1967)'),\n",
       " ('208', 3.945, 'Young Frankenstein (1974)'),\n",
       " ('811',\n",
       "  3.9444444444444446,\n",
       "  'Thirty-Two Short Films About Glenn Gould (1993)'),\n",
       " ('510', 3.9421487603305785, 'Magnificent Seven, The (1954)'),\n",
       " ('612', 3.9411764705882355, 'Lost Horizon (1937)'),\n",
       " ('86', 3.94, 'Remains of the Day, The (1993)'),\n",
       " ('429', 3.9381443298969074, 'Day the Earth Stood Still, The (1951)'),\n",
       " ('936', 3.9375, 'Brassed Off (1996)'),\n",
       " ('481', 3.9365079365079363, 'Apartment, The (1960)'),\n",
       " ('736', 3.9358974358974357, 'Shadowlands (1993)'),\n",
       " ('246', 3.935483870967742, 'Chasing Amy (1997)'),\n",
       " ('195', 3.9335548172757475, 'Terminator, The (1984)'),\n",
       " ('608', 3.933333333333333, 'Spellbound (1945)'),\n",
       " ('28', 3.931159420289855, 'Apollo 13 (1995)'),\n",
       " ('210', 3.930513595166163, 'Indiana Jones and the Last Crusade (1989)'),\n",
       " ('707', 3.9285714285714284, 'Enchanted April (1991)'),\n",
       " ('269', 3.926984126984127, 'Full Monty, The (1997)'),\n",
       " ('945', 3.925, 'Charade (1963)'),\n",
       " ('915', 3.923076923076923, 'Primary Colors (1998)'),\n",
       " ('531', 3.9224806201550386, 'Shine (1996)'),\n",
       " ('837', 3.92, 'Meet John Doe (1941)'),\n",
       " ('193', 3.917197452229299, 'Right Stuff, The (1983)'),\n",
       " ('863',\n",
       "  3.9166666666666665,\n",
       "  'Garden of Finzi-Contini, The (Giardino dei Finzi-Contini, Il) (1970)'),\n",
       " ('196', 3.9163346613545817, 'Dead Poets Society (1989)'),\n",
       " ('211', 3.912621359223301, 'M*A*S*H (1970)'),\n",
       " ('317', 3.911764705882353, 'In the Name of the Father (1993)'),\n",
       " ('653', 3.911764705882353, 'Touch of Evil (1958)'),\n",
       " ('514', 3.911111111111111, 'Annie Hall (1977)'),\n",
       " ('216', 3.910344827586207, 'When Harry Met Sally... (1989)'),\n",
       " ('179', 3.909502262443439, 'Clockwork Orange, A (1971)'),\n",
       " ('87', 3.9057971014492754, 'Searching for Bobby Fischer (1993)'),\n",
       " ('209', 3.905759162303665, 'This Is Spinal Tap (1984)'),\n",
       " ('663', 3.9051724137931036, 'Being There (1979)'),\n",
       " ('500', 3.903225806451613, 'Fly Away Home (1996)'),\n",
       " ('137', 3.9005847953216373, 'Big Night (1996)'),\n",
       " ('1269', 3.9, 'Love in the Afternoon (1957)'),\n",
       " ('632', 3.896551724137931, \"Sophie's Choice (1982)\"),\n",
       " ('9', 3.8963210702341136, 'Dead Man Walking (1995)'),\n",
       " ('813', 3.892857142857143, 'Celluloid Closet, The (1995)'),\n",
       " ('652', 3.888888888888889, 'Rosencrantz and Guildenstern Are Dead (1990)'),\n",
       " ('1020', 3.8857142857142857, 'Gaslight (1944)'),\n",
       " ('475', 3.884, 'Trainspotting (1996)'),\n",
       " ('655', 3.881057268722467, 'Stand by Me (1986)'),\n",
       " ('1', 3.8783185840707963, 'Toy Story (1995)'),\n",
       " ('171', 3.876923076923077, 'Delicatessen (1991)'),\n",
       " ('238', 3.875, 'Raising Arizona (1987)'),\n",
       " ('745', 3.875, 'Ruling Class, The (1972)'),\n",
       " ('144', 3.8724279835390947, 'Die Hard (1988)'),\n",
       " ('133', 3.871345029239766, 'Gone with the Wind (1939)'),\n",
       " ('646', 3.8684210526315788, 'Once Upon a Time in the West (1969)'),\n",
       " ('203', 3.868131868131868, 'Unforgiven (1992)'),\n",
       " ('1451', 3.8666666666666667, 'Foreign Correspondent (1940)'),\n",
       " ('835', 3.8666666666666667, 'Gay Divorcee, The (1934)'),\n",
       " ('492', 3.864406779661017, 'East of Eden (1955)'),\n",
       " ('61', 3.864406779661017, 'Three Colors: White (1994)'),\n",
       " ('265', 3.8634361233480177, 'Hunt for Red October, The (1990)'),\n",
       " ('177', 3.8613138686131387, 'Good, The Bad and The Ugly, The (1966)'),\n",
       " ('463', 3.859154929577465, 'Secret of Roan Inish, The (1994)'),\n",
       " ('1084', 3.857142857142857, 'Anne Frank Remembered (1995)'),\n",
       " ('853', 3.857142857142857, 'Braindead (1992)'),\n",
       " ('506', 3.8555555555555556, 'Rebel Without a Cause (1955)'),\n",
       " ('750', 3.8548387096774195, 'Amistad (1997)'),\n",
       " ('735', 3.854014598540146, 'Philadelphia (1993)'),\n",
       " ('69', 3.853582554517134, 'Forrest Gump (1994)'),\n",
       " ('509', 3.8512396694214877, 'My Left Foot (1989)'),\n",
       " ('11', 3.847457627118644, 'Seven (Se7en) (1995)'),\n",
       " ('1149', 3.8461538461538463, 'Walkabout (1971)'),\n",
       " ('497', 3.838235294117647, 'Bringing Up Baby (1938)'),\n",
       " ('186', 3.8366533864541834, 'Blues Brothers, The (1980)'),\n",
       " ('434', 3.8358208955223883, 'Forbidden Planet (1956)'),\n",
       " ('204', 3.834285714285714, 'Back to the Future (1985)'),\n",
       " ('902', 3.8333333333333335, 'Big Lebowski, The (1998)'),\n",
       " ('521', 3.8333333333333335, 'Deer Hunter, The (1978)'),\n",
       " ('423', 3.8333333333333335, 'E.T. the Extra-Terrestrial (1982)'),\n",
       " ('1124', 3.8333333333333335, 'Farewell to Arms, A (1932)'),\n",
       " ('856', 3.8333333333333335, 'Night on Earth (1991)'),\n",
       " ('10', 3.831460674157303, 'Richard III (1995)'),\n",
       " ('526', 3.8306451612903225, 'Ben-Hur (1959)'),\n",
       " ('150', 3.828025477707006, 'Swingers (1996)'),\n",
       " ('200', 3.825242718446602, 'Shining, The (1980)'),\n",
       " ('116', 3.824, 'Cold Comfort Farm (1995)'),\n",
       " ('922', 3.823529411764706, 'Dead Man (1995)'),\n",
       " ('129', 3.8217054263565893, 'Bound (1996)'),\n",
       " ('504', 3.819672131147541, 'Bonnie and Clyde (1967)'),\n",
       " ('207', 3.8181818181818183, 'Cyrano de Bergerac (1990)'),\n",
       " ('428', 3.8181818181818183, 'Harold and Maude (1971)'),\n",
       " ('1073', 3.8181818181818183, 'Shallow Grave (1994)'),\n",
       " ('175', 3.8173076923076925, 'Brazil (1985)'),\n",
       " ('507', 3.816326530612245, 'Streetcar Named Desire, A (1951)'),\n",
       " ('485', 3.816, 'My Fair Lady (1964)'),\n",
       " ('1021', 3.8157894736842106, '8 1/2 (1963)'),\n",
       " ('228', 3.8155737704918034, 'Star Trek: The Wrath of Khan (1982)'),\n",
       " ('645', 3.814814814814815, 'Paris Is Burning (1990)'),\n",
       " ('95', 3.8127853881278537, 'Aladdin (1992)'),\n",
       " ('443', 3.808641975308642, 'Birds, The (1963)'),\n",
       " ('126', 3.804123711340206, 'Spitfire Grill, The (1996)'),\n",
       " ('42', 3.804054054054054, 'Clerks (1994)'),\n",
       " ('462',\n",
       "  3.804054054054054,\n",
       "  'Like Water For Chocolate (Como agua para chocolate) (1992)'),\n",
       " ('258', 3.8035363457760316, 'Contact (1997)'),\n",
       " ('293', 3.802721088435374, 'Donnie Brasco (1997)'),\n",
       " ('1193', 3.8, 'Before the Rain (Pred dozhdot) (1994)'),\n",
       " ('868', 3.8, 'Hearts and Minds (1996)'),\n",
       " ('1301', 3.8, 'Stripes (1981)'),\n",
       " ('969', 3.8, 'Winnie the Pooh and the Blustery Day (1968)'),\n",
       " ('7', 3.798469387755102, 'Twelve Monkeys (1995)'),\n",
       " ('486', 3.796875, 'Sabrina (1954)'),\n",
       " ('97', 3.79296875, 'Dances with Wolves (1990)'),\n",
       " ('684', 3.7928994082840237, 'In the Line of Fire (1993)'),\n",
       " ('268', 3.792156862745098, 'Chasing Amy (1997)'),\n",
       " ('588', 3.792079207920792, 'Beauty and the Beast (1991)'),\n",
       " ('467', 3.7916666666666665, 'Bronx Tale, A (1993)'),\n",
       " ('919', 3.7916666666666665, 'City of Lost Children, The (1995)'),\n",
       " ('491', 3.791044776119403, 'Adventures of Robin Hood, The (1938)'),\n",
       " ('32', 3.7901234567901234, 'Crumb (1994)'),\n",
       " ('1103', 3.789473684210526, 'Trust (1990)'),\n",
       " ('958', 3.7857142857142856, 'To Live (Huozhe) (1994)'),\n",
       " ('153', 3.785425101214575, 'Fish Called Wanda, A (1988)'),\n",
       " ('71', 3.7818181818181817, 'Lion King, The (1994)'),\n",
       " ('15', 3.7781569965870307, \"Mr. Holland's Opus (1995)\"),\n",
       " ('617', 3.7777777777777777, 'Blue Angel, The (Blaue Engel, Der) (1930)'),\n",
       " ('469', 3.7761194029850746, 'Short Cuts (1993)'),\n",
       " ('234', 3.775, 'Jaws (1975)'),\n",
       " ('638',\n",
       "  3.772727272727273,\n",
       "  'Return of Martin Guerre, The (Retour de Martin Guerre, Le) (1982)'),\n",
       " ('896', 3.772727272727273, 'Sweet Hereafter, The (1997)'),\n",
       " ('522', 3.7714285714285714, 'Down by Law (1986)'),\n",
       " ('644', 3.7714285714285714, 'Thin Blue Line, The (1988)'),\n",
       " ('1101', 3.77027027027027, 'Six Degrees of Separation (1993)'),\n",
       " ('432', 3.7701149425287355, 'Fantasia (1940)'),\n",
       " ('909', 3.769230769230769, 'Dangerous Beauty (1998)'),\n",
       " ('52', 3.769230769230769, 'Madness of King George, The (1994)'),\n",
       " ('517', 3.769230769230769, 'Manhattan (1979)'),\n",
       " ('836', 3.769230769230769, 'Ninotchka (1939)'),\n",
       " ('298', 3.768041237113402, 'Face/Off (1997)'),\n",
       " ('143', 3.765765765765766, 'Sound of Music, The (1965)'),\n",
       " ('660', 3.764705882352941, 'Fried Green Tomatoes (1991)'),\n",
       " ('202', 3.7642857142857142, 'Groundhog Day (1993)'),\n",
       " ('1121',\n",
       "  3.761904761904762,\n",
       "  'Umbrellas of Cherbourg, The (Parapluies de Cherbourg, Les) (1964)'),\n",
       " ('1443', 3.75, '8 Seconds (1994)'),\n",
       " ('1643', 3.75, 'Angel Baby (1995)'),\n",
       " ('459', 3.75, 'Cry, the Beloved Country (1995)'),\n",
       " ('1062', 3.75, 'Four Days in September (1997)'),\n",
       " ('1600', 3.75, 'Guantanamera (1994)'),\n",
       " ('1628', 3.75, 'Lamerica (1994)'),\n",
       " ('1612', 3.75, 'Leading Man, The (1996)'),\n",
       " ('634', 3.75, \"Microcosmos: Le peuple de l'herbe (1996)\"),\n",
       " ('851', 3.75, 'Two or Three Things I Know About Her (1966)'),\n",
       " ('154', 3.7471264367816093, \"Monty Python's Life of Brian (1979)\"),\n",
       " ('257', 3.745874587458746, 'Men in Black (1997)'),\n",
       " ('614', 3.7450980392156863, 'Giant (1956)'),\n",
       " ('425', 3.7411764705882353, 'Bob Roberts (1992)'),\n",
       " ('1070', 3.740740740740741, 'Living in Oblivion (1995)'),\n",
       " ('115',\n",
       "  3.7333333333333334,\n",
       "  'Haunted World of Edward D. Wood Jr., The (1995)'),\n",
       " ('221', 3.72972972972973, 'Breaking the Waves (1996)'),\n",
       " ('855', 3.727272727272727, 'Diva (1981)'),\n",
       " ('847', 3.727272727272727, 'Looking for Richard (1996)'),\n",
       " ('131', 3.7263157894736842, \"Breakfast at Tiffany's (1961)\"),\n",
       " ('419', 3.7247191011235956, 'Mary Poppins (1964)'),\n",
       " ('93', 3.7232142857142856, 'Welcome to the Dollhouse (1995)'),\n",
       " ('378', 3.722772277227723, 'Miracle on 34th Street (1994)'),\n",
       " ('968', 3.7222222222222223, 'Inspector General, The (1949)'),\n",
       " ('792', 3.7209302325581395, 'Bullets Over Broadway (1994)'),\n",
       " ('82', 3.7203065134099615, 'Jurassic Park (1993)'),\n",
       " ('283', 3.7175141242937855, 'Emma (1996)'),\n",
       " ('1456', 3.7142857142857144, 'Beat the Devil (1954)'),\n",
       " ('1243', 3.7142857142857144, 'Night Flier (1997)'),\n",
       " ('1462', 3.7142857142857144, 'Thieves (Voleurs, Les) (1996)'),\n",
       " ('262', 3.712121212121212, 'In the Company of Men (1997)'),\n",
       " ('237', 3.7109375, 'Jerry Maguire (1996)'),\n",
       " ('99', 3.7093023255813953, 'Snow White and the Seven Dwarfs (1937)'),\n",
       " ('753', 3.7083333333333335, 'Burnt By the Sun (1994)'),\n",
       " ('1286', 3.7058823529411766, 'Shall We Dance? (1937)'),\n",
       " ('55', 3.704697986577181, 'Professional, The (1994)'),\n",
       " ('224', 3.7045454545454546, 'Ridicule (1996)'),\n",
       " ('502', 3.7017543859649122, 'Bananas (1971)'),\n",
       " ('602', 3.7, 'American in Paris, An (1951)'),\n",
       " ('639', 3.7, 'Tin Drum, The (Blechtrommel, Die) (1979)'),\n",
       " ('215', 3.69811320754717, 'Field of Dreams (1989)'),\n",
       " ('276', 3.697986577181208, 'Leaving Las Vegas (1995)'),\n",
       " ('117', 3.693121693121693, 'Rock, The (1996)'),\n",
       " ('157', 3.6929133858267718, 'Platoon (1986)'),\n",
       " ('253', 3.6923076923076925, 'Pillow Book, The (1995)'),\n",
       " ('1098', 3.6904761904761907, 'Flirting With Disaster (1996)'),\n",
       " ('900', 3.6904761904761907, 'Kundun (1997)'),\n",
       " ('433', 3.690058479532164, 'Heathers (1989)'),\n",
       " ('718', 3.6875, 'In the Bleak Midwinter (1995)'),\n",
       " ('303', 3.6865671641791047, \"Ulee's Gold (1997)\"),\n",
       " ('282', 3.685344827586207, 'Time to Kill, A (1996)'),\n",
       " ('188', 3.6823529411764704, 'Full Metal Jacket (1987)'),\n",
       " ('1005',\n",
       "  3.6818181818181817,\n",
       "  'Double vie de Véronique, La (Double Life of Veronique, The) (1991)'),\n",
       " ('686', 3.68, 'Perfect World, A (1993)'),\n",
       " ('311', 3.68, 'Wings of the Dove, The (1997)'),\n",
       " ('699', 3.676470588235294, 'Little Women (1994)'),\n",
       " ('971', 3.676470588235294, 'Mediterraneo (1991)'),\n",
       " ('248', 3.675, 'Grosse Pointe Blank (1997)'),\n",
       " ('404', 3.6732673267326734, 'Pinocchio (1940)'),\n",
       " ('558', 3.6714285714285713, 'Heavenly Creatures (1994)'),\n",
       " ('420', 3.6666666666666665, 'Alice in Wonderland (1951)'),\n",
       " ('1298', 3.6666666666666665, 'Band Wagon, The (1953)'),\n",
       " ('1504', 3.6666666666666665, 'Bewegte Mann, Der (1994)'),\n",
       " ('533', 3.6666666666666665, 'Daytrippers, The (1996)'),\n",
       " ('965', 3.6666666666666665, 'Funny Face (1957)'),\n",
       " ('1418', 3.6666666666666665, 'Joy Luck Club, The (1993)'),\n",
       " ('1123', 3.6666666666666665, 'Last Time I Saw Paris, The (1954)'),\n",
       " ('1368', 3.6666666666666665, 'Mina Tannenbaum (1994)'),\n",
       " ('1147', 3.6666666666666665, 'My Family (1995)'),\n",
       " ('1448', 3.6666666666666665, 'My Favorite Season (1993)'),\n",
       " ('1506', 3.6666666666666665, 'Nelly & Monsieur Arnaud (1995)'),\n",
       " ('1144', 3.6666666666666665, 'Quiet Room, The (1996)'),\n",
       " ('292', 3.6666666666666665, 'Rosewood (1997)'),\n",
       " ('1428', 3.6666666666666665, 'SubUrbia (1997)'),\n",
       " ('470', 3.6666666666666665, 'Tombstone (1993)'),\n",
       " ('1172', 3.6666666666666665, 'Women, The (1939)'),\n",
       " ('746', 3.6638655462184873, 'Real Genius (1985)'),\n",
       " ('70', 3.6613545816733066, 'Four Weddings and a Funeral (1994)'),\n",
       " ('495', 3.6610169491525424, 'Around the World in 80 Days (1956)'),\n",
       " ('1119', 3.6610169491525424, 'Some Kind of Wonderful (1987)'),\n",
       " ('222', 3.66027397260274, 'Star Trek: First Contact (1996)'),\n",
       " ('610', 3.658536585365854, 'Gigi (1958)'),\n",
       " ('1063', 3.658536585365854, 'Little Princess, A (1995)'),\n",
       " ('286', 3.656964656964657, 'English Patient, The (1996)'),\n",
       " ('344', 3.6545454545454548, 'Apostle, The (1997)'),\n",
       " ('1240', 3.6538461538461537, 'Ghost in the Shell (Kokaku kidotai) (1995)'),\n",
       " ('794', 3.652173913043478, 'It Could Happen to You (1994)'),\n",
       " ('518', 3.651685393258427, \"Miller's Crossing (1990)\"),\n",
       " ('1050', 3.6511627906976742, 'Ghost and Mrs. Muir, The (1947)'),\n",
       " ('732', 3.65, 'Dave (1993)'),\n",
       " ('693', 3.6483516483516483, 'Casino (1995)'),\n",
       " ('568', 3.6478260869565218, 'Speed (1994)'),\n",
       " ('58', 3.645714285714286, 'Quiz Show (1994)'),\n",
       " ('742', 3.644194756554307, 'Ransom (1996)'),\n",
       " ('305', 3.6436781609195403, 'Ice Storm, The (1997)'),\n",
       " ('346', 3.642857142857143, 'Jackie Brown (1997)'),\n",
       " ('503', 3.641025641025641, 'Candidate, The (1972)'),\n",
       " ('152', 3.6341463414634148, 'Sleeper (1973)'),\n",
       " ('537', 3.6333333333333333, 'My Own Private Idaho (1991)'),\n",
       " ('151', 3.6319018404907975, 'Willy Wonka and the Chocolate Factory (1971)'),\n",
       " ('300', 3.6310904872389793, 'Air Force One (1997)'),\n",
       " ('31', 3.6298701298701297, 'Crimson Tide (1995)'),\n",
       " ('805', 3.6296296296296298, 'Manhattan Murder Mystery (1993)'),\n",
       " ('692', 3.6280487804878048, 'American President, The (1995)'),\n",
       " ('1278', 3.625, 'Selena (1997)'),\n",
       " ('1262', 3.625, 'Walking and Talking (1996)'),\n",
       " ('236', 3.6222222222222222, 'Citizen Ruth (1996)'),\n",
       " ('631', 3.6218487394957983, 'Crying Game, The (1992)'),\n",
       " ('461', 3.6216216216216215, 'Smoke (1995)'),\n",
       " ('543', 3.619047619047619, 'Misérables, Les (1995)'),\n",
       " ('961', 3.6176470588235294, 'Orlando (1993)'),\n",
       " ('1160', 3.6153846153846154, 'Love! Valour! Compassion! (1997)'),\n",
       " ('1116', 3.6153846153846154, 'Mark of Zorro, The (1940)'),\n",
       " ('92', 3.6153846153846154, 'True Romance (1993)'),\n",
       " ('713', 3.611111111111111, 'Othello (1995)'),\n",
       " ('618', 3.611111111111111, 'Picnic (1955)'),\n",
       " ('1204', 3.611111111111111, 'To Be or Not to Be (1942)'),\n",
       " ('471', 3.6108597285067874, 'Courage Under Fire (1996)'),\n",
       " ('887', 3.609375, \"Eve's Bayou (1997)\"),\n",
       " ('671', 3.608695652173913, 'Bride of Frankenstein (1935)'),\n",
       " ('956', 3.608695652173913, \"Nobody's Fool (1994)\"),\n",
       " ('47', 3.601503759398496, 'Ed Wood (1994)'),\n",
       " ('582', 3.6011904761904763, 'Piano, The (1993)'),\n",
       " ('591', 3.601123595505618, 'Primal Fear (1996)'),\n",
       " ('1375', 3.6, 'Cement Garden, The (1993)'),\n",
       " ('1495', 3.6, 'Flirt (1995)'),\n",
       " ('1592', 3.6, 'Magic Hour, The (1998)'),\n",
       " ('1024', 3.6, 'Mrs. Dalloway (1997)'),\n",
       " ('939', 3.6, 'Murder in the First (1995)'),\n",
       " ('310', 3.6, 'Rainmaker, The (1997)'),\n",
       " ('466', 3.5961538461538463, 'Red Rock West (1992)'),\n",
       " ('270', 3.5955882352941178, 'Gattaca (1997)'),\n",
       " ('508', 3.5953488372093023, 'People vs. Larry Flynt, The (1996)'),\n",
       " ('382',\n",
       "  3.5945945945945947,\n",
       "  'Adventures of Priscilla, Queen of the Desert, The (1994)'),\n",
       " ('421', 3.5943396226415096, \"William Shakespeare's Romeo and Juliet (1996)\"),\n",
       " ('333', 3.593625498007968, 'Game, The (1997)'),\n",
       " ('464', 3.5925925925925926, 'Vanya on 42nd Street (1994)'),\n",
       " ('287', 3.58974358974359, \"Marvin's Room (1996)\"),\n",
       " ('164', 3.589403973509934, 'Abyss, The (1989)'),\n",
       " ('91', 3.5874125874125875, 'Nightmare Before Christmas, The (1993)'),\n",
       " ('340', 3.5873015873015874, 'Boogie Nights (1997)'),\n",
       " ('609', 3.5833333333333335, 'Father of the Bride (1950)'),\n",
       " ('418', 3.5813953488372094, 'Cinderella (1950)'),\n",
       " ('703', 3.5789473684210527, \"Widows' Peak (1994)\"),\n",
       " ('6',\n",
       "  3.576923076923077,\n",
       "  'Shanghai Triad (Yao a yao yao dao waipo qiao) (1995)'),\n",
       " ('789', 3.574468085106383, 'Swimming with Sharks (1995)'),\n",
       " ('1558', 3.5714285714285716, 'Aparajito (1956)'),\n",
       " ('1129', 3.5714285714285716, 'Chungking Express (1994)'),\n",
       " ('587', 3.5714285714285716, 'Hour of the Pig, The (1993)'),\n",
       " ('1459', 3.5714285714285716, 'Madame Butterfly (1995)'),\n",
       " ('566', 3.569832402234637, 'Clear and Present Danger (1994)'),\n",
       " ('710', 3.569620253164557, 'Better Off Dead... (1985)'),\n",
       " ('273', 3.569506726457399, 'Heat (1995)'),\n",
       " ('549', 3.5652173913043477, 'Rob Roy (1995)'),\n",
       " ('465', 3.5647058823529414, 'Jungle Book, The (1994)'),\n",
       " ('385', 3.5625, 'True Lies (1994)'),\n",
       " ('256', 3.5625, 'When the Cats Away (Chacun cherche son chat) (1996)'),\n",
       " ('125', 3.557377049180328, 'Phenomenon (1996)'),\n",
       " ('162', 3.556603773584906, 'On Golden Pond (1981)'),\n",
       " ('46', 3.5555555555555554, 'Exotica (1994)'),\n",
       " ('1197', 3.5555555555555554, 'Family Thing, A (1996)'),\n",
       " ('1473', 3.5555555555555554, 'Little Princess, The (1939)'),\n",
       " ('848', 3.5555555555555554, 'Murder, My Sweet (1944)'),\n",
       " ('675',\n",
       "  3.5555555555555554,\n",
       "  'Nosferatu (Nosferatu, eine Symphonie des Grauens) (1922)'),\n",
       " ('81', 3.5545454545454547, 'Hudsucker Proxy, The (1994)'),\n",
       " ('163', 3.5543478260869565, 'Return of the Pink Panther, The (1974)'),\n",
       " ('778', 3.5526315789473686, 'Don Juan DeMarco (1995)'),\n",
       " ('4', 3.550239234449761, 'Get Shorty (1995)'),\n",
       " ('381', 3.55, \"Muriel's Wedding (1994)\"),\n",
       " ('66', 3.549382716049383, 'While You Were Sleeping (1995)'),\n",
       " ('241', 3.546875, 'Last of the Mohicans, The (1992)'),\n",
       " ('1159', 3.5454545454545454, 'Stalker (1979)'),\n",
       " ('1167', 3.5454545454545454, 'Sum of Us, The (1994)'),\n",
       " ('954', 3.5454545454545454, 'Unzipped (1995)'),\n",
       " ('584', 3.5443037974683542, 'Secret Garden, The (1993)'),\n",
       " ('392', 3.5441176470588234, 'Man Without a Face, The (1993)'),\n",
       " ('664', 3.5434782608695654, 'Paris, Texas (1984)'),\n",
       " ('650',\n",
       "  3.5416666666666665,\n",
       "  'Seventh Seal, The (Sjunde inseglet, Det) (1957)'),\n",
       " ('88', 3.539906103286385, 'Sleepless in Seattle (1993)'),\n",
       " ('331', 3.5398230088495577, 'Edge, The (1997)'),\n",
       " ('65', 3.5391304347826087, \"What's Eating Gilbert Grape (1993)\"),\n",
       " ('128', 3.5384615384615383, 'Supercop (1992)'),\n",
       " ('304', 3.5369127516778525, 'Fly Away Home (1996)'),\n",
       " ('431', 3.5359477124183005, 'Highlander (1986)'),\n",
       " ('436', 3.5353535353535355, 'American Werewolf in London, An (1981)'),\n",
       " ('414', 3.532258064516129, 'My Favorite Year (1982)'),\n",
       " ('1012', 3.53, 'Private Parts (1997)'),\n",
       " ('372', 3.5294117647058822, 'Jeffrey (1995)'),\n",
       " ('673', 3.5232558139534884, 'Cape Fear (1962)'),\n",
       " ('201', 3.5168539325842696, 'Evil Dead II (1987)'),\n",
       " ('307', 3.515957446808511, \"Devil's Advocate, The (1997)\"),\n",
       " ('993', 3.515151515151515, 'Hercules (1997)'),\n",
       " ('628', 3.514792899408284, 'Sleepers (1996)'),\n",
       " ('239', 3.513333333333333, 'Sneakers (1992)'),\n",
       " ('347', 3.510948905109489, 'Wag the Dog (1997)'),\n",
       " ('447', 3.5041322314049586, 'Carrie (1976)'),\n",
       " ('141', 3.5, '20,000 Leagues Under the Sea (1954)'),\n",
       " ('359', 3.5, 'Assignment, The (1997)'),\n",
       " ('1541', 3.5, 'Beans of Egypt, Maine, The (1994)'),\n",
       " ('445', 3.5, 'Body Snatcher, The (1945)'),\n",
       " ('1485', 3.5, 'Colonel Chabert, Le (1994)'),\n",
       " ('793', 3.5, 'Crooklyn (1994)'),\n",
       " ('691', 3.5, 'Dark City (1998)'),\n",
       " ('973', 3.5, 'Grateful Dead (1995)'),\n",
       " ('1097', 3.5, 'Hate (Haine, La) (1995)'),\n",
       " ('361', 3.5, 'Incognito (1997)'),\n",
       " ('1223', 3.5, 'King of the Hill (1993)'),\n",
       " ('1656', 3.5, 'Little City (1998)'),\n",
       " ('1202', 3.5, 'Maybe, Maybe Not (Bewegte Mann, Der) (1994)'),\n",
       " ('1646', 3.5, 'Men With Guns (1997)'),\n",
       " ('107', 3.5, 'Moll Flanders (1996)'),\n",
       " ('1233', 3.5, 'Nénette et Boni (1996)'),\n",
       " ('730', 3.5, 'Queen Margot (Reine Margot, La) (1994)'),\n",
       " ('274', 3.5, 'Sabrina (1995)'),\n",
       " ('1631', 3.5, 'Slingshot, The (1993)'),\n",
       " ('1237', 3.5, 'Twisted (1996)'),\n",
       " ('1472', 3.5, 'Visitors, The (Visiteurs, Les) (1993)'),\n",
       " ('501', 3.4959349593495936, 'Dumbo (1941)'),\n",
       " ('1065', 3.490566037735849, 'Koyaanisqatsi (1983)'),\n",
       " ('942', 3.488888888888889, \"What's Love Got to Do with It (1993)\"),\n",
       " ('1221', 3.4871794871794872, 'When a Man Loves a Woman (1994)'),\n",
       " ('724', 3.486842105263158, 'Circle of Friends (1995)'),\n",
       " ('354', 3.486111111111111, 'Wedding Singer, The (1998)'),\n",
       " ('111', 3.485294117647059, 'Truth About Cats & Dogs, The (1996)'),\n",
       " ('416', 3.484375, 'Old Yeller (1957)'),\n",
       " ('642', 3.4831460674157304, 'Grifters, The (1990)'),\n",
       " ('1136', 3.4827586206896552, 'Ghosts of Mississippi (1996)'),\n",
       " ('161', 3.481818181818182, 'Top Gun (1986)'),\n",
       " ('729', 3.4814814814814814, 'Nell (1994)'),\n",
       " ('250', 3.4771573604060912, 'Fifth Element, The (1997)'),\n",
       " ('865', 3.4761904761904763, 'Ice Storm, The (1997)'),\n",
       " ('740', 3.4761904761904763, 'Jane Eyre (1996)'),\n",
       " ('708', 3.4752475247524752, 'Sex, Lies, and Videotape (1989)'),\n",
       " ('943', 3.475, 'Killing Zoe (1994)'),\n",
       " ('1153', 3.473684210526316, 'Backbeat (1993)'),\n",
       " ('147', 3.4702702702702704, 'Long Kiss Goodnight, The (1996)'),\n",
       " ('959', 3.46875, 'Dazed and Confused (1993)'),\n",
       " ('73', 3.46875, 'Maverick (1994)'),\n",
       " ('888', 3.466666666666667, 'One Night Stand (1997)'),\n",
       " ('845', 3.465909090909091, 'That Thing You Do! (1996)'),\n",
       " ('277', 3.464788732394366, 'Restoration (1995)'),\n",
       " ('402', 3.4647058823529413, 'Ghost (1990)'),\n",
       " ('160', 3.463768115942029, 'Glengarry Glen Ross (1992)'),\n",
       " ('1218', 3.4615384615384617, 'Friday (1995)'),\n",
       " ('332', 3.4615384615384617, 'Kiss the Girls (1997)'),\n",
       " ('1099', 3.4615384615384617, 'Red Firecracker, Green Firecracker (1994)'),\n",
       " ('747', 3.4607843137254903, 'Benny & Joon (1993)'),\n",
       " ('727', 3.4603174603174605, 'Immortal Beloved (1994)'),\n",
       " ('806', 3.46, 'Menace II Society (1993)'),\n",
       " ('1016', 3.45985401459854, 'Con Air (1997)'),\n",
       " ('367', 3.458823529411765, 'Clueless (1995)'),\n",
       " ('1053', 3.4583333333333335, 'Now and Then (1995)'),\n",
       " ('690', 3.458064516129032, 'Seven Years in Tibet (1997)'),\n",
       " ('51', 3.45679012345679, 'Legends of the Fall (1994)'),\n",
       " ('744', 3.4565217391304346, 'Michael Collins (1996)'),\n",
       " ('212', 3.4565217391304346, 'Unbearable Lightness of Being, The (1988)'),\n",
       " ('218', 3.456140350877193, 'Cape Fear (1991)'),\n",
       " ('1067', 3.4545454545454546, 'Bottle Rocket (1996)'),\n",
       " ('33', 3.4536082474226806, 'Desperado (1995)'),\n",
       " ('26', 3.452054794520548, 'Brothers McMullen, The (1995)'),\n",
       " ('904', 3.45, 'Ma vie en rose (My Life in Pink) (1997)'),\n",
       " ('741', 3.4482758620689653, 'Last Supper, The (1995)'),\n",
       " ('24', 3.4482758620689653, 'Rumble in the Bronx (1995)'),\n",
       " ('230', 3.4472361809045227, 'Star Trek IV: The Voyage Home (1986)'),\n",
       " ('389', 3.4444444444444446, 'Black Beauty (1994)'),\n",
       " ('721', 3.4444444444444446, 'Mallrats (1995)'),\n",
       " ('899', 3.4444444444444446, 'Winter Guest, The (1997)'),\n",
       " ('267', 3.4444444444444446, 'unknown'),\n",
       " ('25', 3.4436860068259385, 'Birdcage, The (1996)'),\n",
       " ('288', 3.4414225941422596, 'Scream (1996)'),\n",
       " ('121', 3.438228438228438, 'Independence Day (ID4) (1996)'),\n",
       " ('1022', 3.4375, 'Fast, Cheap & Out of Control (1997)'),\n",
       " ('184', 3.4310344827586206, 'Army of Darkness (1993)'),\n",
       " ('109', 3.4307692307692306, 'Mystery Science Theater 3000: The Movie (1996)'),\n",
       " ('1109', 3.4285714285714284, 'Death and the Maiden (1994)'),\n",
       " ('1111', 3.4285714285714284, 'Double Happiness (1994)'),\n",
       " ('1152', 3.4285714285714284, 'In Love and War (1996)'),\n",
       " ('1075', 3.4285714285714284, 'Man of No Importance, A (1994)'),\n",
       " ('917', 3.4285714285714284, 'Mercury Rising (1998)'),\n",
       " ('403', 3.427860696517413, 'Batman (1989)'),\n",
       " ('751', 3.4277777777777776, 'Tomorrow Never Dies (1997)'),\n",
       " ('662', 3.426829268292683, 'Somewhere in Time (1980)'),\n",
       " ('697', 3.425, 'Basketball Diaries, The (1995)'),\n",
       " ('538', 3.4242424242424243, 'Anastasia (1997)'),\n",
       " ('328', 3.4237288135593222, 'Conspiracy Theory (1997)'),\n",
       " ('616', 3.421875, 'Night of the Living Dead (1968)'),\n",
       " ('1277', 3.4210526315789473, 'Set It Off (1996)'),\n",
       " ('13', 3.4184782608695654, 'Mighty Aphrodite (1995)'),\n",
       " ('68', 3.417910447761194, 'Crow, The (1994)'),\n",
       " ('658', 3.4177215189873418, 'Pump Up the Volume (1990)'),\n",
       " ('20', 3.4166666666666665, 'Angels and Insects (1995)'),\n",
       " ('1211', 3.4166666666666665, 'Blue Sky (1994)'),\n",
       " ('1483', 3.4166666666666665, 'Man in the Iron Mask, The (1998)'),\n",
       " ('1115', 3.413793103448276, 'Twelfth Night (1996)'),\n",
       " ('393', 3.4114583333333335, 'Mrs. Doubtfire (1993)'),\n",
       " ('955', 3.4081632653061225, 'Before Sunrise (1995)'),\n",
       " ('76', 3.4074074074074074, \"Carlito's Way (1993)\"),\n",
       " ('937', 3.4054054054054053, 'Thousand Acres, A (1997)'),\n",
       " ('295', 3.4025974025974026, 'Breakdown (1997)'),\n",
       " ('1138', 3.4, 'Best Men (1997)'),\n",
       " ('345', 3.4, 'Deconstructing Harry (1997)'),\n",
       " ('1175', 3.4, 'Hugo Pool (1997)'),\n",
       " ('1302', 3.4, 'Late Bloomers (1996)'),\n",
       " ('1431', 3.4, 'Legal Deceit (1997)'),\n",
       " ('649', 3.4, 'Once Upon a Time in America (1984)'),\n",
       " ('1406', 3.4, 'When Night Is Falling (1995)'),\n",
       " ('924', 3.4, 'White Squall (1996)'),\n",
       " ('762', 3.391304347826087, 'Beautiful Girls (1996)'),\n",
       " ('763', 3.389261744966443, 'Happy Gilmore (1996)'),\n",
       " ('448', 3.388235294117647, 'Omen, The (1976)'),\n",
       " ('770', 3.3859649122807016, 'Devil in a Blue Dress (1995)'),\n",
       " ('754', 3.3859649122807016, 'Red Corner (1997)'),\n",
       " ('387', 3.3846153846153846, 'Age of Innocence, The (1993)'),\n",
       " ('1192', 3.3846153846153846, 'Boys of St. Vincent, The (1993)'),\n",
       " ('889', 3.3846153846153846, 'Tango Lesson, The (1997)'),\n",
       " ('356', 3.381443298969072, 'Client, The (1994)'),\n",
       " ('206', 3.38, 'Akira (1988)'),\n",
       " ('1008', 3.3783783783783785, 'I Shot Andy Warhol (1996)'),\n",
       " ('596', 3.377952755905512, 'Hunchback of Notre Dame, The (1996)'),\n",
       " ('327', 3.3771428571428572, 'Cop Land (1997)'),\n",
       " ('854', 3.375, 'Bad Taste (1987)'),\n",
       " ('580',\n",
       "  3.375,\n",
       "  'Englishman Who Went Up a Hill, But Came Down a Mountain, The (1995)'),\n",
       " ('1226', 3.375, 'Night Falls on Manhattan (1997)'),\n",
       " ('1009', 3.375, 'Stealing Beauty (1996)'),\n",
       " ('291', 3.37007874015748, 'Absolute Power (1997)'),\n",
       " ('220', 3.3636363636363638, 'Mirror Has Two Faces, The (1996)'),\n",
       " ('1190', 3.3636363636363638, 'That Old Feeling (1997)'),\n",
       " ('1176', 3.3636363636363638, 'Welcome To Sarajevo (1997)'),\n",
       " ('255', 3.36046511627907, \"My Best Friend's Wedding (1997)\"),\n",
       " ('326', 3.36, 'G.I. Jane (1997)'),\n",
       " ('334', 3.359375, 'U Turn (1997)'),\n",
       " ('622', 3.358974358974359, 'Swiss Family Robinson (1960)'),\n",
       " ('844', 3.357142857142857, 'Freeway (1996)'),\n",
       " ('685', 3.356687898089172, 'Executive Decision (1996)'),\n",
       " ('226', 3.355421686746988, 'Die Hard 2 (1990)'),\n",
       " ('605', 3.3548387096774195, 'Meet Me in St. Louis (1944)'),\n",
       " ('214', 3.3508771929824563, 'Pink Floyd - The Wall (1982)'),\n",
       " ('451', 3.347058823529412, 'Grease (1978)'),\n",
       " ('1126', 3.34375, 'Old Man and the Sea, The (1958)'),\n",
       " ('44', 3.3417721518987342, 'Dolores Claiborne (1994)'),\n",
       " ('547', 3.341463414634146, \"Young Poisoner's Handbook, The (1995)\"),\n",
       " ('366', 3.3404255319148937, 'Dangerous Minds (1995)'),\n",
       " ('949', 3.3380281690140845, 'How to Make an American Quilt (1995)'),\n",
       " ('676', 3.3376623376623376, 'Crucible, The (1996)'),\n",
       " ('629', 3.3376623376623376, 'Victor/Victoria (1982)'),\n",
       " ('380', 3.336206896551724, 'Star Trek: Generations (1994)'),\n",
       " ('1154', 3.3333333333333335, 'Alphaville (1965)'),\n",
       " ('1405', 3.3333333333333335, \"Boy's Life 2 (1997)\"),\n",
       " ('1326', 3.3333333333333335, 'Boys (1996)'),\n",
       " ('1463', 3.3333333333333335, 'Boys, Les (1997)'),\n",
       " ('1468', 3.3333333333333335, 'Cure, The (1995)'),\n",
       " ('329', 3.3333333333333335, 'Desperate Measures (1998)'),\n",
       " ('781', 3.3333333333333335, 'French Kiss (1995)'),\n",
       " ('1388', 3.3333333333333335, 'Gabbeh (1996)'),\n",
       " ('1220', 3.3333333333333335, 'Higher Learning (1995)'),\n",
       " ('1607', 3.3333333333333335, 'Hurricane Streets (1998)'),\n",
       " ('1186', 3.3333333333333335, 'Inkwell, The (1994)'),\n",
       " ('964', 3.3333333333333335, 'Month by the Lake, A (1995)'),\n",
       " ('1602', 3.3333333333333335, 'Price Above Rubies, A (1998)'),\n",
       " ('296', 3.3333333333333335, 'Promesse, La (1996)'),\n",
       " ('394', 3.3333333333333335, 'Radioland Murders (1994)'),\n",
       " ('1155',\n",
       "  3.3333333333333335,\n",
       "  'Rendezvous in Paris (Rendez-vous de Paris, Les) (1995)'),\n",
       " ('1148', 3.3333333333333335, 'Tom & Viv (1994)'),\n",
       " ('592', 3.3333333333333335, 'True Crime (1995)'),\n",
       " ('1141', 3.3333333333333335, 'War Room, The (1993)'),\n",
       " ('625', 3.3292682926829267, 'Sword in the Stone, The (1963)'),\n",
       " ('925', 3.323529411764706, 'Unforgettable (1996)'),\n",
       " ('739', 3.323170731707317, 'Pretty Woman (1990)'),\n",
       " ('49', 3.3209876543209877, 'I.Q. (1994)'),\n",
       " ('866', 3.319327731092437, 'Michael (1996)'),\n",
       " ('532', 3.3181818181818183, 'Kama Sutra: A Tale of Love (1996)'),\n",
       " ('1168', 3.3181818181818183, 'Little Buddha (1993)'),\n",
       " ('953', 3.3181818181818183, 'Unstrung Heroes (1995)'),\n",
       " ('1134', 3.3157894736842106, 'Get on the Bus (1996)'),\n",
       " ('405', 3.313953488372093, 'Mission: Impossible (1996)'),\n",
       " ('755', 3.3125, 'Jumanji (1995)'),\n",
       " ('468', 3.3125, 'Rudy (1993)'),\n",
       " ('752', 3.3076923076923075, 'Replacement Killers, The (1998)'),\n",
       " ('534', 3.3076923076923075, 'Traveller (1997)'),\n",
       " ('301', 3.3043478260869565, 'In & Out (1997)'),\n",
       " ('399', 3.303370786516854, 'Three Musketeers, The (1993)'),\n",
       " ('5', 3.302325581395349, 'Copycat (1995)'),\n",
       " ('1268', 3.3, 'Bitter Moon (1992)'),\n",
       " ('1114', 3.3, 'Faithful (1996)'),\n",
       " ('536', 3.3, 'Ponette (1996)'),\n",
       " ('348', 3.2962962962962963, 'Desperate Measures (1998)'),\n",
       " ('882', 3.2941176470588234, 'Washington Square (1997)'),\n",
       " ('630', 3.2903225806451615, 'Great Race, The (1965)'),\n",
       " ('233', 3.2903225806451615, 'Under Siege (1992)'),\n",
       " ('1531',\n",
       "  3.2857142857142856,\n",
       "  'Far From Home: The Adventures of Yellow Dog (1995)'),\n",
       " ('1086', 3.2857142857142856, \"It's My Party (1995)\"),\n",
       " ('1200', 3.2857142857142856, 'Kim (1950)'),\n",
       " ('1264', 3.2857142857142856, 'Nothing to Lose (1994)'),\n",
       " ('279',\n",
       "  3.2857142857142856,\n",
       "  'Once Upon a Time... When We Were Colored (1995)'),\n",
       " ('935', 3.2857142857142856, 'Paradise Road (1997)'),\n",
       " ('553', 3.2857142857142856, 'Walk in the Clouds, A (1995)'),\n",
       " ('884', 3.2857142857142856, 'Year of the Horse (1997)'),\n",
       " ('550', 3.2847682119205297, 'Die Hard: With a Vengeance (1995)'),\n",
       " ('227', 3.279503105590062, 'Star Trek VI: The Undiscovered Country (1991)'),\n",
       " ('77', 3.2781456953642385, 'Firm, The (1993)'),\n",
       " ('715', 3.2758620689655173, 'To Die For (1995)'),\n",
       " ('319', 3.2738095238095237, 'Everyone Says I Love You (1996)'),\n",
       " ('1113', 3.272727272727273, 'Mrs. Parker and the Vicious Circle (1994)'),\n",
       " ('1195',\n",
       "  3.272727272727273,\n",
       "  'Strawberry and Chocolate (Fresa y chocolate) (1993)'),\n",
       " ('624', 3.272727272727273, 'Three Caballeros, The (1945)'),\n",
       " ('879', 3.2720588235294117, 'Peacemaker, The (1997)'),\n",
       " ('1058', 3.2666666666666666, 'War, The (1994)'),\n",
       " ('39', 3.264367816091954, 'Strange Days (1995)'),\n",
       " ('101', 3.26027397260274, 'Heavy Metal (1981)'),\n",
       " ('874', 3.2564102564102564, 'Career Girls (1997)'),\n",
       " ('339', 3.25531914893617, 'Mad City (1997)'),\n",
       " ('1118', 3.25531914893617, 'Up in Smoke (1978)'),\n",
       " ('455', 3.2551724137931033, \"Jackie Chan's First Strike (1996)\"),\n",
       " ('1664', 3.25, '8 Heads in a Duffel Bag (1997)'),\n",
       " ('1010', 3.25, 'Basquiat (1996)'),\n",
       " ('1174', 3.25, 'Caught (1996)'),\n",
       " ('1426', 3.25, 'Grace of My Heart (1996)'),\n",
       " ('1499', 3.25, 'Grosse Fatigue (1994)'),\n",
       " ('970', 3.25, 'Hear My Song (1991)'),\n",
       " ('1377', 3.25, 'Hotel de Love (1996)'),\n",
       " ('1296', 3.25, 'Indian Summer (1996)'),\n",
       " ('1381', 3.25, 'Losing Chase (1996)'),\n",
       " ('1261', 3.25, 'Run of the Country, The (1995)'),\n",
       " ('626', 3.25, 'So Dear to My Heart (1949)'),\n",
       " ('249',\n",
       "  3.246153846153846,\n",
       "  'Austin Powers: International Man of Mystery (1997)'),\n",
       " ('1051', 3.2439024390243905, 'Associate, The (1996)'),\n",
       " ('636', 3.241758241758242, 'Escape from New York (1981)'),\n",
       " ('54', 3.2403846153846154, 'Outbreak (1995)'),\n",
       " ('1045', 3.24, 'Fearless (1993)'),\n",
       " ('960', 3.24, 'Naked (1993)'),\n",
       " ('1017', 3.24, 'Trees Lounge (1996)'),\n",
       " ('947', 3.235294117647059, 'Big Blue, The (Grand bleu, Le) (1988)'),\n",
       " ('123', 3.234782608695652, 'Frighteners, The (1996)'),\n",
       " ('278', 3.2333333333333334, 'Bed of Roses (1996)'),\n",
       " ('271', 3.2322274881516586, 'Starship Troopers (1997)'),\n",
       " ('815', 3.232142857142857, 'One Fine Day (1996)'),\n",
       " ('714', 3.230769230769231, 'Carrington (1995)'),\n",
       " ('787', 3.230769230769231, 'Roommates (1995)'),\n",
       " ('1187', 3.230769230769231, 'Switchblade Sisters (1975)'),\n",
       " ('883', 3.230769230769231, 'Telling Lies in America (1997)'),\n",
       " ('1404', 3.230769230769231, 'Withnail and I (1987)'),\n",
       " ('159', 3.227722772277228, 'Basic Instinct (1992)'),\n",
       " ('627', 3.2266666666666666, 'Robin Hood: Prince of Thieves (1991)'),\n",
       " ('1011', 3.225806451612903, '2 Days in the Valley (1996)'),\n",
       " ('1044', 3.225, 'Paper, The (1994)'),\n",
       " ('898', 3.2241379310344827, 'Postman, The (1997)'),\n",
       " ('1282', 3.2222222222222223, 'Grass Harp, The (1995)'),\n",
       " ('905', 3.2222222222222223, 'Great Expectations (1998)'),\n",
       " ('1401', 3.2222222222222223, 'M. Butterfly (1993)'),\n",
       " ('1620', 3.2222222222222223, 'Sixth Man, The (1997)'),\n",
       " ('776', 3.2222222222222223, 'Three Wishes (1995)'),\n",
       " ('581', 3.2203389830508473, 'Kalifornia (1993)'),\n",
       " ('895', 3.2169811320754715, 'Scream 2 (1997)'),\n",
       " ('118', 3.2150170648464163, 'Twister (1996)'),\n",
       " ('140', 3.2131147540983607, 'Homeward Bound: The Incredible Journey (1993)'),\n",
       " ('1245', 3.210526315789474, \"Gridlock'd (1997)\"),\n",
       " ('477', 3.210526315789474, 'Matilda (1996)'),\n",
       " ('365', 3.2083333333333335, 'Powder (1995)'),\n",
       " ('562', 3.2083333333333335, 'Quick and the Dead, The (1995)'),\n",
       " ('232', 3.207920792079208, 'Young Guns (1988)'),\n",
       " ('2', 3.2061068702290076, 'GoldenEye (1995)'),\n",
       " ('16', 3.2051282051282053, 'French Twist (Gazon maudit) (1995)'),\n",
       " ('833', 3.204081632653061, 'Bulletproof (1996)'),\n",
       " ('148', 3.203125, 'Ghost and the Darkness, The (1996)'),\n",
       " ('799', 3.2, 'Boys Life (1995)'),\n",
       " ('1511', 3.2, 'Children of the Revolution (1996)'),\n",
       " ('1056', 3.2, 'Cronos (1992)'),\n",
       " ('390', 3.2, 'Fear of a Black Hat (1993)'),\n",
       " ('733', 3.2, 'Go Fish (1994)'),\n",
       " ('1397', 3.2, 'Of Human Bondage (1934)'),\n",
       " ('1055', 3.2, 'Simple Twist of Fate, A (1994)'),\n",
       " ('1344', 3.2, 'Story of Xinghua, The (1993)'),\n",
       " ('979', 3.2, 'Trigger Effect, The (1996)'),\n",
       " ('360', 3.2, 'Wonderland (1997)'),\n",
       " ('72', 3.193798449612403, 'Mask, The (1994)'),\n",
       " ('1041', 3.193548387096774, 'Forget Paris (1995)'),\n",
       " ('906', 3.1904761904761907, 'Oscar & Lucinda (1997)'),\n",
       " ('280', 3.1882352941176473, 'Up Close and Personal (1996)'),\n",
       " ('1018', 3.1875, 'Tie Me Up! Tie Me Down! (1990)'),\n",
       " ('559', 3.1824817518248176, 'Interview with the Vampire (1994)'),\n",
       " ('980', 3.1818181818181817, 'Mother Night (1996)'),\n",
       " ('1421', 3.1818181818181817, 'My Crazy Life (Mi vida loca) (1993)'),\n",
       " ('972', 3.1785714285714284, 'Passion Fish (1992)'),\n",
       " ('952', 3.1777777777777776, 'Blue in the Face (1995)'),\n",
       " ('749', 3.176470588235294, 'MatchMaker, The (1997)'),\n",
       " ('1046', 3.1739130434782608, 'Malice (1993)'),\n",
       " ('619', 3.171875, 'Extreme Measures (1996)'),\n",
       " ('219', 3.171171171171171, 'Nightmare on Elm Street, A (1984)'),\n",
       " ('880', 3.169491525423729, 'Soul Food (1997)'),\n",
       " ('535', 3.1666666666666665, 'Addicted to Love (1997)'),\n",
       " ('1069', 3.1666666666666665, 'Amateur (1994)'),\n",
       " ('1266',\n",
       "  3.1666666666666665,\n",
       "  'Bread and Chocolate (Pane e cioccolata) (1973)'),\n",
       " ('1591', 3.1666666666666665, 'Duoluo tianshi (1995)'),\n",
       " ('927',\n",
       "  3.1666666666666665,\n",
       "  'Flower of My Secret, The (Flor de mi secreto, La) (1995)'),\n",
       " ('967', 3.1666666666666665, 'Little Lord Fauntleroy (1936)'),\n",
       " ('916', 3.1666666666666665, 'Lost in Space (1998)'),\n",
       " ('1166', 3.1666666666666665, 'Love & Human Remains (1993)'),\n",
       " ('1328', 3.1666666666666665, 'Of Love and Shadows (1994)'),\n",
       " ('244', 3.1666666666666665, \"Smilla's Sense of Snow (1997)\"),\n",
       " ('593', 3.1666666666666665, 'Stalingrad (1993)'),\n",
       " ('1068',\n",
       "  3.1666666666666665,\n",
       "  \"Star Maker, The (Uomo delle stelle, L') (1995)\"),\n",
       " ('1469', 3.1666666666666665, 'Tom and Huck (1995)'),\n",
       " ('371', 3.1641791044776117, 'Bridges of Madison County, The (1995)'),\n",
       " ('864', 3.1627906976744184, 'My Fellow Americans (1996)'),\n",
       " ('312', 3.1625, 'Midnight in the Garden of Good and Evil (1997)'),\n",
       " ('1035', 3.161764705882353, 'Cool Runnings (1993)'),\n",
       " ('995', 3.161290322580645, 'Kiss Me, Guido (1997)'),\n",
       " ('284', 3.160621761658031, 'Tin Cup (1996)'),\n",
       " ('975', 3.159090909090909, 'Fear (1996)'),\n",
       " ('217', 3.158333333333333, \"Bram Stoker's Dracula (1992)\"),\n",
       " ('294', 3.156701030927835, 'Liar Liar (1997)'),\n",
       " ('716', 3.1551724137931036, 'Home for the Holidays (1995)'),\n",
       " ('544', 3.1549295774647885, \"Things to Do in Denver when You're Dead (1995)\"),\n",
       " ('731', 3.1538461538461537, 'Corrina, Corrina (1994)'),\n",
       " ('1281', 3.1538461538461537, 'Manny & Lo (1996)'),\n",
       " ('785', 3.1538461538461537, 'Only You (1994)'),\n",
       " ('578', 3.152173913043478, 'Demolition Man (1993)'),\n",
       " ('597', 3.150485436893204, 'Eraser (1996)'),\n",
       " ('689', 3.1494252873563218, 'Jackal, The (1997)'),\n",
       " ('842', 3.1481481481481484, 'Pollyanna (1960)'),\n",
       " ('946', 3.1475409836065573, 'Fox and the Hound, The (1981)'),\n",
       " ('723', 3.1470588235294117, 'Boys on the Side (1995)'),\n",
       " ('350', 3.1463414634146343, 'Fallen (1998)'),\n",
       " ('281', 3.143835616438356, 'River Wild, The (1994)'),\n",
       " ('1294', 3.142857142857143, 'Ayn Rand: A Sense of Life (1997)'),\n",
       " ('1514', 3.142857142857143, 'Dream With the Fishes (1997)'),\n",
       " ('409', 3.142857142857143, 'Jack (1996)'),\n",
       " ('1042', 3.142857142857143, 'Just Cause (1995)'),\n",
       " ('1313', 3.142857142857143, 'Palmetto (1998)'),\n",
       " ('1198', 3.142857142857143, 'Purple Noon (1960)'),\n",
       " ('1171', 3.142857142857143, 'Wild Reeds (1994)'),\n",
       " ('62', 3.141732283464567, 'Stargate (1994)'),\n",
       " ('696', 3.1392405063291138, 'City Hall (1996)'),\n",
       " ('324', 3.136, 'Lost Highway (1997)'),\n",
       " ('1446', 3.1333333333333333, 'Bye Bye, Love (1995)'),\n",
       " ('1285', 3.1333333333333333, 'Princess Caraboo (1994)'),\n",
       " ('1315', 3.130434782608696, 'Inventing the Abbotts (1997)'),\n",
       " ('962', 3.130434782608696, 'Ruby in Paradise (1993)'),\n",
       " ('321', 3.1301775147928996, 'Mother (1996)'),\n",
       " ('102', 3.1296296296296298, 'Aristocats, The (1970)'),\n",
       " ('410', 3.1296296296296298, 'Kingpin (1996)'),\n",
       " ('473', 3.126984126984127, 'James and the Giant Peach (1996)'),\n",
       " ('1238', 3.125, 'Full Speed (1996)'),\n",
       " ('1077', 3.125, 'Love and a .45 (1994)'),\n",
       " ('748', 3.1234177215189876, 'Saint, The (1997)'),\n",
       " ('458', 3.1222222222222222, 'Nixon (1995)'),\n",
       " ('17', 3.119565217391304, 'From Dusk Till Dawn (1996)'),\n",
       " ('557', 3.1176470588235294, 'Farinelli: il castrato (1994)'),\n",
       " ('928', 3.1153846153846154, 'Craft, The (1996)'),\n",
       " ('290', 3.1145833333333335, 'Fierce Creatures (1997)'),\n",
       " ('903', 3.111111111111111, 'Afterglow (1997)'),\n",
       " ('812', 3.111111111111111, 'Andre (1994)'),\n",
       " ('1004', 3.111111111111111, 'Geronimo: An American Legend (1993)'),\n",
       " ('1150', 3.111111111111111, 'Last Dance (1996)'),\n",
       " ('766', 3.111111111111111, 'Man of the Year (1995)'),\n",
       " ('229', 3.111111111111111, 'Star Trek III: The Search for Spock (1984)'),\n",
       " ('245', 3.1083333333333334, \"Devil's Own, The (1997)\"),\n",
       " ('27', 3.1052631578947367, 'Bad Boys (1995)'),\n",
       " ('1117', 3.1052631578947367, 'Surviving Picasso (1996)'),\n",
       " ('155', 3.1020408163265305, 'Dirty Dancing (1987)'),\n",
       " ('1503', 3.1, 'Gold Diggers: The Secret of Bear Mountain (1995)'),\n",
       " ('1400', 3.1, 'Picture Bride (1995)'),\n",
       " ('570', 3.1, 'Wyatt Earp (1994)'),\n",
       " ('63', 3.097560975609756, 'Santa Clause, The (1994)'),\n",
       " ('343', 3.096774193548387, 'Alien: Resurrection (1997)'),\n",
       " ('797', 3.096774193548387, 'Timecop (1994)'),\n",
       " ('417', 3.095890410958904, 'Parent Trap, The (1961)'),\n",
       " ('872', 3.0952380952380953, 'Love Jones (1997)'),\n",
       " ('595', 3.09375, 'Fan, The (1996)'),\n",
       " ('620', 3.0930232558139537, 'Chamber, The (1996)'),\n",
       " ('990', 3.090909090909091, 'Anna Karenina (1997)'),\n",
       " ('341', 3.090909090909091, 'Critical Care (1997)'),\n",
       " ('94', 3.0875912408759123, 'Home Alone (1990)'),\n",
       " ('322', 3.0871559633027523, 'Murder at 1600 (1997)'),\n",
       " ('1093', 3.0869565217391304, 'Live Nude Girls (1995)'),\n",
       " ('796', 3.0833333333333335, 'Speechless (1994)'),\n",
       " ('472', 3.0822784810126582, 'Dragonheart (1996)'),\n",
       " ('41', 3.081081081081081, 'Billy Madison (1995)'),\n",
       " ('712', 3.0784313725490198, 'Tin Men (1987)'),\n",
       " ('768', 3.076923076923077, 'Casper (1995)'),\n",
       " ('108', 3.076923076923077, 'Kids in the Hall: Brain Candy (1996)'),\n",
       " ('886', 3.0754716981132075, 'Life Less Ordinary, A (1997)'),\n",
       " ('1170', 3.074074074074074, 'Spanking the Monkey (1994)'),\n",
       " ('142', 3.0701754385964914, 'Bedknobs and Broomsticks (1971)'),\n",
       " ('846', 3.0681818181818183, 'To Gillian on Her 37th Birthday (1996)'),\n",
       " ('561', 3.0677966101694913, \"Mary Shelley's Frankenstein (1994)\"),\n",
       " ('941', 3.0652173913043477, 'With Honors (1994)'),\n",
       " ('772', 3.061224489795918, 'Kids (1995)'),\n",
       " ('1014', 3.061224489795918, \"Romy and Michele's High School Reunion (1997)\"),\n",
       " ('682', 3.06, 'I Know What You Did Last Summer (1997)'),\n",
       " ('1107', 3.0555555555555554, 'Beyond Rangoon (1995)'),\n",
       " ('90', 3.0526315789473686, 'So I Married an Axe Murderer (1993)'),\n",
       " ('1265', 3.0526315789473686, 'Star Maps (1997)'),\n",
       " ('1060', 3.051282051282051, 'Adventures of Pinocchio, The (1996)'),\n",
       " ('67', 3.0485436893203883, 'Ace Ventura: Pet Detective (1994)'),\n",
       " ('679', 3.046728971962617, 'Conan the Barbarian (1981)'),\n",
       " ('821', 3.0454545454545454, 'Mrs. Winterbourne (1996)'),\n",
       " ('761', 3.0454545454545454, 'Nick of Time (1995)'),\n",
       " ('704', 3.0416666666666665, 'House of the Spirits, The (1993)'),\n",
       " ('1028', 3.0405405405405403, 'Grumpier Old Men (1995)'),\n",
       " ('825', 3.036144578313253, 'Arrival, The (1996)'),\n",
       " ('85', 3.0344827586206895, 'Ref, The (1994)'),\n",
       " ('449', 3.034188034188034, 'Star Trek: The Motion Picture (1979)'),\n",
       " ('3', 3.033333333333333, 'Four Rooms (1995)'),\n",
       " ('546', 3.031496062992126, 'Broken Arrow (1996)'),\n",
       " ('974', 3.03125, 'Eye for an Eye (1996)'),\n",
       " ('637', 3.026315789473684, 'Howling, The (1981)'),\n",
       " ('330', 3.024390243902439, '187 (1997)'),\n",
       " ('640', 3.024390243902439, 'Cook the Thief His Wife & Her Lover, The (1989)'),\n",
       " ('720', 3.0232558139534884, 'First Knight (1995)'),\n",
       " ('728', 3.022222222222222, 'Junior (1994)'),\n",
       " ('576', 3.021505376344086, 'Cliffhanger (1993)'),\n",
       " ('702', 3.018867924528302, 'Barcelona (1994)'),\n",
       " ('476', 3.01875, 'First Wives Club, The (1996)'),\n",
       " ('1048', 3.0136986301369864, \"She's the One (1996)\"),\n",
       " ('38', 3.0083333333333333, 'Net, The (1995)'),\n",
       " ('1440', 3.0, 'Above the Rim (1994)'),\n",
       " ('1538', 3.0, 'All Over Me (1997)'),\n",
       " ('1619', 3.0, 'All Things Fair (1996)'),\n",
       " ('1454', 3.0, 'Angel and the Badman (1947)'),\n",
       " ('1603', 3.0, 'Angela (1995)'),\n",
       " ('1679', 3.0, 'B. Monkey (1998)'),\n",
       " ('1066', 3.0, 'Balto (1995)'),\n",
       " ('1649', 3.0, 'Big One, The (1997)'),\n",
       " ('1248', 3.0, 'Blink (1994)'),\n",
       " ('670', 3.0, 'Body Snatchers (1993)'),\n",
       " ('75', 3.0, 'Brother Minister: The Assassination of Malcolm X (1994)'),\n",
       " ('698', 3.0, 'Browning Version, The (1994)'),\n",
       " ('1104', 3.0, \"C'est arrivé près de chez vous (1992)\"),\n",
       " ('1085', 3.0, 'Carried Away (1996)'),\n",
       " ('1447', 3.0, 'Century (1993)'),\n",
       " ('918', 3.0, 'City of Angels (1998)'),\n",
       " ('1267', 3.0, 'Clockers (1995)'),\n",
       " ('1252', 3.0, 'Contempt (Mépris, Le) (1963)'),\n",
       " ('460', 3.0, 'Crossing Guard, The (1995)'),\n",
       " ('1156', 3.0, 'Cyclo (1995)'),\n",
       " ('1641', 3.0, 'Dadetown (1995)'),\n",
       " ('600', 3.0, \"Daniel Defoe's Robinson Crusoe (1996)\"),\n",
       " ('1306', 3.0, 'Delta of Venus (1994)'),\n",
       " ('1288', 3.0, 'Denise Calls Up (1995)'),\n",
       " ('1550', 3.0, 'Destiny Turns on the Radio (1995)'),\n",
       " ('43', 3.0, 'Disclosure (1994)'),\n",
       " ('780', 3.0, 'Dumb & Dumber (1994)'),\n",
       " ('1640', 3.0, 'Eighth Day, The (1996)'),\n",
       " ('1535', 3.0, \"Enfer, L' (1994)\"),\n",
       " ('822', 3.0, 'Faces (1968)'),\n",
       " ('74', 3.0, 'Faster Pussycat! Kill! Kill! (1965)'),\n",
       " ('1490', 3.0, 'Fausto (1993)'),\n",
       " ('1520', 3.0, 'Fear, The (1995)'),\n",
       " ('677', 3.0, 'Fire on the Mountain (1996)'),\n",
       " ('869', 3.0, 'Fools Rush In (1997)'),\n",
       " ('1488', 3.0, 'Germinal (1993)'),\n",
       " ('1637', 3.0, 'Girls Town (1996)'),\n",
       " ('1523', 3.0, 'Good Man in Africa, A (1994)'),\n",
       " ('1647', 3.0, 'Hana-bi (1997)'),\n",
       " ('992', 3.0, 'Head Above Water (1996)'),\n",
       " ('337', 3.0, 'House of Yes, The (1997)'),\n",
       " ('1617', 3.0, 'Hugo Pool (1997)'),\n",
       " ('1120', 3.0, \"I'm Not Rappaport (1996)\"),\n",
       " ('1611', 3.0, 'Intimate Relations (1996)'),\n",
       " ('1439', 3.0, \"Jason's Lyric (1994)\"),\n",
       " ('1543', 3.0, 'Johns (1996)'),\n",
       " ('149', 3.0, 'Jude (1996)'),\n",
       " ('1216', 3.0, 'Kissed (1996)'),\n",
       " ('1632', 3.0, 'Land and Freedom (Tierra y libertad) (1995)'),\n",
       " ...]"
      ]
     },
     "execution_count": 203,
     "metadata": {},
     "output_type": "execute_result"
    }
   ],
   "source": [
    "out = write_ratings(avg_data, u_item)\n",
    "out"
   ]
  },
  {
   "cell_type": "markdown",
   "metadata": {},
   "source": [
    "## Exercise 5 [stock prices]\n",
    "Write code to produce a line plot of the `Adj Close` information for a year of **AMZN** stock prices retrieved from yahoo.com."
   ]
  },
  {
   "cell_type": "code",
   "execution_count": 207,
   "metadata": {},
   "outputs": [
    {
     "data": {
      "image/png": "[encoded data removed]",
      "text/plain": [
       "<Figure size 432x288 with 1 Axes>"
      ]
     },
     "metadata": {
      "needs_background": "light"
     },
     "output_type": "display_data"
    }
   ],
   "source": [
    "import matplotlib.pyplot as plt\n",
    "%matplotlib inline\n",
    "\n",
    "y = []\n",
    "with open('AMZN.csv') as infile:\n",
    "    # need to skip the header line\n",
    "    for line in infile.readlines()[1:]:\n",
    "        *_, adj, x = line.split(',')\n",
    "        y.append(float(adj))        # append all the adj close values\n",
    "\n",
    "# now get x-axis values\n",
    "x = range(1, len(y)+1)\n",
    "\n",
    "plt.plot(x,y)\n",
    "plt.xlabel('Days')\n",
    "plt.ylabel('Adj. Close Price')\n",
    "plt.title('Stock price of AMZN in 2018')\n",
    "plt.show()"
   ]
  },
  {
   "cell_type": "markdown",
   "metadata": {},
   "source": [
    "## Exercise 6 [one hot encoding]\n",
    "Write a function that takes a list of values and returns a one-hot encoded list of lists, with each value followed by its encoding."
   ]
  },
  {
   "cell_type": "code",
   "execution_count": 223,
   "metadata": {},
   "outputs": [],
   "source": [
    "def one_hot_encoding(li):\n",
    "    '''\n",
    "    Takes a list of values and  returns a one-hot encoded list of \n",
    "    lists, with each value followed by its encoding (as a list).\n",
    "    '''\n",
    "    # create initial list with all 0's in place\n",
    "    res = []\n",
    "    for idx, elem in enumerate(li):\n",
    "        enc = [0]*len(li)\n",
    "        enc[idx] += 1\n",
    "        res.append([elem, enc])\n",
    "    return res"
   ]
  },
  {
   "cell_type": "code",
   "execution_count": 225,
   "metadata": {},
   "outputs": [
    {
     "data": {
      "text/plain": [
       "[['ford', [1, 0, 0, 0, 0]],\n",
       " ['honda', [0, 1, 0, 0, 0]],\n",
       " ['toyota', [0, 0, 1, 0, 0]],\n",
       " ['mazda', [0, 0, 0, 1, 0]],\n",
       " ['subaru', [0, 0, 0, 0, 1]]]"
      ]
     },
     "execution_count": 225,
     "metadata": {},
     "output_type": "execute_result"
    }
   ],
   "source": [
    "test = ['alpha','beta', 'gamma']\n",
    "one_hot_encoding(['ford','honda', 'toyota', 'mazda', 'subaru'])"
   ]
  },
  {
   "cell_type": "markdown",
   "metadata": {},
   "source": [
    "## Exercise 7 [Dense to sparse matrix]\n",
    "Write a function that takes a dense matrix and converts it to a sparse matrix in 'triples' form."
   ]
  },
  {
   "cell_type": "code",
   "execution_count": 235,
   "metadata": {},
   "outputs": [],
   "source": [
    "def dense2sparse(m):\n",
    "    '''\n",
    "    Takes a normal 2-d matrix and returns a sparse representation. This\n",
    "    is a list of tuples in the form (i,j,value) for all values that are\n",
    "    not zero.\n",
    "    '''\n",
    "    ans = [(i,j,val) for i,row in enumerate(m) for j,val in enumerate(row) if val!=0]\n",
    "    return ans"
   ]
  },
  {
   "cell_type": "code",
   "execution_count": 236,
   "metadata": {},
   "outputs": [
    {
     "data": {
      "text/plain": [
       "[(0, 0, 1), (0, 2, 2), (1, 2, 3)]"
      ]
     },
     "execution_count": 236,
     "metadata": {},
     "output_type": "execute_result"
    }
   ],
   "source": [
    "dense2sparse(\n",
    "[ [1, 0, 2],\n",
    "[0, 0, 3]\n",
    "])"
   ]
  }
 ],
 "metadata": {
  "kernelspec": {
   "display_name": "Python 3",
   "language": "python",
   "name": "python3"
  },
  "language_info": {
   "codemirror_mode": {
    "name": "ipython",
    "version": 3
   },
   "file_extension": ".py",
   "mimetype": "text/x-python",
   "name": "python",
   "nbconvert_exporter": "python",
   "pygments_lexer": "ipython3",
   "version": "3.7.3"
  }
 },
 "nbformat": 4,
 "nbformat_minor": 2
}
