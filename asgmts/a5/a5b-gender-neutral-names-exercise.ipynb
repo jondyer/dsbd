{
 "cells": [
  {
   "cell_type": "markdown",
   "metadata": {},
   "source": [
    "# Assignment 5b\n",
    "## Jonathan Dyer\n",
    "## jbdyer\n",
    "Due:  Thursday, October 31, 11:59 pm"
   ]
  },
  {
   "cell_type": "markdown",
   "metadata": {},
   "source": [
    "## Determining the most popular gender neutral names"
   ]
  },
  {
   "cell_type": "markdown",
   "metadata": {},
   "source": [
    "The United States Social Security administration keeps records of all births and provides some of this [data](https://www.ssa.gov/oact/babynames) to the public in a file where each line is of the format:\n",
    "\n",
    "KY,F,1912,Dorothy,209\n",
    "\n",
    "this is to be interpreted as \"In 1912, 209 female babies were born in Kentucky who were given the first name Dorothy\". \n",
    "\n",
    "In this exercise you are to write a pyspark program that works with RDDs to determine the most popular gender neutral names.  We define a gender neutral name as a baby name that has been given to both a boy and girl baby.  We define a popular gender neutral name as a name where the ratio of the number of boys with that name to the number of girls with that name is in the range \\[0.25..4\\]\n",
    "\n",
    "#### Outline of the steps involved:\n",
    "\n",
    "1. Read in all babynames into an RDD with `Names` named tuple\n",
    "2. Determine a count of all female names\n",
    "3. Determine all gender neutral names by joining male_names and female_names\n",
    "4. Filter the neutral names so that the ratio lies between 0.25 and 4 (inclusive)\n",
    "5. Sort the filtered names in descending order by the total number of babies with that name\n",
    "\n",
    "#### Working with groups in an RDD\n",
    "\n",
    "Recall that our pespective is that an RDD is super-power enabled list --- resilience and distribution are builtin. As with regular Python lists elements of an RDD can in general be anything.  Some RDD operations require a _key_ e.g., `reduceByKey`, `groupByKey`, `sortByKey`.  In such instance the RDD has to have the form `[ (key, value), (key, value), ...]` i.e., the top  level has to be top of two elements--- a key and a value.  The value itself can have any structure. Hence, on occasion you may have to rearrange the elements of an RDD.  For example if you have an RDD with \\[('Jack', 87), ('Jill', 92)\\] and you want to sort you will need to do:\n",
    "```\n",
    "r.map(lambda x: ( x[1], x[0] ))  # rearrange the tuples\n",
    " .sortByValues()\n",
    "```\n"
   ]
  },
  {
   "cell_type": "markdown",
   "metadata": {},
   "source": [
    "The whole babynames file from the SSA has 6028151 records (lines) and information on 311,155,210 babies.   To facilitate development, I've sampled 100,000 lines in the file `babynames-100k.csv`.  During development, working with the sample.  Once done, set `sample` to `False` run your code and submit your notebook"
   ]
  },
  {
   "cell_type": "code",
   "execution_count": 1,
   "metadata": {},
   "outputs": [],
   "source": [
    "sample = False\n",
    "if sample:\n",
    "    file_name = 'babynames-100k.csv'\n",
    "else:\n",
    "    file_name = 'babynames2018_state_gender_year_fname_number.csv'"
   ]
  },
  {
   "cell_type": "markdown",
   "metadata": {},
   "source": [
    "#### Initialize"
   ]
  },
  {
   "cell_type": "code",
   "execution_count": 2,
   "metadata": {},
   "outputs": [],
   "source": [
    "import findspark\n",
    "findspark.init()\n",
    "from pyspark import SparkContext\n",
    "sc = SparkContext() "
   ]
  },
  {
   "cell_type": "code",
   "execution_count": 3,
   "metadata": {},
   "outputs": [],
   "source": [
    "from collections import namedtuple\n",
    "Names = namedtuple('Names', \n",
    "                   ['state', 'gender', 'year', 'fname', 'number'])"
   ]
  },
  {
   "cell_type": "markdown",
   "metadata": {},
   "source": [
    "### 1. read baby names"
   ]
  },
  {
   "cell_type": "code",
   "execution_count": 5,
   "metadata": {},
   "outputs": [
    {
     "data": {
      "text/plain": [
       "[Names(state='AK', gender='F', year='1910', fname='Mary', number='14'),\n",
       " Names(state='AK', gender='F', year='1910', fname='Annie', number='12'),\n",
       " Names(state='AK', gender='F', year='1910', fname='Anna', number='10'),\n",
       " Names(state='AK', gender='F', year='1910', fname='Margaret', number='8'),\n",
       " Names(state='AK', gender='F', year='1910', fname='Helen', number='7')]"
      ]
     },
     "execution_count": 5,
     "metadata": {},
     "output_type": "execute_result"
    }
   ],
   "source": [
    "lines = sc.textFile(file_name)\n",
    "baby_names = lines.map(lambda line: Names(*line.split(',')))\n",
    "baby_names.take(5)"
   ]
  },
  {
   "cell_type": "markdown",
   "metadata": {},
   "source": [
    "### 2. count of male names"
   ]
  },
  {
   "cell_type": "code",
   "execution_count": 6,
   "metadata": {},
   "outputs": [],
   "source": [
    "def seq(acc, elem):\n",
    "    return acc + int(elem)\n",
    "\n",
    "def comb(a1, a2):\n",
    "    return a1+a2"
   ]
  },
  {
   "cell_type": "code",
   "execution_count": 7,
   "metadata": {},
   "outputs": [],
   "source": [
    "male_names = (\n",
    "    baby_names.filter(lambda x: x.gender=='M')\n",
    "            .map(lambda x: (x.fname, x.number))\n",
    "            .aggregateByKey(0, seq, comb)\n",
    "            .map(lambda x: (x[1], x[0]))\n",
    "            )"
   ]
  },
  {
   "cell_type": "code",
   "execution_count": 8,
   "metadata": {},
   "outputs": [
    {
     "data": {
      "text/plain": [
       "[(4997327, 'James'),\n",
       " (4869607, 'John'),\n",
       " (4734038, 'Robert'),\n",
       " (4349307, 'Michael'),\n",
       " (3890923, 'William')]"
      ]
     },
     "execution_count": 8,
     "metadata": {},
     "output_type": "execute_result"
    }
   ],
   "source": [
    "(male_names.sortByKey(ascending=False)\n",
    "            .take(5))"
   ]
  },
  {
   "cell_type": "markdown",
   "metadata": {},
   "source": [
    "### 3. count of female names"
   ]
  },
  {
   "cell_type": "code",
   "execution_count": 9,
   "metadata": {},
   "outputs": [],
   "source": [
    "female_names = (\n",
    "    baby_names.filter(lambda x: x.gender=='F')\n",
    "            .map(lambda x: (x.fname, x.number))\n",
    "            .aggregateByKey(0, seq, comb)\n",
    "            .map(lambda x: (x[1], x[0]))\n",
    "            )"
   ]
  },
  {
   "cell_type": "code",
   "execution_count": 10,
   "metadata": {},
   "outputs": [
    {
     "data": {
      "text/plain": [
       "[(3741196, 'Mary'),\n",
       " (1569022, 'Patricia'),\n",
       " (1537684, 'Elizabeth'),\n",
       " (1466161, 'Jennifer'),\n",
       " (1447943, 'Linda')]"
      ]
     },
     "execution_count": 10,
     "metadata": {},
     "output_type": "execute_result"
    }
   ],
   "source": [
    "(female_names.sortByKey(ascending=False)\n",
    "            .take(5))"
   ]
  },
  {
   "cell_type": "markdown",
   "metadata": {},
   "source": [
    "### 3. gender neutral names\n",
    "\n",
    "Please note that you join two RDDs on their keys i.e., the first element of the tuple."
   ]
  },
  {
   "cell_type": "code",
   "execution_count": 11,
   "metadata": {},
   "outputs": [
    {
     "data": {
      "text/plain": [
       "3042"
      ]
     },
     "execution_count": 11,
     "metadata": {},
     "output_type": "execute_result"
    }
   ],
   "source": [
    "m1 = male_names.map(lambda x: (x[1], x[0]))\n",
    "f1 = female_names.map(lambda x: (x[1], x[0]))\n",
    "neutral_names = m1.join(f1)\n",
    "neutral_names.count()"
   ]
  },
  {
   "cell_type": "code",
   "execution_count": 12,
   "metadata": {},
   "outputs": [
    {
     "data": {
      "text/plain": [
       "[('Jack', (676738, 503)),\n",
       " ('Walter', (563180, 814)),\n",
       " ('Fred', (297485, 119)),\n",
       " ('Raymond', (750015, 773)),\n",
       " ('Norman', (243136, 72))]"
      ]
     },
     "execution_count": 12,
     "metadata": {},
     "output_type": "execute_result"
    }
   ],
   "source": [
    "neutral_names.take(5)"
   ]
  },
  {
   "cell_type": "markdown",
   "metadata": {},
   "source": [
    "### 4. top 10 most popular neutral names"
   ]
  },
  {
   "cell_type": "code",
   "execution_count": 13,
   "metadata": {},
   "outputs": [
    {
     "data": {
      "text/plain": [
       "[(533413, ('Willie', (412266, 121147))),\n",
       " (501077, ('Jordan', (371032, 130045))),\n",
       " (425506, ('Taylor', (105876, 319630))),\n",
       " (367819, ('Leslie', (103893, 263926))),\n",
       " (348205, ('Jamie', (82429, 265776))),\n",
       " (322741, ('Angel', (229363, 93378))),\n",
       " (271308, ('Lee', (215694, 55614))),\n",
       " (237358, ('Dana', (48707, 188651))),\n",
       " (229814, ('Jessie', (99340, 130474))),\n",
       " (226814, ('Marion', (63382, 163432)))]"
      ]
     },
     "execution_count": 13,
     "metadata": {},
     "output_type": "execute_result"
    }
   ],
   "source": [
    "top10 = (\n",
    "    neutral_names.filter(lambda x: (0.25 <= x[1][0] / x[1][1] <= 4))\n",
    "                 .map(lambda x: (sum(x[1]), x))\n",
    "                 .sortByKey(ascending=False)\n",
    ")\n",
    "top10.take(10)"
   ]
  }
 ],
 "metadata": {
  "kernelspec": {
   "display_name": "Python 3",
   "language": "python",
   "name": "python3"
  },
  "language_info": {
   "codemirror_mode": {
    "name": "ipython",
    "version": 3
   },
   "file_extension": ".py",
   "mimetype": "text/x-python",
   "name": "python",
   "nbconvert_exporter": "python",
   "pygments_lexer": "ipython3",
   "version": "3.7.3"
  },
  "nteract": {
   "version": "0.15.0"
  }
 },
 "nbformat": 4,
 "nbformat_minor": 2
}
