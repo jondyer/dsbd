{
 "cells": [
  {
   "cell_type": "markdown",
   "metadata": {},
   "source": [
    "### Jonathan Dyer\n",
    "### jbdyer"
   ]
  },
  {
   "cell_type": "markdown",
   "metadata": {},
   "source": [
    "## Part 2: Data cleansing and plotting\n"
   ]
  },
  {
   "cell_type": "code",
   "execution_count": 1,
   "metadata": {},
   "outputs": [],
   "source": [
    "import pandas as pd\n",
    "import matplotlib.pyplot as plt\n",
    "import numpy as np\n",
    "\n",
    "%matplotlib inline"
   ]
  },
  {
   "cell_type": "markdown",
   "metadata": {},
   "source": [
    "First we write out the official Benford's law formula as a function."
   ]
  },
  {
   "cell_type": "code",
   "execution_count": 2,
   "metadata": {},
   "outputs": [],
   "source": [
    "def benford(d):\n",
    "    '''\n",
    "    This function takes a digit from 1 to 9 and returns the result of\n",
    "    calculating the formula for Benford's Law with that digit.\n",
    "    '''\n",
    "    return np.log10(1 + 1/d)"
   ]
  },
  {
   "cell_type": "markdown",
   "metadata": {},
   "source": [
    "Plot a line graph of the formula."
   ]
  },
  {
   "cell_type": "code",
   "execution_count": 3,
   "metadata": {},
   "outputs": [
    {
     "data": {
      "image/png": "[encoded data removed]",
      "text/plain": [
       "<Figure size 432x288 with 1 Axes>"
      ]
     },
     "metadata": {
      "needs_background": "light"
     },
     "output_type": "display_data"
    }
   ],
   "source": [
    "X = np.arange(1, 10)   # get the x values\n",
    "Y = np.array([benford(i) for i in X])  # and the y values\n",
    "\n",
    "plt.plot(X,Y)\n",
    "plt.xlabel('Digit')\n",
    "plt.ylabel('Frequency')\n",
    "plt.title(\"Benford's Law\")\n",
    "plt.show()"
   ]
  },
  {
   "cell_type": "markdown",
   "metadata": {},
   "source": [
    "Now use Pandas to read the table of tallest structures in the world and plot the frequency\n",
    "of occurrence of the leading digit in height on the same graph as above."
   ]
  },
  {
   "cell_type": "code",
   "execution_count": 5,
   "metadata": {},
   "outputs": [],
   "source": [
    "# first define a function to get the first digit from a value\n",
    "def first_digit(x):\n",
    "    '''\n",
    "    This function returns the first digit of the given number as an int.\n",
    "    '''\n",
    "    return int(str(x)[0])"
   ]
  },
  {
   "cell_type": "code",
   "execution_count": 6,
   "metadata": {},
   "outputs": [],
   "source": [
    "# now retrieve the data from the web page\n",
    "tables = pd.read_html('https://en.wikipedia.org/wiki/List_of_tallest_buildings_and_structures')\n",
    "data = tables[3]"
   ]
  },
  {
   "cell_type": "code",
   "execution_count": 7,
   "metadata": {},
   "outputs": [
    {
     "data": {
      "text/html": [
       "<div>\n",
       "<style scoped>\n",
       "    .dataframe tbody tr th:only-of-type {\n",
       "        vertical-align: middle;\n",
       "    }\n",
       "\n",
       "    .dataframe tbody tr th {\n",
       "        vertical-align: top;\n",
       "    }\n",
       "\n",
       "    .dataframe thead th {\n",
       "        text-align: right;\n",
       "    }\n",
       "</style>\n",
       "<table border=\"1\" class=\"dataframe\">\n",
       "  <thead>\n",
       "    <tr style=\"text-align: right;\">\n",
       "      <th></th>\n",
       "      <th>Category</th>\n",
       "      <th>Structure</th>\n",
       "      <th>Country</th>\n",
       "      <th>City</th>\n",
       "      <th>Height (meters)</th>\n",
       "      <th>Height (feet)</th>\n",
       "      <th>Year built</th>\n",
       "      <th>Coordinates</th>\n",
       "    </tr>\n",
       "  </thead>\n",
       "  <tbody>\n",
       "    <tr>\n",
       "      <th>0</th>\n",
       "      <td>Building[4]</td>\n",
       "      <td>Burj Khalifa</td>\n",
       "      <td>United Arab Emirates</td>\n",
       "      <td>Dubai</td>\n",
       "      <td>829.8</td>\n",
       "      <td>2722.0</td>\n",
       "      <td>2010</td>\n",
       "      <td>25°11′50.0″N 55°16′26.6″E﻿ / ﻿25.197222°N 55.2...</td>\n",
       "    </tr>\n",
       "    <tr>\n",
       "      <th>1</th>\n",
       "      <td>Self-supporting tower[5]</td>\n",
       "      <td>Tokyo Skytree</td>\n",
       "      <td>Japan</td>\n",
       "      <td>Tokyo</td>\n",
       "      <td>634</td>\n",
       "      <td>2080.0</td>\n",
       "      <td>2011</td>\n",
       "      <td>35°42′36.5″N 139°48′39″E﻿ / ﻿35.710139°N 139.8...</td>\n",
       "    </tr>\n",
       "    <tr>\n",
       "      <th>2</th>\n",
       "      <td>Guyed steel lattice mast</td>\n",
       "      <td>KVLY-TV mast</td>\n",
       "      <td>United States</td>\n",
       "      <td>Blanchard, North Dakota</td>\n",
       "      <td>628.8</td>\n",
       "      <td>2063.0</td>\n",
       "      <td>1963</td>\n",
       "      <td>47°20′32″N 97°17′25″W﻿ / ﻿47.34222°N 97.29028°W</td>\n",
       "    </tr>\n",
       "    <tr>\n",
       "      <th>3</th>\n",
       "      <td>Mast radiator</td>\n",
       "      <td>Lualualei VLF transmitter</td>\n",
       "      <td>United States</td>\n",
       "      <td>Lualualei, Hawaii</td>\n",
       "      <td>458</td>\n",
       "      <td>1503.0</td>\n",
       "      <td>1972</td>\n",
       "      <td>21°25′11.87″N 158°08′53.67″W﻿ / ﻿21.4199639°N ...</td>\n",
       "    </tr>\n",
       "    <tr>\n",
       "      <th>4</th>\n",
       "      <td>Twin building</td>\n",
       "      <td>Petronas Twin Towers</td>\n",
       "      <td>Malaysia</td>\n",
       "      <td>Kuala Lumpur</td>\n",
       "      <td>452</td>\n",
       "      <td>1482.0</td>\n",
       "      <td>1998</td>\n",
       "      <td>3°09′27.45″N 101°42′40.7″E﻿ / ﻿3.1576250°N 101...</td>\n",
       "    </tr>\n",
       "  </tbody>\n",
       "</table>\n",
       "</div>"
      ],
      "text/plain": [
       "                   Category                  Structure               Country  \\\n",
       "0               Building[4]               Burj Khalifa  United Arab Emirates   \n",
       "1  Self-supporting tower[5]              Tokyo Skytree                 Japan   \n",
       "2  Guyed steel lattice mast               KVLY-TV mast         United States   \n",
       "3             Mast radiator  Lualualei VLF transmitter         United States   \n",
       "4             Twin building       Petronas Twin Towers              Malaysia   \n",
       "\n",
       "                      City Height (meters)  Height (feet) Year built  \\\n",
       "0                    Dubai           829.8         2722.0       2010   \n",
       "1                    Tokyo             634         2080.0       2011   \n",
       "2  Blanchard, North Dakota           628.8         2063.0       1963   \n",
       "3        Lualualei, Hawaii             458         1503.0       1972   \n",
       "4             Kuala Lumpur             452         1482.0       1998   \n",
       "\n",
       "                                         Coordinates  \n",
       "0  25°11′50.0″N 55°16′26.6″E﻿ / ﻿25.197222°N 55.2...  \n",
       "1  35°42′36.5″N 139°48′39″E﻿ / ﻿35.710139°N 139.8...  \n",
       "2    47°20′32″N 97°17′25″W﻿ / ﻿47.34222°N 97.29028°W  \n",
       "3  21°25′11.87″N 158°08′53.67″W﻿ / ﻿21.4199639°N ...  \n",
       "4  3°09′27.45″N 101°42′40.7″E﻿ / ﻿3.1576250°N 101...  "
      ]
     },
     "execution_count": 7,
     "metadata": {},
     "output_type": "execute_result"
    }
   ],
   "source": [
    "data.head()"
   ]
  },
  {
   "cell_type": "markdown",
   "metadata": {},
   "source": [
    "Get the first digits in feet and in meters."
   ]
  },
  {
   "cell_type": "code",
   "execution_count": 8,
   "metadata": {},
   "outputs": [],
   "source": [
    "# now extract the first digits in feet\n",
    "hi_feet = data['Height (feet)']\n",
    "ft_counts = hi_feet.apply(lambda x: first_digit(x)).value_counts().sort_index()\n",
    "\n",
    "# and the same in meters\n",
    "hi_met = data['Height (meters)']\n",
    "mt_counts = hi_met.apply(lambda x: first_digit(x)).value_counts().sort_index()"
   ]
  },
  {
   "cell_type": "markdown",
   "metadata": {},
   "source": [
    "Plot all three together"
   ]
  },
  {
   "cell_type": "code",
   "execution_count": 33,
   "metadata": {},
   "outputs": [
    {
     "data": {
      "image/png": "[encoded data removed]",
      "text/plain": [
       "<Figure size 432x288 with 1 Axes>"
      ]
     },
     "metadata": {
      "needs_background": "light"
     },
     "output_type": "display_data"
    }
   ],
   "source": [
    "wid = 0.35   # width of the bars\n",
    "plt.plot(X,Y*60, label='Benford')    # multiply Y to get counts instead of probability\n",
    "plt.bar(ft_counts.index, ft_counts, width = wid, label='Feet', align='edge')\n",
    "plt.bar(mt_counts.index, mt_counts, width = -wid, label='Meters', align='edge')\n",
    "plt.xticks(X)\n",
    "plt.xlabel('Digit')\n",
    "plt.ylabel('Frequency')\n",
    "plt.title(\"Benford's Law\")\n",
    "plt.legend(loc='best')\n",
    "plt.show()"
   ]
  }
 ],
 "metadata": {
  "kernelspec": {
   "display_name": "Python 3",
   "language": "python",
   "name": "python3"
  },
  "language_info": {
   "codemirror_mode": {
    "name": "ipython",
    "version": 3
   },
   "file_extension": ".py",
   "mimetype": "text/x-python",
   "name": "python",
   "nbconvert_exporter": "python",
   "pygments_lexer": "ipython3",
   "version": "3.7.3"
  }
 },
 "nbformat": 4,
 "nbformat_minor": 2
}
