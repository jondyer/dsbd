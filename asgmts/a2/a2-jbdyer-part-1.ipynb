{
 "cells": [
  {
   "cell_type": "markdown",
   "metadata": {},
   "source": [
    "### Jonathan Dyer\n",
    "### jbdyer"
   ]
  },
  {
   "cell_type": "markdown",
   "metadata": {},
   "source": [
    "Setup for data loading"
   ]
  },
  {
   "cell_type": "code",
   "execution_count": 2,
   "metadata": {},
   "outputs": [],
   "source": [
    "UseGitHub = True\n",
    "if UseGitHub:\n",
    "    prefix = 'https://raw.githubusercontent.com/ProfRaja/67364/master/data/a2/'\n",
    "else:\n",
    "    prefix = '' # load locally\n",
    "    \n",
    "expeditions_xls = prefix+'Expeditions.xls'\n",
    "titles_csv = prefix+'titles.csv'\n",
    "cast_csv = prefix+'cast_4_1960.csv'\n",
    "release_dates_csv = prefix+'release_dates.csv'"
   ]
  },
  {
   "cell_type": "markdown",
   "metadata": {},
   "source": [
    "Create a pivot table with Pandas that displays the contents of Expeditions.xls"
   ]
  },
  {
   "cell_type": "code",
   "execution_count": 3,
   "metadata": {},
   "outputs": [
    {
     "data": {
      "text/html": [
       "<div>\n",
       "<style scoped>\n",
       "    .dataframe tbody tr th:only-of-type {\n",
       "        vertical-align: middle;\n",
       "    }\n",
       "\n",
       "    .dataframe tbody tr th {\n",
       "        vertical-align: top;\n",
       "    }\n",
       "\n",
       "    .dataframe thead th {\n",
       "        text-align: right;\n",
       "    }\n",
       "</style>\n",
       "<table border=\"1\" class=\"dataframe\">\n",
       "  <thead>\n",
       "    <tr style=\"text-align: right;\">\n",
       "      <th></th>\n",
       "      <th>WHERE</th>\n",
       "      <th>HOW</th>\n",
       "      <th>REVENUE</th>\n",
       "    </tr>\n",
       "  </thead>\n",
       "  <tbody>\n",
       "    <tr>\n",
       "      <th>0</th>\n",
       "      <td>Paris</td>\n",
       "      <td>Store</td>\n",
       "      <td>80</td>\n",
       "    </tr>\n",
       "    <tr>\n",
       "      <th>1</th>\n",
       "      <td>London</td>\n",
       "      <td>Catalog</td>\n",
       "      <td>1794</td>\n",
       "    </tr>\n",
       "    <tr>\n",
       "      <th>2</th>\n",
       "      <td>Paris</td>\n",
       "      <td>Store</td>\n",
       "      <td>16</td>\n",
       "    </tr>\n",
       "    <tr>\n",
       "      <th>3</th>\n",
       "      <td>London</td>\n",
       "      <td>Store</td>\n",
       "      <td>885</td>\n",
       "    </tr>\n",
       "    <tr>\n",
       "      <th>4</th>\n",
       "      <td>Paris</td>\n",
       "      <td>Store</td>\n",
       "      <td>165</td>\n",
       "    </tr>\n",
       "  </tbody>\n",
       "</table>\n",
       "</div>"
      ],
      "text/plain": [
       "    WHERE      HOW  REVENUE\n",
       "0   Paris    Store       80\n",
       "1  London  Catalog     1794\n",
       "2   Paris    Store       16\n",
       "3  London    Store      885\n",
       "4   Paris    Store      165"
      ]
     },
     "execution_count": 3,
     "metadata": {},
     "output_type": "execute_result"
    }
   ],
   "source": [
    "import pandas as pd\n",
    "\n",
    "cols_to_use = ['WHERE', 'HOW', 'REVENUE'] # column names we care about\n",
    "\n",
    "# read excel sheet into data frame, keeping only the columns we want\n",
    "data = pd.read_excel(expeditions_xls, usecols=cols_to_use)\n",
    "data.head()"
   ]
  },
  {
   "cell_type": "markdown",
   "metadata": {},
   "source": [
    "In order to get totals of each row and column, just use the pivot table margins!"
   ]
  },
  {
   "cell_type": "code",
   "execution_count": 4,
   "metadata": {},
   "outputs": [
    {
     "data": {
      "text/html": [
       "<div>\n",
       "<style scoped>\n",
       "    .dataframe tbody tr th:only-of-type {\n",
       "        vertical-align: middle;\n",
       "    }\n",
       "\n",
       "    .dataframe tbody tr th {\n",
       "        vertical-align: top;\n",
       "    }\n",
       "\n",
       "    .dataframe thead th {\n",
       "        text-align: right;\n",
       "    }\n",
       "</style>\n",
       "<table border=\"1\" class=\"dataframe\">\n",
       "  <thead>\n",
       "    <tr style=\"text-align: right;\">\n",
       "      <th>HOW</th>\n",
       "      <th>Catalog</th>\n",
       "      <th>Store</th>\n",
       "      <th>Web</th>\n",
       "      <th>Total</th>\n",
       "    </tr>\n",
       "    <tr>\n",
       "      <th>WHERE</th>\n",
       "      <th></th>\n",
       "      <th></th>\n",
       "      <th></th>\n",
       "      <th></th>\n",
       "    </tr>\n",
       "  </thead>\n",
       "  <tbody>\n",
       "    <tr>\n",
       "      <th>London</th>\n",
       "      <td>50310</td>\n",
       "      <td>151015</td>\n",
       "      <td>13009</td>\n",
       "      <td>214334</td>\n",
       "    </tr>\n",
       "    <tr>\n",
       "      <th>New York</th>\n",
       "      <td>8712</td>\n",
       "      <td>28060</td>\n",
       "      <td>2351</td>\n",
       "      <td>39123</td>\n",
       "    </tr>\n",
       "    <tr>\n",
       "      <th>Paris</th>\n",
       "      <td>32166</td>\n",
       "      <td>104083</td>\n",
       "      <td>7054</td>\n",
       "      <td>143303</td>\n",
       "    </tr>\n",
       "    <tr>\n",
       "      <th>Sydney</th>\n",
       "      <td>5471</td>\n",
       "      <td>21769</td>\n",
       "      <td>2749</td>\n",
       "      <td>29989</td>\n",
       "    </tr>\n",
       "    <tr>\n",
       "      <th>Tokyo</th>\n",
       "      <td>12103</td>\n",
       "      <td>42610</td>\n",
       "      <td>2003</td>\n",
       "      <td>56716</td>\n",
       "    </tr>\n",
       "    <tr>\n",
       "      <th>Total</th>\n",
       "      <td>108762</td>\n",
       "      <td>347537</td>\n",
       "      <td>27166</td>\n",
       "      <td>483465</td>\n",
       "    </tr>\n",
       "  </tbody>\n",
       "</table>\n",
       "</div>"
      ],
      "text/plain": [
       "HOW       Catalog   Store    Web   Total\n",
       "WHERE                                   \n",
       "London      50310  151015  13009  214334\n",
       "New York     8712   28060   2351   39123\n",
       "Paris       32166  104083   7054  143303\n",
       "Sydney       5471   21769   2749   29989\n",
       "Tokyo       12103   42610   2003   56716\n",
       "Total      108762  347537  27166  483465"
      ]
     },
     "execution_count": 4,
     "metadata": {},
     "output_type": "execute_result"
    }
   ],
   "source": [
    "pvt = data.pivot_table(index='WHERE',\n",
    "                      columns='HOW',\n",
    "                      values='REVENUE',\n",
    "                      aggfunc='sum',\n",
    "                      margins=True,\n",
    "                      margins_name='Total')\n",
    "\n",
    "pvt"
   ]
  }
 ],
 "metadata": {
  "kernelspec": {
   "display_name": "Python 3",
   "language": "python",
   "name": "python3"
  },
  "language_info": {
   "codemirror_mode": {
    "name": "ipython",
    "version": 3
   },
   "file_extension": ".py",
   "mimetype": "text/x-python",
   "name": "python",
   "nbconvert_exporter": "python",
   "pygments_lexer": "ipython3",
   "version": "3.7.3"
  }
 },
 "nbformat": 4,
 "nbformat_minor": 2
}
