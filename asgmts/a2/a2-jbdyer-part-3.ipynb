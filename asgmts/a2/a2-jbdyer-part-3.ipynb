{
 "cells": [
  {
   "cell_type": "markdown",
   "metadata": {},
   "source": [
    "## Jonathan Dyer\n",
    "## jbdyer"
   ]
  },
  {
   "cell_type": "code",
   "execution_count": 178,
   "metadata": {},
   "outputs": [],
   "source": [
    "import pandas as pd\n",
    "import matplotlib.pyplot as plt\n",
    "import numpy as np\n",
    "\n",
    "%matplotlib inline"
   ]
  },
  {
   "cell_type": "code",
   "execution_count": 179,
   "metadata": {},
   "outputs": [],
   "source": [
    "UseGitHub = True\n",
    "if UseGitHub:\n",
    "    prefix = 'https://raw.githubusercontent.com/ProfRaja/67364/master/data/a2/'\n",
    "else:\n",
    "    prefix = '' # load locally\n",
    "    \n",
    "expeditions_xls = prefix+'Expeditions.xls'\n",
    "titles_csv = prefix+'titles.csv'\n",
    "cast_csv = prefix+'cast_4_1960.csv'\n",
    "release_dates_csv = prefix+'release_dates.csv'"
   ]
  },
  {
   "cell_type": "markdown",
   "metadata": {},
   "source": [
    "# Part 3\n",
    "Use Pandas to answer questions about the data sets."
   ]
  },
  {
   "cell_type": "code",
   "execution_count": 180,
   "metadata": {},
   "outputs": [],
   "source": [
    "# read in the data\n",
    "cast = pd.read_csv(cast_csv)\n",
    "release = pd.read_csv(release_dates_csv)\n",
    "titles = pd.read_csv(titles_csv)"
   ]
  },
  {
   "cell_type": "markdown",
   "metadata": {},
   "source": [
    "## a. Ten most common movie names of all time"
   ]
  },
  {
   "cell_type": "code",
   "execution_count": 181,
   "metadata": {},
   "outputs": [
    {
     "data": {
      "text/html": [
       "<div>\n",
       "<style scoped>\n",
       "    .dataframe tbody tr th:only-of-type {\n",
       "        vertical-align: middle;\n",
       "    }\n",
       "\n",
       "    .dataframe tbody tr th {\n",
       "        vertical-align: top;\n",
       "    }\n",
       "\n",
       "    .dataframe thead th {\n",
       "        text-align: right;\n",
       "    }\n",
       "</style>\n",
       "<table border=\"1\" class=\"dataframe\">\n",
       "  <thead>\n",
       "    <tr style=\"text-align: right;\">\n",
       "      <th></th>\n",
       "      <th>title</th>\n",
       "      <th>year</th>\n",
       "    </tr>\n",
       "  </thead>\n",
       "  <tbody>\n",
       "    <tr>\n",
       "      <th>0</th>\n",
       "      <td>Long feng zhi duo xing</td>\n",
       "      <td>1984</td>\n",
       "    </tr>\n",
       "    <tr>\n",
       "      <th>1</th>\n",
       "      <td>Subbu</td>\n",
       "      <td>2001</td>\n",
       "    </tr>\n",
       "    <tr>\n",
       "      <th>2</th>\n",
       "      <td>Halikan mo at magpaalam sa kahapon</td>\n",
       "      <td>1977</td>\n",
       "    </tr>\n",
       "    <tr>\n",
       "      <th>3</th>\n",
       "      <td>Neato Mosquito</td>\n",
       "      <td>2009</td>\n",
       "    </tr>\n",
       "    <tr>\n",
       "      <th>4</th>\n",
       "      <td>Five Nights at Freddy's 3: Markiplier Playthrough</td>\n",
       "      <td>2015</td>\n",
       "    </tr>\n",
       "  </tbody>\n",
       "</table>\n",
       "</div>"
      ],
      "text/plain": [
       "                                               title  year\n",
       "0                             Long feng zhi duo xing  1984\n",
       "1                                              Subbu  2001\n",
       "2                 Halikan mo at magpaalam sa kahapon  1977\n",
       "3                                     Neato Mosquito  2009\n",
       "4  Five Nights at Freddy's 3: Markiplier Playthrough  2015"
      ]
     },
     "execution_count": 181,
     "metadata": {},
     "output_type": "execute_result"
    }
   ],
   "source": [
    "# examine the data\n",
    "titles.head()"
   ]
  },
  {
   "cell_type": "code",
   "execution_count": 182,
   "metadata": {},
   "outputs": [
    {
     "data": {
      "text/plain": [
       "Hamlet                  20\n",
       "Carmen                  16\n",
       "Macbeth                 15\n",
       "The Outsider            12\n",
       "Maya                    12\n",
       "Othello                 11\n",
       "Temptation              11\n",
       "Kismet                  11\n",
       "The Three Musketeers    11\n",
       "Freedom                 11\n",
       "Name: title, dtype: int64"
      ]
     },
     "execution_count": 182,
     "metadata": {},
     "output_type": "execute_result"
    }
   ],
   "source": [
    "# use pandas' value_counts to get counts of each title, then use head for the top 10\n",
    "titles['title'].value_counts().head(10)"
   ]
  },
  {
   "cell_type": "markdown",
   "metadata": {},
   "source": [
    "## b. Bar plot for decade releases\n",
    "Graph the number of films that have been released **each decade** from release_dates.csv"
   ]
  },
  {
   "cell_type": "code",
   "execution_count": 183,
   "metadata": {},
   "outputs": [
    {
     "data": {
      "text/html": [
       "<div>\n",
       "<style scoped>\n",
       "    .dataframe tbody tr th:only-of-type {\n",
       "        vertical-align: middle;\n",
       "    }\n",
       "\n",
       "    .dataframe tbody tr th {\n",
       "        vertical-align: top;\n",
       "    }\n",
       "\n",
       "    .dataframe thead th {\n",
       "        text-align: right;\n",
       "    }\n",
       "</style>\n",
       "<table border=\"1\" class=\"dataframe\">\n",
       "  <thead>\n",
       "    <tr style=\"text-align: right;\">\n",
       "      <th></th>\n",
       "      <th>title</th>\n",
       "      <th>year</th>\n",
       "      <th>country</th>\n",
       "      <th>date</th>\n",
       "    </tr>\n",
       "  </thead>\n",
       "  <tbody>\n",
       "    <tr>\n",
       "      <th>0</th>\n",
       "      <td>#73, Shaanthi Nivaasa</td>\n",
       "      <td>2007</td>\n",
       "      <td>India</td>\n",
       "      <td>2007-06-15</td>\n",
       "    </tr>\n",
       "    <tr>\n",
       "      <th>1</th>\n",
       "      <td>#Beings</td>\n",
       "      <td>2015</td>\n",
       "      <td>Romania</td>\n",
       "      <td>2015-01-29</td>\n",
       "    </tr>\n",
       "    <tr>\n",
       "      <th>2</th>\n",
       "      <td>#Declimax</td>\n",
       "      <td>2018</td>\n",
       "      <td>Netherlands</td>\n",
       "      <td>2018-01-21</td>\n",
       "    </tr>\n",
       "    <tr>\n",
       "      <th>3</th>\n",
       "      <td>#Ewankosau saranghaeyo</td>\n",
       "      <td>2015</td>\n",
       "      <td>Philippines</td>\n",
       "      <td>2015-01-21</td>\n",
       "    </tr>\n",
       "    <tr>\n",
       "      <th>4</th>\n",
       "      <td>#Horror</td>\n",
       "      <td>2015</td>\n",
       "      <td>USA</td>\n",
       "      <td>2015-11-20</td>\n",
       "    </tr>\n",
       "  </tbody>\n",
       "</table>\n",
       "</div>"
      ],
      "text/plain": [
       "                    title  year      country        date\n",
       "0   #73, Shaanthi Nivaasa  2007        India  2007-06-15\n",
       "1                 #Beings  2015      Romania  2015-01-29\n",
       "2               #Declimax  2018  Netherlands  2018-01-21\n",
       "3  #Ewankosau saranghaeyo  2015  Philippines  2015-01-21\n",
       "4                 #Horror  2015          USA  2015-11-20"
      ]
     },
     "execution_count": 183,
     "metadata": {},
     "output_type": "execute_result"
    }
   ],
   "source": [
    "# examine the data\n",
    "release.head()"
   ]
  },
  {
   "cell_type": "code",
   "execution_count": 184,
   "metadata": {},
   "outputs": [
    {
     "data": {
      "text/plain": [
       "1890         1\n",
       "1900        12\n",
       "1910      5893\n",
       "1920     13238\n",
       "1930     23124\n",
       "1940     23129\n",
       "1950     31039\n",
       "1960     31562\n",
       "1970     31008\n",
       "1980     35215\n",
       "1990     51238\n",
       "2000    101039\n",
       "2010    108641\n",
       "2020        62\n",
       "Name: year, dtype: int64"
      ]
     },
     "execution_count": 184,
     "metadata": {},
     "output_type": "execute_result"
    }
   ],
   "source": [
    "# now get decades by integer dividing by 10 and multiplying by 10 again\n",
    "dec = ((release['year']//10)*10).value_counts().sort_index()\n",
    "dec"
   ]
  },
  {
   "cell_type": "code",
   "execution_count": 185,
   "metadata": {},
   "outputs": [
    {
     "data": {
      "text/plain": [
       "[Text(0, 0.5, 'Number of films'), Text(0.5, 0, 'Decade')]"
      ]
     },
     "execution_count": 185,
     "metadata": {},
     "output_type": "execute_result"
    },
    {
     "data": {
      "image/png": "[encoded data removed]",
      "text/plain": [
       "<Figure size 432x288 with 1 Axes>"
      ]
     },
     "metadata": {
      "needs_background": "light"
     },
     "output_type": "display_data"
    }
   ],
   "source": [
    "#  capture the Axis object so we can set labels\n",
    "ax = dec.plot(kind='bar', title='Films released by decade')\n",
    "ax.set(xlabel='Decade', ylabel='Number of films')"
   ]
  },
  {
   "cell_type": "markdown",
   "metadata": {},
   "source": [
    "## c. Groupby version\n",
    "Same as section b, but use grouby()"
   ]
  },
  {
   "cell_type": "code",
   "execution_count": 186,
   "metadata": {},
   "outputs": [
    {
     "data": {
      "text/plain": [
       "decade\n",
       "1890         1\n",
       "1900        12\n",
       "1910      5893\n",
       "1920     13238\n",
       "1930     23124\n",
       "1940     23129\n",
       "1950     31039\n",
       "1960     31562\n",
       "1970     31008\n",
       "1980     35215\n",
       "1990     51238\n",
       "2000    101039\n",
       "2010    108641\n",
       "2020        62\n",
       "dtype: int64"
      ]
     },
     "execution_count": 186,
     "metadata": {},
     "output_type": "execute_result"
    }
   ],
   "source": [
    "release['decade'] = release['year']//10*10\n",
    "gdec = release.groupby('decade').size()\n",
    "gdec"
   ]
  },
  {
   "cell_type": "code",
   "execution_count": 187,
   "metadata": {
    "scrolled": true
   },
   "outputs": [
    {
     "data": {
      "text/plain": [
       "[Text(0, 0.5, 'Number of films'), Text(0.5, 0, 'Decade')]"
      ]
     },
     "execution_count": 187,
     "metadata": {},
     "output_type": "execute_result"
    },
    {
     "data": {
      "image/png": "[encoded data removed]",
      "text/plain": [
       "<Figure size 432x288 with 1 Axes>"
      ]
     },
     "metadata": {
      "needs_background": "light"
     },
     "output_type": "display_data"
    }
   ],
   "source": [
    "#  capture the Axis object so we can set labels\n",
    "ax = gdec.plot(kind='bar', title='Films released by decade')\n",
    "ax.set(xlabel='Decade', ylabel='Number of films')"
   ]
  },
  {
   "cell_type": "markdown",
   "metadata": {},
   "source": [
    "## d. Tom Cruise film months\n",
    "In which months are films with Tom Cruise released in the USA?"
   ]
  },
  {
   "cell_type": "code",
   "execution_count": 188,
   "metadata": {},
   "outputs": [
    {
     "data": {
      "text/html": [
       "<div>\n",
       "<style scoped>\n",
       "    .dataframe tbody tr th:only-of-type {\n",
       "        vertical-align: middle;\n",
       "    }\n",
       "\n",
       "    .dataframe tbody tr th {\n",
       "        vertical-align: top;\n",
       "    }\n",
       "\n",
       "    .dataframe thead th {\n",
       "        text-align: right;\n",
       "    }\n",
       "</style>\n",
       "<table border=\"1\" class=\"dataframe\">\n",
       "  <thead>\n",
       "    <tr style=\"text-align: right;\">\n",
       "      <th></th>\n",
       "      <th>title</th>\n",
       "      <th>year</th>\n",
       "      <th>name</th>\n",
       "      <th>type</th>\n",
       "      <th>character</th>\n",
       "      <th>n</th>\n",
       "      <th>country</th>\n",
       "      <th>date</th>\n",
       "      <th>decade</th>\n",
       "    </tr>\n",
       "  </thead>\n",
       "  <tbody>\n",
       "    <tr>\n",
       "      <th>0</th>\n",
       "      <td>Live Freaky Die Freaky</td>\n",
       "      <td>2006</td>\n",
       "      <td>Nick 13</td>\n",
       "      <td>actor</td>\n",
       "      <td>TV Reporter #1</td>\n",
       "      <td>1.0</td>\n",
       "      <td>Japan</td>\n",
       "      <td>2006-07-08</td>\n",
       "      <td>2000</td>\n",
       "    </tr>\n",
       "    <tr>\n",
       "      <th>1</th>\n",
       "      <td>Live Freaky Die Freaky</td>\n",
       "      <td>2006</td>\n",
       "      <td>Billie Joe Armstrong</td>\n",
       "      <td>actor</td>\n",
       "      <td>Charlie</td>\n",
       "      <td>1.0</td>\n",
       "      <td>Japan</td>\n",
       "      <td>2006-07-08</td>\n",
       "      <td>2000</td>\n",
       "    </tr>\n",
       "    <tr>\n",
       "      <th>2</th>\n",
       "      <td>Live Freaky Die Freaky</td>\n",
       "      <td>2006</td>\n",
       "      <td>Tim (II) Armstrong</td>\n",
       "      <td>actor</td>\n",
       "      <td>Narrator</td>\n",
       "      <td>1.0</td>\n",
       "      <td>Japan</td>\n",
       "      <td>2006-07-08</td>\n",
       "      <td>2000</td>\n",
       "    </tr>\n",
       "    <tr>\n",
       "      <th>3</th>\n",
       "      <td>Live Freaky Die Freaky</td>\n",
       "      <td>2006</td>\n",
       "      <td>Rob Aston</td>\n",
       "      <td>actor</td>\n",
       "      <td>Cop #3</td>\n",
       "      <td>1.0</td>\n",
       "      <td>Japan</td>\n",
       "      <td>2006-07-08</td>\n",
       "      <td>2000</td>\n",
       "    </tr>\n",
       "    <tr>\n",
       "      <th>4</th>\n",
       "      <td>Live Freaky Die Freaky</td>\n",
       "      <td>2006</td>\n",
       "      <td>Travis Barker</td>\n",
       "      <td>actor</td>\n",
       "      <td>Cop #2</td>\n",
       "      <td>1.0</td>\n",
       "      <td>Japan</td>\n",
       "      <td>2006-07-08</td>\n",
       "      <td>2000</td>\n",
       "    </tr>\n",
       "  </tbody>\n",
       "</table>\n",
       "</div>"
      ],
      "text/plain": [
       "                    title  year                  name   type       character  \\\n",
       "0  Live Freaky Die Freaky  2006               Nick 13  actor  TV Reporter #1   \n",
       "1  Live Freaky Die Freaky  2006  Billie Joe Armstrong  actor         Charlie   \n",
       "2  Live Freaky Die Freaky  2006    Tim (II) Armstrong  actor        Narrator   \n",
       "3  Live Freaky Die Freaky  2006             Rob Aston  actor          Cop #3   \n",
       "4  Live Freaky Die Freaky  2006         Travis Barker  actor          Cop #2   \n",
       "\n",
       "     n country        date  decade  \n",
       "0  1.0   Japan  2006-07-08    2000  \n",
       "1  1.0   Japan  2006-07-08    2000  \n",
       "2  1.0   Japan  2006-07-08    2000  \n",
       "3  1.0   Japan  2006-07-08    2000  \n",
       "4  1.0   Japan  2006-07-08    2000  "
      ]
     },
     "execution_count": 188,
     "metadata": {},
     "output_type": "execute_result"
    }
   ],
   "source": [
    "# First we merge the data with the names and the data with the dates\n",
    "movie_data = pd.merge(cast, release,\n",
    "                     how='inner',\n",
    "                     left_on=['title', 'year'],\n",
    "                     right_on=['title', 'year'])\n",
    "movie_data.head()"
   ]
  },
  {
   "cell_type": "code",
   "execution_count": 189,
   "metadata": {},
   "outputs": [
    {
     "data": {
      "text/html": [
       "<div>\n",
       "<style scoped>\n",
       "    .dataframe tbody tr th:only-of-type {\n",
       "        vertical-align: middle;\n",
       "    }\n",
       "\n",
       "    .dataframe tbody tr th {\n",
       "        vertical-align: top;\n",
       "    }\n",
       "\n",
       "    .dataframe thead th {\n",
       "        text-align: right;\n",
       "    }\n",
       "</style>\n",
       "<table border=\"1\" class=\"dataframe\">\n",
       "  <thead>\n",
       "    <tr style=\"text-align: right;\">\n",
       "      <th></th>\n",
       "      <th>title</th>\n",
       "      <th>year</th>\n",
       "      <th>name</th>\n",
       "      <th>type</th>\n",
       "      <th>character</th>\n",
       "      <th>n</th>\n",
       "      <th>country</th>\n",
       "      <th>date</th>\n",
       "      <th>decade</th>\n",
       "      <th>month</th>\n",
       "    </tr>\n",
       "  </thead>\n",
       "  <tbody>\n",
       "    <tr>\n",
       "      <th>105336</th>\n",
       "      <td>The Last Samurai</td>\n",
       "      <td>2003</td>\n",
       "      <td>Tom Cruise</td>\n",
       "      <td>actor</td>\n",
       "      <td>Nathan Algren</td>\n",
       "      <td>2.0</td>\n",
       "      <td>USA</td>\n",
       "      <td>2003-12-05</td>\n",
       "      <td>2000</td>\n",
       "      <td>12</td>\n",
       "    </tr>\n",
       "    <tr>\n",
       "      <th>126256</th>\n",
       "      <td>A Few Good Men</td>\n",
       "      <td>1992</td>\n",
       "      <td>Tom Cruise</td>\n",
       "      <td>actor</td>\n",
       "      <td>Lt. Daniel Kaffee</td>\n",
       "      <td>1.0</td>\n",
       "      <td>USA</td>\n",
       "      <td>1992-12-11</td>\n",
       "      <td>1990</td>\n",
       "      <td>12</td>\n",
       "    </tr>\n",
       "    <tr>\n",
       "      <th>174913</th>\n",
       "      <td>Born on the Fourth of July</td>\n",
       "      <td>1989</td>\n",
       "      <td>Tom Cruise</td>\n",
       "      <td>actor</td>\n",
       "      <td>Ron Kovic</td>\n",
       "      <td>1.0</td>\n",
       "      <td>USA</td>\n",
       "      <td>1990-01-05</td>\n",
       "      <td>1980</td>\n",
       "      <td>1</td>\n",
       "    </tr>\n",
       "    <tr>\n",
       "      <th>215675</th>\n",
       "      <td>Legend</td>\n",
       "      <td>1985</td>\n",
       "      <td>Tom Cruise</td>\n",
       "      <td>actor</td>\n",
       "      <td>Jack</td>\n",
       "      <td>1.0</td>\n",
       "      <td>USA</td>\n",
       "      <td>1986-04-18</td>\n",
       "      <td>1980</td>\n",
       "      <td>4</td>\n",
       "    </tr>\n",
       "    <tr>\n",
       "      <th>296288</th>\n",
       "      <td>Valkyrie</td>\n",
       "      <td>2008</td>\n",
       "      <td>Tom Cruise</td>\n",
       "      <td>actor</td>\n",
       "      <td>Colonel Claus von Stauffenberg</td>\n",
       "      <td>1.0</td>\n",
       "      <td>USA</td>\n",
       "      <td>2008-12-25</td>\n",
       "      <td>2000</td>\n",
       "      <td>12</td>\n",
       "    </tr>\n",
       "  </tbody>\n",
       "</table>\n",
       "</div>"
      ],
      "text/plain": [
       "                             title  year        name   type  \\\n",
       "105336            The Last Samurai  2003  Tom Cruise  actor   \n",
       "126256              A Few Good Men  1992  Tom Cruise  actor   \n",
       "174913  Born on the Fourth of July  1989  Tom Cruise  actor   \n",
       "215675                      Legend  1985  Tom Cruise  actor   \n",
       "296288                    Valkyrie  2008  Tom Cruise  actor   \n",
       "\n",
       "                             character    n country       date  decade  month  \n",
       "105336                   Nathan Algren  2.0     USA 2003-12-05    2000     12  \n",
       "126256               Lt. Daniel Kaffee  1.0     USA 1992-12-11    1990     12  \n",
       "174913                       Ron Kovic  1.0     USA 1990-01-05    1980      1  \n",
       "215675                            Jack  1.0     USA 1986-04-18    1980      4  \n",
       "296288  Colonel Claus von Stauffenberg  1.0     USA 2008-12-25    2000     12  "
      ]
     },
     "execution_count": 189,
     "metadata": {},
     "output_type": "execute_result"
    }
   ],
   "source": [
    "# First extract the month from the date for each\n",
    "movie_data['date'] = pd.to_datetime(movie_data['date'])\n",
    "movie_data['month'] = movie_data['date'].dt.month\n",
    "\n",
    "# Now filter to get only those with Tom and released in the US\n",
    "tom_in_usa = movie_data[(movie_data['name']=='Tom Cruise') & (movie_data['country']=='USA')]\n",
    "tom_in_usa.head()"
   ]
  },
  {
   "cell_type": "code",
   "execution_count": 190,
   "metadata": {},
   "outputs": [
    {
     "data": {
      "text/plain": [
       "[Text(0, 0.5, 'Number of films'), Text(0.5, 0, 'Month number')]"
      ]
     },
     "execution_count": 190,
     "metadata": {},
     "output_type": "execute_result"
    },
    {
     "data": {
      "image/png": "[encoded data removed]",
      "text/plain": [
       "<Figure size 432x288 with 1 Axes>"
      ]
     },
     "metadata": {
      "needs_background": "light"
     },
     "output_type": "display_data"
    }
   ],
   "source": [
    "# and finally get the counts of each month and plot a bar graph\n",
    "tom_data = tom_in_usa['month'].value_counts().sort_index()\n",
    "tom_data = tom_data.reindex(range(1,13)).fillna(0)     # insert missing months\n",
    "ax = tom_data.plot(kind='bar', title='Release months for films with Tom Cruise')\n",
    "ax.set(xlabel='Month number', ylabel='Number of films')"
   ]
  },
  {
   "cell_type": "markdown",
   "metadata": {},
   "source": [
    "## e. My query\n",
    "I want to know how the number of actors and actresses in the USA changes over time (by decade)."
   ]
  },
  {
   "cell_type": "code",
   "execution_count": 191,
   "metadata": {},
   "outputs": [
    {
     "data": {
      "text/html": [
       "<div>\n",
       "<style scoped>\n",
       "    .dataframe tbody tr th:only-of-type {\n",
       "        vertical-align: middle;\n",
       "    }\n",
       "\n",
       "    .dataframe tbody tr th {\n",
       "        vertical-align: top;\n",
       "    }\n",
       "\n",
       "    .dataframe thead th {\n",
       "        text-align: right;\n",
       "    }\n",
       "</style>\n",
       "<table border=\"1\" class=\"dataframe\">\n",
       "  <thead>\n",
       "    <tr style=\"text-align: right;\">\n",
       "      <th></th>\n",
       "      <th>title</th>\n",
       "      <th>year</th>\n",
       "      <th>name</th>\n",
       "      <th>type</th>\n",
       "      <th>character</th>\n",
       "      <th>n</th>\n",
       "      <th>country</th>\n",
       "      <th>date</th>\n",
       "      <th>decade</th>\n",
       "    </tr>\n",
       "  </thead>\n",
       "  <tbody>\n",
       "    <tr>\n",
       "      <th>0</th>\n",
       "      <td>Live Freaky Die Freaky</td>\n",
       "      <td>2006</td>\n",
       "      <td>Nick 13</td>\n",
       "      <td>actor</td>\n",
       "      <td>TV Reporter #1</td>\n",
       "      <td>1.0</td>\n",
       "      <td>Japan</td>\n",
       "      <td>2006-07-08</td>\n",
       "      <td>2000</td>\n",
       "    </tr>\n",
       "    <tr>\n",
       "      <th>1</th>\n",
       "      <td>Live Freaky Die Freaky</td>\n",
       "      <td>2006</td>\n",
       "      <td>Billie Joe Armstrong</td>\n",
       "      <td>actor</td>\n",
       "      <td>Charlie</td>\n",
       "      <td>1.0</td>\n",
       "      <td>Japan</td>\n",
       "      <td>2006-07-08</td>\n",
       "      <td>2000</td>\n",
       "    </tr>\n",
       "    <tr>\n",
       "      <th>2</th>\n",
       "      <td>Live Freaky Die Freaky</td>\n",
       "      <td>2006</td>\n",
       "      <td>Tim (II) Armstrong</td>\n",
       "      <td>actor</td>\n",
       "      <td>Narrator</td>\n",
       "      <td>1.0</td>\n",
       "      <td>Japan</td>\n",
       "      <td>2006-07-08</td>\n",
       "      <td>2000</td>\n",
       "    </tr>\n",
       "    <tr>\n",
       "      <th>3</th>\n",
       "      <td>Live Freaky Die Freaky</td>\n",
       "      <td>2006</td>\n",
       "      <td>Rob Aston</td>\n",
       "      <td>actor</td>\n",
       "      <td>Cop #3</td>\n",
       "      <td>1.0</td>\n",
       "      <td>Japan</td>\n",
       "      <td>2006-07-08</td>\n",
       "      <td>2000</td>\n",
       "    </tr>\n",
       "    <tr>\n",
       "      <th>4</th>\n",
       "      <td>Live Freaky Die Freaky</td>\n",
       "      <td>2006</td>\n",
       "      <td>Travis Barker</td>\n",
       "      <td>actor</td>\n",
       "      <td>Cop #2</td>\n",
       "      <td>1.0</td>\n",
       "      <td>Japan</td>\n",
       "      <td>2006-07-08</td>\n",
       "      <td>2000</td>\n",
       "    </tr>\n",
       "  </tbody>\n",
       "</table>\n",
       "</div>"
      ],
      "text/plain": [
       "                    title  year                  name   type       character  \\\n",
       "0  Live Freaky Die Freaky  2006               Nick 13  actor  TV Reporter #1   \n",
       "1  Live Freaky Die Freaky  2006  Billie Joe Armstrong  actor         Charlie   \n",
       "2  Live Freaky Die Freaky  2006    Tim (II) Armstrong  actor        Narrator   \n",
       "3  Live Freaky Die Freaky  2006             Rob Aston  actor          Cop #3   \n",
       "4  Live Freaky Die Freaky  2006         Travis Barker  actor          Cop #2   \n",
       "\n",
       "     n country        date  decade  \n",
       "0  1.0   Japan  2006-07-08    2000  \n",
       "1  1.0   Japan  2006-07-08    2000  \n",
       "2  1.0   Japan  2006-07-08    2000  \n",
       "3  1.0   Japan  2006-07-08    2000  \n",
       "4  1.0   Japan  2006-07-08    2000  "
      ]
     },
     "execution_count": 191,
     "metadata": {},
     "output_type": "execute_result"
    }
   ],
   "source": [
    "# First get the data I need by merging again\n",
    "mydata = pd.merge(cast, release,\n",
    "                     how='inner',\n",
    "                     left_on=['title', 'year'],\n",
    "                     right_on=['title', 'year'])\n",
    "mydata.head()"
   ]
  },
  {
   "cell_type": "code",
   "execution_count": 192,
   "metadata": {},
   "outputs": [
    {
     "data": {
      "text/html": [
       "<div>\n",
       "<style scoped>\n",
       "    .dataframe tbody tr th:only-of-type {\n",
       "        vertical-align: middle;\n",
       "    }\n",
       "\n",
       "    .dataframe tbody tr th {\n",
       "        vertical-align: top;\n",
       "    }\n",
       "\n",
       "    .dataframe thead th {\n",
       "        text-align: right;\n",
       "    }\n",
       "</style>\n",
       "<table border=\"1\" class=\"dataframe\">\n",
       "  <thead>\n",
       "    <tr style=\"text-align: right;\">\n",
       "      <th></th>\n",
       "      <th>type</th>\n",
       "      <th>country</th>\n",
       "      <th>decade</th>\n",
       "    </tr>\n",
       "  </thead>\n",
       "  <tbody>\n",
       "    <tr>\n",
       "      <th>0</th>\n",
       "      <td>actor</td>\n",
       "      <td>Japan</td>\n",
       "      <td>2000</td>\n",
       "    </tr>\n",
       "    <tr>\n",
       "      <th>1</th>\n",
       "      <td>actor</td>\n",
       "      <td>Japan</td>\n",
       "      <td>2000</td>\n",
       "    </tr>\n",
       "    <tr>\n",
       "      <th>2</th>\n",
       "      <td>actor</td>\n",
       "      <td>Japan</td>\n",
       "      <td>2000</td>\n",
       "    </tr>\n",
       "    <tr>\n",
       "      <th>3</th>\n",
       "      <td>actor</td>\n",
       "      <td>Japan</td>\n",
       "      <td>2000</td>\n",
       "    </tr>\n",
       "    <tr>\n",
       "      <th>4</th>\n",
       "      <td>actor</td>\n",
       "      <td>Japan</td>\n",
       "      <td>2000</td>\n",
       "    </tr>\n",
       "  </tbody>\n",
       "</table>\n",
       "</div>"
      ],
      "text/plain": [
       "    type country  decade\n",
       "0  actor   Japan    2000\n",
       "1  actor   Japan    2000\n",
       "2  actor   Japan    2000\n",
       "3  actor   Japan    2000\n",
       "4  actor   Japan    2000"
      ]
     },
     "execution_count": 192,
     "metadata": {},
     "output_type": "execute_result"
    }
   ],
   "source": [
    "# for simplicity drop unnecessary cols\n",
    "data = mydata.drop(columns=['title', 'year','name','character','n','date'])\n",
    "data.head()"
   ]
  },
  {
   "cell_type": "code",
   "execution_count": 193,
   "metadata": {},
   "outputs": [
    {
     "data": {
      "text/html": [
       "<div>\n",
       "<style scoped>\n",
       "    .dataframe tbody tr th:only-of-type {\n",
       "        vertical-align: middle;\n",
       "    }\n",
       "\n",
       "    .dataframe tbody tr th {\n",
       "        vertical-align: top;\n",
       "    }\n",
       "\n",
       "    .dataframe thead th {\n",
       "        text-align: right;\n",
       "    }\n",
       "</style>\n",
       "<table border=\"1\" class=\"dataframe\">\n",
       "  <thead>\n",
       "    <tr style=\"text-align: right;\">\n",
       "      <th></th>\n",
       "      <th>type</th>\n",
       "      <th>country</th>\n",
       "      <th>decade</th>\n",
       "    </tr>\n",
       "  </thead>\n",
       "  <tbody>\n",
       "    <tr>\n",
       "      <th>55</th>\n",
       "      <td>actor</td>\n",
       "      <td>USA</td>\n",
       "      <td>2000</td>\n",
       "    </tr>\n",
       "    <tr>\n",
       "      <th>72</th>\n",
       "      <td>actor</td>\n",
       "      <td>USA</td>\n",
       "      <td>2000</td>\n",
       "    </tr>\n",
       "    <tr>\n",
       "      <th>89</th>\n",
       "      <td>actor</td>\n",
       "      <td>USA</td>\n",
       "      <td>2000</td>\n",
       "    </tr>\n",
       "    <tr>\n",
       "      <th>106</th>\n",
       "      <td>actress</td>\n",
       "      <td>USA</td>\n",
       "      <td>2000</td>\n",
       "    </tr>\n",
       "    <tr>\n",
       "      <th>159</th>\n",
       "      <td>actor</td>\n",
       "      <td>USA</td>\n",
       "      <td>2000</td>\n",
       "    </tr>\n",
       "  </tbody>\n",
       "</table>\n",
       "</div>"
      ],
      "text/plain": [
       "        type country  decade\n",
       "55     actor     USA    2000\n",
       "72     actor     USA    2000\n",
       "89     actor     USA    2000\n",
       "106  actress     USA    2000\n",
       "159    actor     USA    2000"
      ]
     },
     "execution_count": 193,
     "metadata": {},
     "output_type": "execute_result"
    }
   ],
   "source": [
    "# filter only the US films\n",
    "data = data[data.country=='USA']\n",
    "data.head()"
   ]
  },
  {
   "cell_type": "code",
   "execution_count": 194,
   "metadata": {},
   "outputs": [
    {
     "data": {
      "text/html": [
       "<div>\n",
       "<style scoped>\n",
       "    .dataframe tbody tr th:only-of-type {\n",
       "        vertical-align: middle;\n",
       "    }\n",
       "\n",
       "    .dataframe tbody tr th {\n",
       "        vertical-align: top;\n",
       "    }\n",
       "\n",
       "    .dataframe thead th {\n",
       "        text-align: right;\n",
       "    }\n",
       "</style>\n",
       "<table border=\"1\" class=\"dataframe\">\n",
       "  <thead>\n",
       "    <tr style=\"text-align: right;\">\n",
       "      <th></th>\n",
       "      <th></th>\n",
       "      <th>country</th>\n",
       "    </tr>\n",
       "    <tr>\n",
       "      <th>type</th>\n",
       "      <th>decade</th>\n",
       "      <th></th>\n",
       "    </tr>\n",
       "  </thead>\n",
       "  <tbody>\n",
       "    <tr>\n",
       "      <th rowspan=\"7\" valign=\"top\">actor</th>\n",
       "      <th>1960</th>\n",
       "      <td>3740</td>\n",
       "    </tr>\n",
       "    <tr>\n",
       "      <th>1970</th>\n",
       "      <td>3241</td>\n",
       "    </tr>\n",
       "    <tr>\n",
       "      <th>1980</th>\n",
       "      <td>6431</td>\n",
       "    </tr>\n",
       "    <tr>\n",
       "      <th>1990</th>\n",
       "      <td>8386</td>\n",
       "    </tr>\n",
       "    <tr>\n",
       "      <th>2000</th>\n",
       "      <td>10150</td>\n",
       "    </tr>\n",
       "    <tr>\n",
       "      <th>2010</th>\n",
       "      <td>14246</td>\n",
       "    </tr>\n",
       "    <tr>\n",
       "      <th>2020</th>\n",
       "      <td>2</td>\n",
       "    </tr>\n",
       "    <tr>\n",
       "      <th rowspan=\"6\" valign=\"top\">actress</th>\n",
       "      <th>1960</th>\n",
       "      <td>2074</td>\n",
       "    </tr>\n",
       "    <tr>\n",
       "      <th>1970</th>\n",
       "      <td>1523</td>\n",
       "    </tr>\n",
       "    <tr>\n",
       "      <th>1980</th>\n",
       "      <td>3310</td>\n",
       "    </tr>\n",
       "    <tr>\n",
       "      <th>1990</th>\n",
       "      <td>4538</td>\n",
       "    </tr>\n",
       "    <tr>\n",
       "      <th>2000</th>\n",
       "      <td>5566</td>\n",
       "    </tr>\n",
       "    <tr>\n",
       "      <th>2010</th>\n",
       "      <td>8252</td>\n",
       "    </tr>\n",
       "  </tbody>\n",
       "</table>\n",
       "</div>"
      ],
      "text/plain": [
       "                country\n",
       "type    decade         \n",
       "actor   1960       3740\n",
       "        1970       3241\n",
       "        1980       6431\n",
       "        1990       8386\n",
       "        2000      10150\n",
       "        2010      14246\n",
       "        2020          2\n",
       "actress 1960       2074\n",
       "        1970       1523\n",
       "        1980       3310\n",
       "        1990       4538\n",
       "        2000       5566\n",
       "        2010       8252"
      ]
     },
     "execution_count": 194,
     "metadata": {},
     "output_type": "execute_result"
    }
   ],
   "source": [
    "# See what it looks like in the groups we want\n",
    "data.groupby(['type', 'decade']).count()"
   ]
  },
  {
   "cell_type": "markdown",
   "metadata": {},
   "source": [
    "Now this next bit is tricky. We'll use a pivot to perform the above grouping as well as aggregate the counts of each type.\n",
    "The result is the same as grouping by type and decade and then storing the count in another column, followed by some unstacking."
   ]
  },
  {
   "cell_type": "code",
   "execution_count": 195,
   "metadata": {},
   "outputs": [
    {
     "data": {
      "text/html": [
       "<div>\n",
       "<style scoped>\n",
       "    .dataframe tbody tr th:only-of-type {\n",
       "        vertical-align: middle;\n",
       "    }\n",
       "\n",
       "    .dataframe tbody tr th {\n",
       "        vertical-align: top;\n",
       "    }\n",
       "\n",
       "    .dataframe thead tr th {\n",
       "        text-align: left;\n",
       "    }\n",
       "\n",
       "    .dataframe thead tr:last-of-type th {\n",
       "        text-align: right;\n",
       "    }\n",
       "</style>\n",
       "<table border=\"1\" class=\"dataframe\">\n",
       "  <thead>\n",
       "    <tr>\n",
       "      <th></th>\n",
       "      <th colspan=\"2\" halign=\"left\">country</th>\n",
       "    </tr>\n",
       "    <tr>\n",
       "      <th>type</th>\n",
       "      <th>actor</th>\n",
       "      <th>actress</th>\n",
       "    </tr>\n",
       "    <tr>\n",
       "      <th>decade</th>\n",
       "      <th></th>\n",
       "      <th></th>\n",
       "    </tr>\n",
       "  </thead>\n",
       "  <tbody>\n",
       "    <tr>\n",
       "      <th>1960</th>\n",
       "      <td>3740</td>\n",
       "      <td>2074</td>\n",
       "    </tr>\n",
       "    <tr>\n",
       "      <th>1970</th>\n",
       "      <td>3241</td>\n",
       "      <td>1523</td>\n",
       "    </tr>\n",
       "    <tr>\n",
       "      <th>1980</th>\n",
       "      <td>6431</td>\n",
       "      <td>3310</td>\n",
       "    </tr>\n",
       "    <tr>\n",
       "      <th>1990</th>\n",
       "      <td>8386</td>\n",
       "      <td>4538</td>\n",
       "    </tr>\n",
       "    <tr>\n",
       "      <th>2000</th>\n",
       "      <td>10150</td>\n",
       "      <td>5566</td>\n",
       "    </tr>\n",
       "    <tr>\n",
       "      <th>2010</th>\n",
       "      <td>14246</td>\n",
       "      <td>8252</td>\n",
       "    </tr>\n",
       "    <tr>\n",
       "      <th>2020</th>\n",
       "      <td>2</td>\n",
       "      <td>0</td>\n",
       "    </tr>\n",
       "  </tbody>\n",
       "</table>\n",
       "</div>"
      ],
      "text/plain": [
       "       country        \n",
       "type     actor actress\n",
       "decade                \n",
       "1960      3740    2074\n",
       "1970      3241    1523\n",
       "1980      6431    3310\n",
       "1990      8386    4538\n",
       "2000     10150    5566\n",
       "2010     14246    8252\n",
       "2020         2       0"
      ]
     },
     "execution_count": 195,
     "metadata": {},
     "output_type": "execute_result"
    }
   ],
   "source": [
    "# turns out you need to aggregate using len() in this situation\n",
    "pvt = data.pivot_table(index='decade', columns='type', aggfunc=len, fill_value=0)\n",
    "pvt"
   ]
  },
  {
   "cell_type": "markdown",
   "metadata": {},
   "source": [
    "Finally, graph it!"
   ]
  },
  {
   "cell_type": "code",
   "execution_count": 196,
   "metadata": {},
   "outputs": [
    {
     "data": {
      "text/plain": [
       "Text(0.5, 1.0, 'Number of Actors vs. Actresses by Decade in US films')"
      ]
     },
     "execution_count": 196,
     "metadata": {},
     "output_type": "execute_result"
    },
    {
     "data": {
      "image/png": "[encoded data removed]",
      "text/plain": [
       "<Figure size 432x288 with 1 Axes>"
      ]
     },
     "metadata": {
      "needs_background": "light"
     },
     "output_type": "display_data"
    }
   ],
   "source": [
    "ax = pvt.plot()\n",
    "ax.legend(labels=['Actors', 'Actresses'])\n",
    "ax.set_xlabel('Decade')\n",
    "ax.set_ylabel('Number of Actors/Actresses')\n",
    "ax.set_title('Number of Actors vs. Actresses by Decade in US films')"
   ]
  }
 ],
 "metadata": {
  "kernelspec": {
   "display_name": "Python 3",
   "language": "python",
   "name": "python3"
  },
  "language_info": {
   "codemirror_mode": {
    "name": "ipython",
    "version": 3
   },
   "file_extension": ".py",
   "mimetype": "text/x-python",
   "name": "python",
   "nbconvert_exporter": "python",
   "pygments_lexer": "ipython3",
   "version": "3.7.3"
  }
 },
 "nbformat": 4,
 "nbformat_minor": 2
}
