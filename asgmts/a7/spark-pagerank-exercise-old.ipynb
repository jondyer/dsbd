{
 "cells": [
  {
   "cell_type": "markdown",
   "metadata": {},
   "source": [
    "Below is the outline of pyspark code for calculating the pagerank of a graph expressed in the edge vector representation.  For this past of the assignment:\n",
    "\n",
    "1. Complete the code below\n",
    "2. Write doc string comments for all functions documenting what they do\n",
    "3. Test your code on other graphs we've worked in previous assignments\n",
    "\n",
    "I recommend reviewing the (i) the Excel spread sheet calculation we did for simulating the page rank calculation (ii) and slides on pagerank.  Ensure you understand the algorithm well before starting on this exercise. \n",
    "\n",
    "Rather than just stating \"Write PySpark code to calculate PageRank\" I've provided some helper functions and sample output along the way to provide guidance.  To faciliate grading, do stay with these functions."
   ]
  },
  {
   "cell_type": "code",
   "execution_count": 1,
   "metadata": {},
   "outputs": [],
   "source": [
    "import findspark\n",
    "findspark.init()\n",
    "from pyspark import SparkContext\n",
    "sc = SparkContext() "
   ]
  },
  {
   "cell_type": "markdown",
   "metadata": {},
   "source": [
    "# page rank"
   ]
  },
  {
   "cell_type": "code",
   "execution_count": 2,
   "metadata": {},
   "outputs": [],
   "source": [
    "def parse_line(line):\n",
    "    '''\n",
    "    This function will be mapped to all lines in the input graph file. It\n",
    "    will be applied to each line in order to parse out the node and all\n",
    "    its neighbors, which it returns as a tuple.\n",
    "    '''\n",
    "    x, *nbrs = line.split()\n",
    "    return (x, nbrs)"
   ]
  },
  {
   "cell_type": "code",
   "execution_count": 3,
   "metadata": {},
   "outputs": [],
   "source": [
    "def read_graph(fname):\n",
    "    '''\n",
    "    Reads in a graph file in incidence vector form, and returns an rdd\n",
    "    containing all graph data as (node, [neighbors]) tuples.\n",
    "    '''\n",
    "    lines = sc.textFile(fname)\n",
    "    rdd = lines.map(parse_line)\n",
    "    return rdd"
   ]
  },
  {
   "cell_type": "code",
   "execution_count": 4,
   "metadata": {},
   "outputs": [
    {
     "data": {
      "text/plain": [
       "[('A', ['B', 'C']), ('B', ['C']), ('C', ['A']), ('D', ['C'])]"
      ]
     },
     "execution_count": 4,
     "metadata": {},
     "output_type": "execute_result"
    }
   ],
   "source": [
    "read_graph('graph-1.txt').collect()"
   ]
  },
  {
   "cell_type": "code",
   "execution_count": 5,
   "metadata": {
    "scrolled": true
   },
   "outputs": [],
   "source": [
    "def init_ranks(graph):\n",
    "    '''\n",
    "    Calculates the initial page ranks of the nodes in this graph\n",
    "    as 1 / number_of_nodes. Returns an rdd with these values.\n",
    "    '''\n",
    "    length = graph.count()                          # get size of graph\n",
    "    start_rank = 1/length                           # calculate rank\n",
    "    return graph.map(lambda x: (x[0], start_rank))  # return values"
   ]
  },
  {
   "cell_type": "code",
   "execution_count": 6,
   "metadata": {},
   "outputs": [
    {
     "data": {
      "text/plain": [
       "[('A', 0.25), ('B', 0.25), ('C', 0.25), ('D', 0.25)]"
      ]
     },
     "execution_count": 6,
     "metadata": {},
     "output_type": "execute_result"
    }
   ],
   "source": [
    "g = read_graph('graph-1.txt')\n",
    "init_ranks(g).collect()"
   ]
  },
  {
   "cell_type": "code",
   "execution_count": 7,
   "metadata": {},
   "outputs": [],
   "source": [
    "def calc_partials(x):\n",
    "    '''\n",
    "    Takes an element of form (rank, [neighbors]) and \n",
    "    calculates the partial sums for these neighbor nodes.\n",
    "    '''\n",
    "    rank, nbrs = x            # get rank and neighbors\n",
    "    partial = rank/len(nbrs)  # calculate partial\n",
    "    return [(n, partial) for n in nbrs]"
   ]
  },
  {
   "cell_type": "code",
   "execution_count": 8,
   "metadata": {},
   "outputs": [],
   "source": [
    "def calc_contribs(ranks, graph):\n",
    "    '''\n",
    "    This function calculates the contributions for each node\n",
    "    from all of its neighbors. Since we have a reference rdd\n",
    "    with the graph, we don't need to pass neighbors on.\n",
    "    '''\n",
    "    # get rank and list of neighbors all in one place\n",
    "    joined = ranks.join(graph).map(lambda x: x[1])\n",
    "    \n",
    "    # now calculate the contributions to each neighbor with helper fn\n",
    "    contribs = joined.flatMap(calc_partials)\n",
    "    \n",
    "    # make zero values for nodes that might be missing\n",
    "    dummy = graph.map(lambda x: (x[0], 0))\n",
    "    \n",
    "    return contribs.union(dummy)"
   ]
  },
  {
   "cell_type": "code",
   "execution_count": 9,
   "metadata": {},
   "outputs": [],
   "source": [
    "g = read_graph('graph-1.txt')\n",
    "r = init_ranks(g)"
   ]
  },
  {
   "cell_type": "markdown",
   "metadata": {},
   "source": [
    "Note that when calculating the contributions we have A, B, C, D also paired with 0?  Why?  \n",
    "--> So those nodes (like D) with no in-links don't get left behind!"
   ]
  },
  {
   "cell_type": "code",
   "execution_count": 10,
   "metadata": {},
   "outputs": [
    {
     "data": {
      "text/plain": [
       "[('B', 0.125),\n",
       " ('C', 0.125),\n",
       " ('C', 0.25),\n",
       " ('A', 0.25),\n",
       " ('C', 0.25),\n",
       " ('A', 0),\n",
       " ('B', 0),\n",
       " ('C', 0),\n",
       " ('D', 0)]"
      ]
     },
     "execution_count": 10,
     "metadata": {},
     "output_type": "execute_result"
    }
   ],
   "source": [
    "c1 = calc_contribs(r, g)\n",
    "c1.collect()"
   ]
  },
  {
   "cell_type": "code",
   "execution_count": 11,
   "metadata": {},
   "outputs": [],
   "source": [
    "def calc_ranks(contribs, num_nodes, beta):\n",
    "    '''\n",
    "    This function will calculate the new ranks for each node in\n",
    "    contribs according to the page rank algorithm. Returns an\n",
    "    RDD with one element per node, with its new rank.\n",
    "    '''\n",
    "    # compute first term \n",
    "    first_term = (1-beta)/num_nodes\n",
    "    \n",
    "    # compute second term for all nodes\n",
    "    seconds = contribs.reduceByKey(lambda x,y: x+y)\n",
    "    \n",
    "    # now finish computation for all nodes\n",
    "    new_ranks = seconds.map(lambda x: (x[0], (x[1]*beta + first_term)))\n",
    "    return new_ranks"
   ]
  },
  {
   "cell_type": "code",
   "execution_count": 12,
   "metadata": {},
   "outputs": [
    {
     "data": {
      "text/plain": [
       "[('C', 0.56875), ('A', 0.25), ('B', 0.14375), ('D', 0.037500000000000006)]"
      ]
     },
     "execution_count": 12,
     "metadata": {},
     "output_type": "execute_result"
    }
   ],
   "source": [
    "calc_ranks(c1, num_nodes=g.count(), beta=0.85).collect()"
   ]
  },
  {
   "cell_type": "code",
   "execution_count": 13,
   "metadata": {},
   "outputs": [],
   "source": [
    "def pagerank(fname, beta=0.85, n=10):\n",
    "    '''\n",
    "    This function puts together the whole pagerank process:\n",
    "        1) Read the graph and initialize the ranks.\n",
    "        2) Compile and calculate new ranks.\n",
    "        3) Repeat step 2 for n iterations.\n",
    "    '''\n",
    "    # Step 1\n",
    "    g = read_graph(fname)\n",
    "    r = init_ranks(g)\n",
    "    num_nodes = g.count()\n",
    "    \n",
    "    # Steps 2 and 3\n",
    "    for _ in range(n):\n",
    "        c = calc_contribs(r, g)\n",
    "        r = calc_ranks(c, num_nodes, beta)\n",
    "        \n",
    "    return list(r.collect())"
   ]
  },
  {
   "cell_type": "code",
   "execution_count": 14,
   "metadata": {},
   "outputs": [
    {
     "data": {
      "text/plain": [
       "[('A', 0.375054382302053),\n",
       " ('B', 0.1949370588413849),\n",
       " ('C', 0.3925085588565621),\n",
       " ('D', 0.037500000000000006)]"
      ]
     },
     "execution_count": 14,
     "metadata": {},
     "output_type": "execute_result"
    }
   ],
   "source": [
    "sorted(pagerank('graph-1.txt', beta=0.85, n=10))"
   ]
  },
  {
   "cell_type": "code",
   "execution_count": 23,
   "metadata": {},
   "outputs": [
    {
     "name": "stdout",
     "output_type": "stream",
     "text": [
      "Wall time: 8min 4s\n"
     ]
    },
    {
     "data": {
      "text/plain": [
       "[('A', 0.3552329235133619),\n",
       " ('B', 0.18087715033826585),\n",
       " ('C', 0.26671408227310545),\n",
       " ('D', 0.08133891194042742),\n",
       " ('E', 0.11583693193483957)]"
      ]
     },
     "execution_count": 23,
     "metadata": {},
     "output_type": "execute_result"
    }
   ],
   "source": [
    "%%time\n",
    "sorted(pagerank('graph-2.txt', beta=0.85, n=10))"
   ]
  },
  {
   "cell_type": "code",
   "execution_count": 36,
   "metadata": {},
   "outputs": [
    {
     "name": "stdout",
     "output_type": "stream",
     "text": [
      "Wall time: 14.5 s\n"
     ]
    },
    {
     "data": {
      "text/plain": [
       "[('A', 0.052272727272727276),\n",
       " ('B', 0.31757575757575757),\n",
       " ('C', 0.09863636363636365),\n",
       " ('D', 0.047121212121212126),\n",
       " ('E', 0.3304545454545455),\n",
       " ('F', 0.047121212121212126),\n",
       " ('G', 0.021363636363636366),\n",
       " ('H', 0.021363636363636366),\n",
       " ('I', 0.021363636363636366),\n",
       " ('J', 0.021363636363636366),\n",
       " ('K', 0.021363636363636366)]"
      ]
     },
     "execution_count": 36,
     "metadata": {},
     "output_type": "execute_result"
    }
   ],
   "source": [
    "%%time\n",
    "sorted(pagerank('wikipedia-example.txt', beta=0.85, n=10))"
   ]
  }
 ],
 "metadata": {
  "kernelspec": {
   "display_name": "Python 3",
   "language": "python",
   "name": "python3"
  },
  "language_info": {
   "codemirror_mode": {
    "name": "ipython",
    "version": 3
   },
   "file_extension": ".py",
   "mimetype": "text/x-python",
   "name": "python",
   "nbconvert_exporter": "python",
   "pygments_lexer": "ipython3",
   "version": "3.7.3"
  }
 },
 "nbformat": 4,
 "nbformat_minor": 2
}
