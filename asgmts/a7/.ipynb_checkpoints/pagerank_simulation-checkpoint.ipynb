{
 "cells": [
  {
   "cell_type": "markdown",
   "metadata": {},
   "source": [
    "Jonathan Dyer  \n",
    "jbdyer"
   ]
  },
  {
   "cell_type": "code",
   "execution_count": 1,
   "metadata": {},
   "outputs": [],
   "source": [
    "import random\n",
    "from collections import Counter\n",
    "random.seed(1)"
   ]
  },
  {
   "cell_type": "code",
   "execution_count": 2,
   "metadata": {},
   "outputs": [],
   "source": [
    "def read_graph(fname):\n",
    "    '''\n",
    "    Takes a filename of a file with incidence vector representation of \n",
    "    a graph, and reads it into a dictionary of key, [values] pairs. The\n",
    "    key is each node in the graph, and the value is a list of neighbors.\n",
    "    '''\n",
    "    d = {}\n",
    "    with open(fname) as f:\n",
    "        for line in f:\n",
    "            k, *v = line.split()\n",
    "            d[k] = v\n",
    "            \n",
    "    return d"
   ]
  },
  {
   "cell_type": "code",
   "execution_count": 3,
   "metadata": {},
   "outputs": [],
   "source": [
    "def random_walk(graph, walk_len=1000, beta=0.85):\n",
    "    '''\n",
    "    Performs the process of a \"random walk\" across the given graph, with\n",
    "    the parameters specified.\n",
    "    1) Randomly select a page p to start on.\n",
    "    2) With probability beta, select a random page from the neighbors of p \n",
    "    to switch to, otherwise jump to a random page.\n",
    "    3) Repeat step 2 walk_len times.\n",
    "    '''\n",
    "    nodes = list(graph.keys())\n",
    "    current = random.choice(nodes)  # get starting node\n",
    "    \n",
    "    # for walk_len times, jump pages as above\n",
    "    for i in range(walk_len):\n",
    "        if random.random() <= beta:\n",
    "            current = random.choice(graph[current])\n",
    "        else:\n",
    "            current = random.choice(nodes)\n",
    "            \n",
    "    return current"
   ]
  },
  {
   "cell_type": "code",
   "execution_count": 4,
   "metadata": {},
   "outputs": [],
   "source": [
    "def simulate_pagerank(fname, walk_len=1000, N=1000, beta=0.85):\n",
    "    '''\n",
    "    This is the driver function. It reads the graph in fname and \n",
    "    performs N random walks of length walk_len. Finally it calculates\n",
    "    the pagerank of each page and prints that information.\n",
    "    '''\n",
    "    # random.seed(1)\n",
    "    \n",
    "    # first read the graph\n",
    "    graph = read_graph(fname)\n",
    "    all_nodes = list(graph.keys())\n",
    "    \n",
    "    # now perform the random walks, counting each result\n",
    "    node_count = Counter()\n",
    "    for i in range(N):\n",
    "        node_count.update(random_walk(graph))\n",
    "        \n",
    "    # finally calculate the PageRank for each\n",
    "    for node in sorted(all_nodes):\n",
    "        rank = node_count[node] / N\n",
    "        print(node, rank)"
   ]
  },
  {
   "cell_type": "code",
   "execution_count": 5,
   "metadata": {
    "scrolled": true
   },
   "outputs": [
    {
     "name": "stdout",
     "output_type": "stream",
     "text": [
      "A 0.379\n",
      "B 0.206\n",
      "C 0.37\n",
      "D 0.045\n"
     ]
    }
   ],
   "source": [
    "simulate_pagerank(\"graph-1.txt\")"
   ]
  },
  {
   "cell_type": "code",
   "execution_count": 7,
   "metadata": {},
   "outputs": [
    {
     "name": "stdout",
     "output_type": "stream",
     "text": [
      "A 0.3648\n",
      "B 0.1778\n",
      "C 0.2678\n",
      "D 0.078\n",
      "E 0.1116\n"
     ]
    }
   ],
   "source": [
    "simulate_pagerank(\"graph-2.txt\", N=5000)"
   ]
  },
  {
   "cell_type": "code",
   "execution_count": 9,
   "metadata": {},
   "outputs": [
    {
     "name": "stdout",
     "output_type": "stream",
     "text": [
      "A 0.032\n",
      "B 0.3818\n",
      "C 0.3504\n",
      "D 0.0386\n",
      "E 0.0822\n",
      "F 0.037\n",
      "G 0.0148\n",
      "H 0.0174\n",
      "I 0.0166\n",
      "J 0.0126\n",
      "K 0.0166\n"
     ]
    }
   ],
   "source": [
    "simulate_pagerank(\"wikipedia-example.txt\", N=5000)"
   ]
  }
 ],
 "metadata": {
  "kernelspec": {
   "display_name": "Python 3",
   "language": "python",
   "name": "python3"
  },
  "language_info": {
   "codemirror_mode": {
    "name": "ipython",
    "version": 3
   },
   "file_extension": ".py",
   "mimetype": "text/x-python",
   "name": "python",
   "nbconvert_exporter": "python",
   "pygments_lexer": "ipython3",
   "version": "3.7.3"
  }
 },
 "nbformat": 4,
 "nbformat_minor": 2
}
