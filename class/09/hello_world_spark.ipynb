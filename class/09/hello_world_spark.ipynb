{
 "cells": [
  {
   "cell_type": "code",
   "execution_count": 1,
   "metadata": {},
   "outputs": [],
   "source": [
    "import findspark\n",
    "findspark.init()\n",
    "from pyspark import SparkContext\n",
    "sc = SparkContext() "
   ]
  },
  {
   "cell_type": "markdown",
   "metadata": {},
   "source": [
    "On executing the below cell you should see:\n",
    "\n",
    "```\n",
    "  l:   3\n",
    "  o:   2\n",
    "  r:   1\n",
    "  H:   1\n",
    "  e:   1\n",
    "  W:   1\n",
    "  d:   1\n",
    "   :   1\n",
    "   ```"
   ]
  },
  {
   "cell_type": "code",
   "execution_count": 2,
   "metadata": {},
   "outputs": [
    {
     "name": "stdout",
     "output_type": "stream",
     "text": [
      "  l:   3\n",
      "  o:   2\n",
      "  r:   1\n",
      "  H:   1\n",
      "  e:   1\n",
      "  W:   1\n",
      "  d:   1\n",
      "   :   1\n"
     ]
    }
   ],
   "source": [
    "data = sc.parallelize(list(\"Hello World\"))\n",
    "counts = (data.map(lambda x: (x, 1))\n",
    "              .reduceByKey(lambda x, y: x+y)\n",
    "              .sortBy(lambda x: x[1], ascending=False)\n",
    "              .collect())\n",
    "\n",
    "for (ltr, count) in counts:\n",
    "    print(\"%3s: %3d\" % (ltr, count))"
   ]
  },
  {
   "cell_type": "code",
   "execution_count": null,
   "metadata": {},
   "outputs": [],
   "source": []
  }
 ],
 "metadata": {
  "kernelspec": {
   "display_name": "Python 3",
   "language": "python",
   "name": "python3"
  },
  "language_info": {
   "codemirror_mode": {
    "name": "ipython",
    "version": 3
   },
   "file_extension": ".py",
   "mimetype": "text/x-python",
   "name": "python",
   "nbconvert_exporter": "python",
   "pygments_lexer": "ipython3",
   "version": "3.7.3"
  }
 },
 "nbformat": 4,
 "nbformat_minor": 2
}
