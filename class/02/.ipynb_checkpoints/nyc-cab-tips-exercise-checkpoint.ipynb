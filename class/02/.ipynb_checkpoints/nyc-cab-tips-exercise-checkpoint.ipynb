{
 "cells": [
  {
   "cell_type": "markdown",
   "metadata": {},
   "source": [
    "### An anomaly in cab tip percentages"
   ]
  },
  {
   "cell_type": "code",
   "execution_count": 1,
   "metadata": {},
   "outputs": [],
   "source": [
    "import pandas as pd\n",
    "import matplotlib.pyplot as plt\n",
    "import numpy as np\n",
    "import seaborn as sns\n",
    "import warnings\n",
    "warnings.filterwarnings('ignore')\n",
    "%matplotlib inline"
   ]
  },
  {
   "cell_type": "markdown",
   "metadata": {},
   "source": [
    "#### Read the data ... it will take a while ... it is a 2G file"
   ]
  },
  {
   "cell_type": "code",
   "execution_count": 5,
   "metadata": {},
   "outputs": [
    {
     "name": "stdout",
     "output_type": "stream",
     "text": [
      "nyc-cab-tips-exercise.ipynb\n",
      "pandas-heisman-exercise.ipynb\n",
      "pandas-movielens-pivot-table-exercise.ipynb\n",
      "pandas-tennis-data.ipynb\n",
      "tennis-data.txt\n",
      "trip_fare_1.csv.gz\n",
      "u.data\n",
      "u.item\n",
      "u.user\n"
     ]
    }
   ],
   "source": [
    "!ls"
   ]
  },
  {
   "cell_type": "code",
   "execution_count": 2,
   "metadata": {},
   "outputs": [],
   "source": [
    "fare = pd.read_csv('trip_fare_1.csv.gz', header=0)"
   ]
  },
  {
   "cell_type": "code",
   "execution_count": 7,
   "metadata": {},
   "outputs": [
    {
     "data": {
      "text/html": [
       "<div>\n",
       "<style scoped>\n",
       "    .dataframe tbody tr th:only-of-type {\n",
       "        vertical-align: middle;\n",
       "    }\n",
       "\n",
       "    .dataframe tbody tr th {\n",
       "        vertical-align: top;\n",
       "    }\n",
       "\n",
       "    .dataframe thead th {\n",
       "        text-align: right;\n",
       "    }\n",
       "</style>\n",
       "<table border=\"1\" class=\"dataframe\">\n",
       "  <thead>\n",
       "    <tr style=\"text-align: right;\">\n",
       "      <th></th>\n",
       "      <th>0</th>\n",
       "      <th>1</th>\n",
       "      <th>2</th>\n",
       "      <th>3</th>\n",
       "      <th>4</th>\n",
       "    </tr>\n",
       "  </thead>\n",
       "  <tbody>\n",
       "    <tr>\n",
       "      <td>medallion</td>\n",
       "      <td>89D227B655E5C82AECF13C3F540D4CF4</td>\n",
       "      <td>0BD7C8F5BA12B88E0B67BED28BEA73D8</td>\n",
       "      <td>0BD7C8F5BA12B88E0B67BED28BEA73D8</td>\n",
       "      <td>DFD2202EE08F7A8DC9A57B02ACB81FE2</td>\n",
       "      <td>DFD2202EE08F7A8DC9A57B02ACB81FE2</td>\n",
       "    </tr>\n",
       "    <tr>\n",
       "      <td>hack_license</td>\n",
       "      <td>BA96DE419E711691B9445D6A6307C170</td>\n",
       "      <td>9FD8F69F0804BDB5549F40E9DA1BE472</td>\n",
       "      <td>9FD8F69F0804BDB5549F40E9DA1BE472</td>\n",
       "      <td>51EE87E3205C985EF8431D850C786310</td>\n",
       "      <td>51EE87E3205C985EF8431D850C786310</td>\n",
       "    </tr>\n",
       "    <tr>\n",
       "      <td>vendor_id</td>\n",
       "      <td>CMT</td>\n",
       "      <td>CMT</td>\n",
       "      <td>CMT</td>\n",
       "      <td>CMT</td>\n",
       "      <td>CMT</td>\n",
       "    </tr>\n",
       "    <tr>\n",
       "      <td>pickup_datetime</td>\n",
       "      <td>2013-01-01 15:11:48</td>\n",
       "      <td>2013-01-06 00:18:35</td>\n",
       "      <td>2013-01-05 18:49:41</td>\n",
       "      <td>2013-01-07 23:54:15</td>\n",
       "      <td>2013-01-07 23:25:03</td>\n",
       "    </tr>\n",
       "    <tr>\n",
       "      <td>payment_type</td>\n",
       "      <td>CSH</td>\n",
       "      <td>CSH</td>\n",
       "      <td>CSH</td>\n",
       "      <td>CSH</td>\n",
       "      <td>CSH</td>\n",
       "    </tr>\n",
       "    <tr>\n",
       "      <td>fare_amount</td>\n",
       "      <td>6.5</td>\n",
       "      <td>6</td>\n",
       "      <td>5.5</td>\n",
       "      <td>5</td>\n",
       "      <td>9.5</td>\n",
       "    </tr>\n",
       "    <tr>\n",
       "      <td>surcharge</td>\n",
       "      <td>0</td>\n",
       "      <td>0.5</td>\n",
       "      <td>1</td>\n",
       "      <td>0.5</td>\n",
       "      <td>0.5</td>\n",
       "    </tr>\n",
       "    <tr>\n",
       "      <td>mta_tax</td>\n",
       "      <td>0.5</td>\n",
       "      <td>0.5</td>\n",
       "      <td>0.5</td>\n",
       "      <td>0.5</td>\n",
       "      <td>0.5</td>\n",
       "    </tr>\n",
       "    <tr>\n",
       "      <td>tip_amount</td>\n",
       "      <td>0</td>\n",
       "      <td>0</td>\n",
       "      <td>0</td>\n",
       "      <td>0</td>\n",
       "      <td>0</td>\n",
       "    </tr>\n",
       "    <tr>\n",
       "      <td>tolls_amount</td>\n",
       "      <td>0</td>\n",
       "      <td>0</td>\n",
       "      <td>0</td>\n",
       "      <td>0</td>\n",
       "      <td>0</td>\n",
       "    </tr>\n",
       "    <tr>\n",
       "      <td>total_amount</td>\n",
       "      <td>7</td>\n",
       "      <td>7</td>\n",
       "      <td>7</td>\n",
       "      <td>6</td>\n",
       "      <td>10.5</td>\n",
       "    </tr>\n",
       "  </tbody>\n",
       "</table>\n",
       "</div>"
      ],
      "text/plain": [
       "                                                 0  \\\n",
       "medallion         89D227B655E5C82AECF13C3F540D4CF4   \n",
       " hack_license     BA96DE419E711691B9445D6A6307C170   \n",
       " vendor_id                                     CMT   \n",
       " pickup_datetime               2013-01-01 15:11:48   \n",
       " payment_type                                  CSH   \n",
       " fare_amount                                   6.5   \n",
       " surcharge                                       0   \n",
       " mta_tax                                       0.5   \n",
       " tip_amount                                      0   \n",
       " tolls_amount                                    0   \n",
       " total_amount                                    7   \n",
       "\n",
       "                                                 1  \\\n",
       "medallion         0BD7C8F5BA12B88E0B67BED28BEA73D8   \n",
       " hack_license     9FD8F69F0804BDB5549F40E9DA1BE472   \n",
       " vendor_id                                     CMT   \n",
       " pickup_datetime               2013-01-06 00:18:35   \n",
       " payment_type                                  CSH   \n",
       " fare_amount                                     6   \n",
       " surcharge                                     0.5   \n",
       " mta_tax                                       0.5   \n",
       " tip_amount                                      0   \n",
       " tolls_amount                                    0   \n",
       " total_amount                                    7   \n",
       "\n",
       "                                                 2  \\\n",
       "medallion         0BD7C8F5BA12B88E0B67BED28BEA73D8   \n",
       " hack_license     9FD8F69F0804BDB5549F40E9DA1BE472   \n",
       " vendor_id                                     CMT   \n",
       " pickup_datetime               2013-01-05 18:49:41   \n",
       " payment_type                                  CSH   \n",
       " fare_amount                                   5.5   \n",
       " surcharge                                       1   \n",
       " mta_tax                                       0.5   \n",
       " tip_amount                                      0   \n",
       " tolls_amount                                    0   \n",
       " total_amount                                    7   \n",
       "\n",
       "                                                 3  \\\n",
       "medallion         DFD2202EE08F7A8DC9A57B02ACB81FE2   \n",
       " hack_license     51EE87E3205C985EF8431D850C786310   \n",
       " vendor_id                                     CMT   \n",
       " pickup_datetime               2013-01-07 23:54:15   \n",
       " payment_type                                  CSH   \n",
       " fare_amount                                     5   \n",
       " surcharge                                     0.5   \n",
       " mta_tax                                       0.5   \n",
       " tip_amount                                      0   \n",
       " tolls_amount                                    0   \n",
       " total_amount                                    6   \n",
       "\n",
       "                                                 4  \n",
       "medallion         DFD2202EE08F7A8DC9A57B02ACB81FE2  \n",
       " hack_license     51EE87E3205C985EF8431D850C786310  \n",
       " vendor_id                                     CMT  \n",
       " pickup_datetime               2013-01-07 23:25:03  \n",
       " payment_type                                  CSH  \n",
       " fare_amount                                   9.5  \n",
       " surcharge                                     0.5  \n",
       " mta_tax                                       0.5  \n",
       " tip_amount                                      0  \n",
       " tolls_amount                                    0  \n",
       " total_amount                                 10.5  "
      ]
     },
     "execution_count": 7,
     "metadata": {},
     "output_type": "execute_result"
    }
   ],
   "source": [
    "fare.head().T"
   ]
  },
  {
   "cell_type": "code",
   "execution_count": 8,
   "metadata": {},
   "outputs": [
    {
     "data": {
      "text/plain": [
       "Index(['medallion', ' hack_license', ' vendor_id', ' pickup_datetime',\n",
       "       ' payment_type', ' fare_amount', ' surcharge', ' mta_tax',\n",
       "       ' tip_amount', ' tolls_amount', ' total_amount'],\n",
       "      dtype='object')"
      ]
     },
     "execution_count": 8,
     "metadata": {},
     "output_type": "execute_result"
    }
   ],
   "source": [
    "fare.columns"
   ]
  },
  {
   "cell_type": "markdown",
   "metadata": {},
   "source": [
    "#### For convenience lets remove the white space in column names"
   ]
  },
  {
   "cell_type": "code",
   "execution_count": 10,
   "metadata": {},
   "outputs": [
    {
     "data": {
      "text/plain": [
       "Index(['medallion', 'hack_license', 'vendor_id', 'pickup_datetime',\n",
       "       'payment_type', 'fare_amount', 'surcharge', 'mta_tax', 'tip_amount',\n",
       "       'tolls_amount', 'total_amount'],\n",
       "      dtype='object')"
      ]
     },
     "execution_count": 10,
     "metadata": {},
     "output_type": "execute_result"
    }
   ],
   "source": [
    "fare.columns = [col.strip() for col in fare.columns]\n",
    "fare.columns"
   ]
  },
  {
   "cell_type": "code",
   "execution_count": 11,
   "metadata": {},
   "outputs": [
    {
     "data": {
      "text/plain": [
       "14776615"
      ]
     },
     "execution_count": 11,
     "metadata": {},
     "output_type": "execute_result"
    }
   ],
   "source": [
    "len(fare)"
   ]
  },
  {
   "cell_type": "code",
   "execution_count": 12,
   "metadata": {},
   "outputs": [],
   "source": [
    "fare.set_index(['pickup_datetime'], inplace=True)"
   ]
  },
  {
   "cell_type": "code",
   "execution_count": 13,
   "metadata": {},
   "outputs": [],
   "source": [
    "fare.drop(['medallion', 'hack_license'], axis=1, inplace=True)"
   ]
  },
  {
   "cell_type": "code",
   "execution_count": 14,
   "metadata": {},
   "outputs": [
    {
     "data": {
      "text/plain": [
       "Index(['vendor_id', 'payment_type', 'fare_amount', 'surcharge', 'mta_tax',\n",
       "       'tip_amount', 'tolls_amount', 'total_amount'],\n",
       "      dtype='object')"
      ]
     },
     "execution_count": 14,
     "metadata": {},
     "output_type": "execute_result"
    }
   ],
   "source": [
    "fare.columns"
   ]
  },
  {
   "cell_type": "code",
   "execution_count": 15,
   "metadata": {},
   "outputs": [
    {
     "data": {
      "text/html": [
       "<div>\n",
       "<style scoped>\n",
       "    .dataframe tbody tr th:only-of-type {\n",
       "        vertical-align: middle;\n",
       "    }\n",
       "\n",
       "    .dataframe tbody tr th {\n",
       "        vertical-align: top;\n",
       "    }\n",
       "\n",
       "    .dataframe thead th {\n",
       "        text-align: right;\n",
       "    }\n",
       "</style>\n",
       "<table border=\"1\" class=\"dataframe\">\n",
       "  <thead>\n",
       "    <tr style=\"text-align: right;\">\n",
       "      <th></th>\n",
       "      <th>vendor_id</th>\n",
       "      <th>payment_type</th>\n",
       "      <th>fare_amount</th>\n",
       "      <th>surcharge</th>\n",
       "      <th>mta_tax</th>\n",
       "      <th>tip_amount</th>\n",
       "      <th>tolls_amount</th>\n",
       "      <th>total_amount</th>\n",
       "    </tr>\n",
       "    <tr>\n",
       "      <th>pickup_datetime</th>\n",
       "      <th></th>\n",
       "      <th></th>\n",
       "      <th></th>\n",
       "      <th></th>\n",
       "      <th></th>\n",
       "      <th></th>\n",
       "      <th></th>\n",
       "      <th></th>\n",
       "    </tr>\n",
       "  </thead>\n",
       "  <tbody>\n",
       "    <tr>\n",
       "      <td>2013-01-01 15:11:48</td>\n",
       "      <td>CMT</td>\n",
       "      <td>CSH</td>\n",
       "      <td>6.5</td>\n",
       "      <td>0.0</td>\n",
       "      <td>0.5</td>\n",
       "      <td>0.0</td>\n",
       "      <td>0.0</td>\n",
       "      <td>7.0</td>\n",
       "    </tr>\n",
       "    <tr>\n",
       "      <td>2013-01-06 00:18:35</td>\n",
       "      <td>CMT</td>\n",
       "      <td>CSH</td>\n",
       "      <td>6.0</td>\n",
       "      <td>0.5</td>\n",
       "      <td>0.5</td>\n",
       "      <td>0.0</td>\n",
       "      <td>0.0</td>\n",
       "      <td>7.0</td>\n",
       "    </tr>\n",
       "    <tr>\n",
       "      <td>2013-01-05 18:49:41</td>\n",
       "      <td>CMT</td>\n",
       "      <td>CSH</td>\n",
       "      <td>5.5</td>\n",
       "      <td>1.0</td>\n",
       "      <td>0.5</td>\n",
       "      <td>0.0</td>\n",
       "      <td>0.0</td>\n",
       "      <td>7.0</td>\n",
       "    </tr>\n",
       "    <tr>\n",
       "      <td>2013-01-07 23:54:15</td>\n",
       "      <td>CMT</td>\n",
       "      <td>CSH</td>\n",
       "      <td>5.0</td>\n",
       "      <td>0.5</td>\n",
       "      <td>0.5</td>\n",
       "      <td>0.0</td>\n",
       "      <td>0.0</td>\n",
       "      <td>6.0</td>\n",
       "    </tr>\n",
       "    <tr>\n",
       "      <td>2013-01-07 23:25:03</td>\n",
       "      <td>CMT</td>\n",
       "      <td>CSH</td>\n",
       "      <td>9.5</td>\n",
       "      <td>0.5</td>\n",
       "      <td>0.5</td>\n",
       "      <td>0.0</td>\n",
       "      <td>0.0</td>\n",
       "      <td>10.5</td>\n",
       "    </tr>\n",
       "  </tbody>\n",
       "</table>\n",
       "</div>"
      ],
      "text/plain": [
       "                    vendor_id payment_type  fare_amount  surcharge  mta_tax  \\\n",
       "pickup_datetime                                                               \n",
       "2013-01-01 15:11:48       CMT          CSH          6.5        0.0      0.5   \n",
       "2013-01-06 00:18:35       CMT          CSH          6.0        0.5      0.5   \n",
       "2013-01-05 18:49:41       CMT          CSH          5.5        1.0      0.5   \n",
       "2013-01-07 23:54:15       CMT          CSH          5.0        0.5      0.5   \n",
       "2013-01-07 23:25:03       CMT          CSH          9.5        0.5      0.5   \n",
       "\n",
       "                     tip_amount  tolls_amount  total_amount  \n",
       "pickup_datetime                                              \n",
       "2013-01-01 15:11:48         0.0           0.0           7.0  \n",
       "2013-01-06 00:18:35         0.0           0.0           7.0  \n",
       "2013-01-05 18:49:41         0.0           0.0           7.0  \n",
       "2013-01-07 23:54:15         0.0           0.0           6.0  \n",
       "2013-01-07 23:25:03         0.0           0.0          10.5  "
      ]
     },
     "execution_count": 15,
     "metadata": {},
     "output_type": "execute_result"
    }
   ],
   "source": [
    "fare.head()"
   ]
  },
  {
   "cell_type": "markdown",
   "metadata": {},
   "source": [
    "## Calculate the percentage tip and plot a histogram"
   ]
  },
  {
   "cell_type": "code",
   "execution_count": 18,
   "metadata": {},
   "outputs": [
    {
     "data": {
      "text/html": [
       "<div>\n",
       "<style scoped>\n",
       "    .dataframe tbody tr th:only-of-type {\n",
       "        vertical-align: middle;\n",
       "    }\n",
       "\n",
       "    .dataframe tbody tr th {\n",
       "        vertical-align: top;\n",
       "    }\n",
       "\n",
       "    .dataframe thead th {\n",
       "        text-align: right;\n",
       "    }\n",
       "</style>\n",
       "<table border=\"1\" class=\"dataframe\">\n",
       "  <thead>\n",
       "    <tr style=\"text-align: right;\">\n",
       "      <th></th>\n",
       "      <th>vendor_id</th>\n",
       "      <th>payment_type</th>\n",
       "      <th>fare_amount</th>\n",
       "      <th>surcharge</th>\n",
       "      <th>mta_tax</th>\n",
       "      <th>tip_amount</th>\n",
       "      <th>tolls_amount</th>\n",
       "      <th>total_amount</th>\n",
       "      <th>tip%</th>\n",
       "    </tr>\n",
       "    <tr>\n",
       "      <th>pickup_datetime</th>\n",
       "      <th></th>\n",
       "      <th></th>\n",
       "      <th></th>\n",
       "      <th></th>\n",
       "      <th></th>\n",
       "      <th></th>\n",
       "      <th></th>\n",
       "      <th></th>\n",
       "      <th></th>\n",
       "    </tr>\n",
       "  </thead>\n",
       "  <tbody>\n",
       "    <tr>\n",
       "      <td>2013-01-13 04:36:00</td>\n",
       "      <td>VTS</td>\n",
       "      <td>CRD</td>\n",
       "      <td>12.0</td>\n",
       "      <td>0.5</td>\n",
       "      <td>0.5</td>\n",
       "      <td>1.75</td>\n",
       "      <td>0.0</td>\n",
       "      <td>14.75</td>\n",
       "      <td>15</td>\n",
       "    </tr>\n",
       "    <tr>\n",
       "      <td>2013-01-13 04:37:00</td>\n",
       "      <td>VTS</td>\n",
       "      <td>CRD</td>\n",
       "      <td>12.0</td>\n",
       "      <td>0.5</td>\n",
       "      <td>0.5</td>\n",
       "      <td>3.12</td>\n",
       "      <td>0.0</td>\n",
       "      <td>16.12</td>\n",
       "      <td>26</td>\n",
       "    </tr>\n",
       "    <tr>\n",
       "      <td>2013-01-13 04:41:00</td>\n",
       "      <td>VTS</td>\n",
       "      <td>CRD</td>\n",
       "      <td>5.5</td>\n",
       "      <td>0.5</td>\n",
       "      <td>0.5</td>\n",
       "      <td>1.20</td>\n",
       "      <td>0.0</td>\n",
       "      <td>7.70</td>\n",
       "      <td>22</td>\n",
       "    </tr>\n",
       "    <tr>\n",
       "      <td>2013-01-13 04:37:00</td>\n",
       "      <td>VTS</td>\n",
       "      <td>CRD</td>\n",
       "      <td>11.0</td>\n",
       "      <td>0.5</td>\n",
       "      <td>0.5</td>\n",
       "      <td>2.00</td>\n",
       "      <td>0.0</td>\n",
       "      <td>14.00</td>\n",
       "      <td>18</td>\n",
       "    </tr>\n",
       "    <tr>\n",
       "      <td>2013-01-13 04:30:00</td>\n",
       "      <td>VTS</td>\n",
       "      <td>CRD</td>\n",
       "      <td>18.0</td>\n",
       "      <td>0.5</td>\n",
       "      <td>0.5</td>\n",
       "      <td>3.70</td>\n",
       "      <td>0.0</td>\n",
       "      <td>22.70</td>\n",
       "      <td>21</td>\n",
       "    </tr>\n",
       "  </tbody>\n",
       "</table>\n",
       "</div>"
      ],
      "text/plain": [
       "                    vendor_id payment_type  fare_amount  surcharge  mta_tax  \\\n",
       "pickup_datetime                                                               \n",
       "2013-01-13 04:36:00       VTS          CRD         12.0        0.5      0.5   \n",
       "2013-01-13 04:37:00       VTS          CRD         12.0        0.5      0.5   \n",
       "2013-01-13 04:41:00       VTS          CRD          5.5        0.5      0.5   \n",
       "2013-01-13 04:37:00       VTS          CRD         11.0        0.5      0.5   \n",
       "2013-01-13 04:30:00       VTS          CRD         18.0        0.5      0.5   \n",
       "\n",
       "                     tip_amount  tolls_amount  total_amount  tip%  \n",
       "pickup_datetime                                                    \n",
       "2013-01-13 04:36:00        1.75           0.0         14.75    15  \n",
       "2013-01-13 04:37:00        3.12           0.0         16.12    26  \n",
       "2013-01-13 04:41:00        1.20           0.0          7.70    22  \n",
       "2013-01-13 04:37:00        2.00           0.0         14.00    18  \n",
       "2013-01-13 04:30:00        3.70           0.0         22.70    21  "
      ]
     },
     "execution_count": 18,
     "metadata": {},
     "output_type": "execute_result"
    }
   ],
   "source": [
    "fare['tip%'] = round(fare.tip_amount / fare.fare_amount * 100, 0)\n",
    "fare['tip%'] = fare['tip%'].astype(int)\n",
    "fare[fare['tip%'] > 0].head()"
   ]
  },
  {
   "cell_type": "code",
   "execution_count": 26,
   "metadata": {},
   "outputs": [
    {
     "data": {
      "text/plain": [
       "<matplotlib.axes._subplots.AxesSubplot at 0x1e98d7e3390>"
      ]
     },
     "execution_count": 26,
     "metadata": {},
     "output_type": "execute_result"
    },
    {
     "data": {
      "image/png": "[encoded data removed]",
      "text/plain": [
       "<Figure size 432x288 with 1 Axes>"
      ]
     },
     "metadata": {
      "needs_background": "light"
     },
     "output_type": "display_data"
    }
   ],
   "source": [
    "fare['tip%'].value_counts().sort_index()[1:30].plot(kind='bar')"
   ]
  },
  {
   "cell_type": "markdown",
   "metadata": {},
   "source": [
    "## What anomaly do you notice?"
   ]
  },
  {
   "cell_type": "code",
   "execution_count": null,
   "metadata": {},
   "outputs": [],
   "source": [
    "# fare.sample(100).head()"
   ]
  },
  {
   "cell_type": "code",
   "execution_count": 27,
   "metadata": {
    "scrolled": true
   },
   "outputs": [
    {
     "data": {
      "text/plain": [
       "CRD    7743844\n",
       "CSH    6982383\n",
       "NOC      32783\n",
       "DIS      11171\n",
       "UNK       6434\n",
       "Name: payment_type, dtype: int64"
      ]
     },
     "execution_count": 27,
     "metadata": {},
     "output_type": "execute_result"
    }
   ],
   "source": [
    "fare['payment_type'].value_counts()"
   ]
  },
  {
   "cell_type": "code",
   "execution_count": 28,
   "metadata": {
    "scrolled": false
   },
   "outputs": [
    {
     "data": {
      "text/plain": [
       "CMT    7450899\n",
       "VTS    7325716\n",
       "Name: vendor_id, dtype: int64"
      ]
     },
     "execution_count": 28,
     "metadata": {},
     "output_type": "execute_result"
    }
   ],
   "source": [
    "fare['vendor_id'].value_counts()"
   ]
  },
  {
   "cell_type": "code",
   "execution_count": 29,
   "metadata": {},
   "outputs": [],
   "source": [
    "crd=fare[fare['payment_type']=='CRD']"
   ]
  },
  {
   "cell_type": "code",
   "execution_count": 30,
   "metadata": {},
   "outputs": [
    {
     "data": {
      "text/plain": [
       "7743844"
      ]
     },
     "execution_count": 30,
     "metadata": {},
     "output_type": "execute_result"
    }
   ],
   "source": [
    "len(crd)"
   ]
  },
  {
   "cell_type": "markdown",
   "metadata": {},
   "source": [
    "## How is each company charging?"
   ]
  },
  {
   "cell_type": "code",
   "execution_count": 32,
   "metadata": {},
   "outputs": [],
   "source": [
    "crd['option_1'] = crd.tip_amount / crd.fare_amount\n",
    "\n",
    "crd['option_2'] = crd.tip_amount / (crd.fare_amount + crd.surcharge)\n",
    "\n",
    "crd['option_3'] = crd.tip_amount / (crd.fare_amount - crd.tip_amount)\n"
   ]
  },
  {
   "cell_type": "code",
   "execution_count": 33,
   "metadata": {},
   "outputs": [],
   "source": [
    "crd=crd.round({'option_1':3,  'option_2':3, 'option_3':3})"
   ]
  },
  {
   "cell_type": "code",
   "execution_count": 34,
   "metadata": {},
   "outputs": [],
   "source": [
    "c1000= crd.sample(1000, random_state=7)"
   ]
  },
  {
   "cell_type": "code",
   "execution_count": 35,
   "metadata": {},
   "outputs": [],
   "source": [
    "c1000_cmt = c1000[c1000['vendor_id']=='CMT']"
   ]
  },
  {
   "cell_type": "code",
   "execution_count": 36,
   "metadata": {},
   "outputs": [],
   "source": [
    "c1000_vts = c1000[c1000['vendor_id']=='VTS']"
   ]
  },
  {
   "cell_type": "code",
   "execution_count": 37,
   "metadata": {},
   "outputs": [
    {
     "data": {
      "text/plain": [
       "(477, 523)"
      ]
     },
     "execution_count": 37,
     "metadata": {},
     "output_type": "execute_result"
    }
   ],
   "source": [
    "len(c1000_cmt), len(c1000_vts)"
   ]
  },
  {
   "cell_type": "code",
   "execution_count": 38,
   "metadata": {},
   "outputs": [
    {
     "data": {
      "text/html": [
       "<div>\n",
       "<style scoped>\n",
       "    .dataframe tbody tr th:only-of-type {\n",
       "        vertical-align: middle;\n",
       "    }\n",
       "\n",
       "    .dataframe tbody tr th {\n",
       "        vertical-align: top;\n",
       "    }\n",
       "\n",
       "    .dataframe thead th {\n",
       "        text-align: right;\n",
       "    }\n",
       "</style>\n",
       "<table border=\"1\" class=\"dataframe\">\n",
       "  <thead>\n",
       "    <tr style=\"text-align: right;\">\n",
       "      <th></th>\n",
       "      <th>vendor_id</th>\n",
       "      <th>tip_amount</th>\n",
       "      <th>option_1</th>\n",
       "      <th>option_2</th>\n",
       "      <th>option_3</th>\n",
       "    </tr>\n",
       "    <tr>\n",
       "      <th>pickup_datetime</th>\n",
       "      <th></th>\n",
       "      <th></th>\n",
       "      <th></th>\n",
       "      <th></th>\n",
       "      <th></th>\n",
       "    </tr>\n",
       "  </thead>\n",
       "  <tbody>\n",
       "    <tr>\n",
       "      <td>2013-01-03 09:02:38</td>\n",
       "      <td>CMT</td>\n",
       "      <td>1.00</td>\n",
       "      <td>0.154</td>\n",
       "      <td>0.154</td>\n",
       "      <td>0.182</td>\n",
       "    </tr>\n",
       "    <tr>\n",
       "      <td>2013-01-06 02:04:44</td>\n",
       "      <td>CMT</td>\n",
       "      <td>1.00</td>\n",
       "      <td>0.062</td>\n",
       "      <td>0.061</td>\n",
       "      <td>0.067</td>\n",
       "    </tr>\n",
       "    <tr>\n",
       "      <td>2013-01-23 15:22:49</td>\n",
       "      <td>CMT</td>\n",
       "      <td>1.00</td>\n",
       "      <td>0.100</td>\n",
       "      <td>0.100</td>\n",
       "      <td>0.111</td>\n",
       "    </tr>\n",
       "    <tr>\n",
       "      <td>2013-01-20 11:38:17</td>\n",
       "      <td>CMT</td>\n",
       "      <td>4.50</td>\n",
       "      <td>0.205</td>\n",
       "      <td>0.205</td>\n",
       "      <td>0.257</td>\n",
       "    </tr>\n",
       "    <tr>\n",
       "      <td>2013-01-31 16:44:49</td>\n",
       "      <td>CMT</td>\n",
       "      <td>1.00</td>\n",
       "      <td>0.087</td>\n",
       "      <td>0.080</td>\n",
       "      <td>0.095</td>\n",
       "    </tr>\n",
       "    <tr>\n",
       "      <td>...</td>\n",
       "      <td>...</td>\n",
       "      <td>...</td>\n",
       "      <td>...</td>\n",
       "      <td>...</td>\n",
       "      <td>...</td>\n",
       "    </tr>\n",
       "    <tr>\n",
       "      <td>2013-01-27 10:50:09</td>\n",
       "      <td>CMT</td>\n",
       "      <td>1.00</td>\n",
       "      <td>0.222</td>\n",
       "      <td>0.222</td>\n",
       "      <td>0.286</td>\n",
       "    </tr>\n",
       "    <tr>\n",
       "      <td>2013-01-09 18:01:12</td>\n",
       "      <td>CMT</td>\n",
       "      <td>3.00</td>\n",
       "      <td>0.286</td>\n",
       "      <td>0.261</td>\n",
       "      <td>0.400</td>\n",
       "    </tr>\n",
       "    <tr>\n",
       "      <td>2013-01-22 21:16:22</td>\n",
       "      <td>CMT</td>\n",
       "      <td>2.85</td>\n",
       "      <td>0.335</td>\n",
       "      <td>0.317</td>\n",
       "      <td>0.504</td>\n",
       "    </tr>\n",
       "    <tr>\n",
       "      <td>2013-01-29 19:20:45</td>\n",
       "      <td>CMT</td>\n",
       "      <td>2.00</td>\n",
       "      <td>0.089</td>\n",
       "      <td>0.085</td>\n",
       "      <td>0.098</td>\n",
       "    </tr>\n",
       "    <tr>\n",
       "      <td>2013-01-07 19:48:37</td>\n",
       "      <td>CMT</td>\n",
       "      <td>1.40</td>\n",
       "      <td>0.255</td>\n",
       "      <td>0.215</td>\n",
       "      <td>0.341</td>\n",
       "    </tr>\n",
       "  </tbody>\n",
       "</table>\n",
       "<p>477 rows × 5 columns</p>\n",
       "</div>"
      ],
      "text/plain": [
       "                    vendor_id  tip_amount  option_1  option_2  option_3\n",
       "pickup_datetime                                                        \n",
       "2013-01-03 09:02:38       CMT        1.00     0.154     0.154     0.182\n",
       "2013-01-06 02:04:44       CMT        1.00     0.062     0.061     0.067\n",
       "2013-01-23 15:22:49       CMT        1.00     0.100     0.100     0.111\n",
       "2013-01-20 11:38:17       CMT        4.50     0.205     0.205     0.257\n",
       "2013-01-31 16:44:49       CMT        1.00     0.087     0.080     0.095\n",
       "...                       ...         ...       ...       ...       ...\n",
       "2013-01-27 10:50:09       CMT        1.00     0.222     0.222     0.286\n",
       "2013-01-09 18:01:12       CMT        3.00     0.286     0.261     0.400\n",
       "2013-01-22 21:16:22       CMT        2.85     0.335     0.317     0.504\n",
       "2013-01-29 19:20:45       CMT        2.00     0.089     0.085     0.098\n",
       "2013-01-07 19:48:37       CMT        1.40     0.255     0.215     0.341\n",
       "\n",
       "[477 rows x 5 columns]"
      ]
     },
     "execution_count": 38,
     "metadata": {},
     "output_type": "execute_result"
    }
   ],
   "source": [
    "c1000_cmt[['vendor_id','tip_amount', 'option_1',  'option_2', 'option_3']]"
   ]
  },
  {
   "cell_type": "code",
   "execution_count": 39,
   "metadata": {},
   "outputs": [
    {
     "data": {
      "text/html": [
       "<div>\n",
       "<style scoped>\n",
       "    .dataframe tbody tr th:only-of-type {\n",
       "        vertical-align: middle;\n",
       "    }\n",
       "\n",
       "    .dataframe tbody tr th {\n",
       "        vertical-align: top;\n",
       "    }\n",
       "\n",
       "    .dataframe thead th {\n",
       "        text-align: right;\n",
       "    }\n",
       "</style>\n",
       "<table border=\"1\" class=\"dataframe\">\n",
       "  <thead>\n",
       "    <tr style=\"text-align: right;\">\n",
       "      <th></th>\n",
       "      <th>vendor_id</th>\n",
       "      <th>tip_amount</th>\n",
       "      <th>option_1</th>\n",
       "      <th>option_2</th>\n",
       "      <th>option_3</th>\n",
       "    </tr>\n",
       "    <tr>\n",
       "      <th>pickup_datetime</th>\n",
       "      <th></th>\n",
       "      <th></th>\n",
       "      <th></th>\n",
       "      <th></th>\n",
       "      <th></th>\n",
       "    </tr>\n",
       "  </thead>\n",
       "  <tbody>\n",
       "    <tr>\n",
       "      <td>2013-01-15 10:06:00</td>\n",
       "      <td>VTS</td>\n",
       "      <td>1.00</td>\n",
       "      <td>0.182</td>\n",
       "      <td>0.182</td>\n",
       "      <td>0.222</td>\n",
       "    </tr>\n",
       "    <tr>\n",
       "      <td>2013-01-12 04:20:00</td>\n",
       "      <td>VTS</td>\n",
       "      <td>3.60</td>\n",
       "      <td>0.206</td>\n",
       "      <td>0.200</td>\n",
       "      <td>0.259</td>\n",
       "    </tr>\n",
       "    <tr>\n",
       "      <td>2013-01-26 19:12:00</td>\n",
       "      <td>VTS</td>\n",
       "      <td>4.88</td>\n",
       "      <td>0.250</td>\n",
       "      <td>0.250</td>\n",
       "      <td>0.334</td>\n",
       "    </tr>\n",
       "    <tr>\n",
       "      <td>2013-01-03 16:38:00</td>\n",
       "      <td>VTS</td>\n",
       "      <td>1.00</td>\n",
       "      <td>0.143</td>\n",
       "      <td>0.125</td>\n",
       "      <td>0.167</td>\n",
       "    </tr>\n",
       "    <tr>\n",
       "      <td>2013-01-18 19:19:00</td>\n",
       "      <td>VTS</td>\n",
       "      <td>0.00</td>\n",
       "      <td>0.000</td>\n",
       "      <td>0.000</td>\n",
       "      <td>0.000</td>\n",
       "    </tr>\n",
       "    <tr>\n",
       "      <td>...</td>\n",
       "      <td>...</td>\n",
       "      <td>...</td>\n",
       "      <td>...</td>\n",
       "      <td>...</td>\n",
       "      <td>...</td>\n",
       "    </tr>\n",
       "    <tr>\n",
       "      <td>2013-01-13 14:30:00</td>\n",
       "      <td>VTS</td>\n",
       "      <td>1.10</td>\n",
       "      <td>0.200</td>\n",
       "      <td>0.200</td>\n",
       "      <td>0.250</td>\n",
       "    </tr>\n",
       "    <tr>\n",
       "      <td>2013-01-31 18:20:00</td>\n",
       "      <td>VTS</td>\n",
       "      <td>6.00</td>\n",
       "      <td>0.316</td>\n",
       "      <td>0.300</td>\n",
       "      <td>0.462</td>\n",
       "    </tr>\n",
       "    <tr>\n",
       "      <td>2013-01-27 23:07:00</td>\n",
       "      <td>VTS</td>\n",
       "      <td>2.60</td>\n",
       "      <td>0.208</td>\n",
       "      <td>0.200</td>\n",
       "      <td>0.263</td>\n",
       "    </tr>\n",
       "    <tr>\n",
       "      <td>2013-01-16 23:43:00</td>\n",
       "      <td>VTS</td>\n",
       "      <td>1.00</td>\n",
       "      <td>0.105</td>\n",
       "      <td>0.100</td>\n",
       "      <td>0.118</td>\n",
       "    </tr>\n",
       "    <tr>\n",
       "      <td>2013-01-24 19:48:00</td>\n",
       "      <td>VTS</td>\n",
       "      <td>1.00</td>\n",
       "      <td>0.154</td>\n",
       "      <td>0.133</td>\n",
       "      <td>0.182</td>\n",
       "    </tr>\n",
       "  </tbody>\n",
       "</table>\n",
       "<p>523 rows × 5 columns</p>\n",
       "</div>"
      ],
      "text/plain": [
       "                    vendor_id  tip_amount  option_1  option_2  option_3\n",
       "pickup_datetime                                                        \n",
       "2013-01-15 10:06:00       VTS        1.00     0.182     0.182     0.222\n",
       "2013-01-12 04:20:00       VTS        3.60     0.206     0.200     0.259\n",
       "2013-01-26 19:12:00       VTS        4.88     0.250     0.250     0.334\n",
       "2013-01-03 16:38:00       VTS        1.00     0.143     0.125     0.167\n",
       "2013-01-18 19:19:00       VTS        0.00     0.000     0.000     0.000\n",
       "...                       ...         ...       ...       ...       ...\n",
       "2013-01-13 14:30:00       VTS        1.10     0.200     0.200     0.250\n",
       "2013-01-31 18:20:00       VTS        6.00     0.316     0.300     0.462\n",
       "2013-01-27 23:07:00       VTS        2.60     0.208     0.200     0.263\n",
       "2013-01-16 23:43:00       VTS        1.00     0.105     0.100     0.118\n",
       "2013-01-24 19:48:00       VTS        1.00     0.154     0.133     0.182\n",
       "\n",
       "[523 rows x 5 columns]"
      ]
     },
     "execution_count": 39,
     "metadata": {},
     "output_type": "execute_result"
    }
   ],
   "source": [
    "c1000_vts[['vendor_id','tip_amount', 'option_1', 'option_2', 'option_3']]"
   ]
  }
 ],
 "metadata": {
  "kernelspec": {
   "display_name": "Python 3",
   "language": "python",
   "name": "python3"
  },
  "language_info": {
   "codemirror_mode": {
    "name": "ipython",
    "version": 3
   },
   "file_extension": ".py",
   "mimetype": "text/x-python",
   "name": "python",
   "nbconvert_exporter": "python",
   "pygments_lexer": "ipython3",
   "version": "3.7.3"
  }
 },
 "nbformat": 4,
 "nbformat_minor": 1
}
