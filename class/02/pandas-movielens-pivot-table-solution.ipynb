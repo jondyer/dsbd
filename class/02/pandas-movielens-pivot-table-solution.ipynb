{
  "cells": [
    {
      "cell_type": "markdown",
      "source": [
        "# MoviesLens data set\n",
        "# Question: How do men and women rate the same movie?"
      ],
      "metadata": {}
    },
    {
      "cell_type": "code",
      "source": [
        "import pandas as pd\n",
        "import matplotlib.pyplot as plt\n",
        "import numpy as np\n",
        "\n",
        "%matplotlib inline"
      ],
      "outputs": [],
      "execution_count": 1,
      "metadata": {}
    },
    {
      "cell_type": "markdown",
      "source": [
        "### Read three data files"
      ],
      "metadata": {}
    },
    {
      "cell_type": "code",
      "source": [
        "# pass in column names for each CSV\n",
        "u_cols = ['user_id', 'age', 'gender', 'occupation', 'zip_code']\n",
        "users = pd.read_csv('u.user', sep='|', names=u_cols,\n",
        "                    encoding='latin-1')\n",
        "\n",
        "r_cols = ['user_id', 'movie_id', 'rating', 'unix_timestamp']\n",
        "ratings = pd.read_csv('u.data', sep='\\t', names=r_cols,\n",
        "                      encoding='latin-1')\n",
        "\n",
        "# u.item has a large number of fields.  Lets use only two.\n",
        "# Note the use of 'usecols'\n",
        "\n",
        "m_cols = ['movie_id', 'title']\n",
        "movies = pd.read_csv('u.item', sep='|', names=m_cols, usecols=range(2),\n",
        "                     encoding='latin-1')"
      ],
      "outputs": [],
      "execution_count": 2,
      "metadata": {}
    },
    {
      "cell_type": "code",
      "source": [
        "users.head()"
      ],
      "outputs": [
        {
          "output_type": "execute_result",
          "execution_count": 3,
          "data": {
            "text/html": [
              "<div>\n",
              "<style scoped>\n",
              "    .dataframe tbody tr th:only-of-type {\n",
              "        vertical-align: middle;\n",
              "    }\n",
              "\n",
              "    .dataframe tbody tr th {\n",
              "        vertical-align: top;\n",
              "    }\n",
              "\n",
              "    .dataframe thead th {\n",
              "        text-align: right;\n",
              "    }\n",
              "</style>\n",
              "<table border=\"1\" class=\"dataframe\">\n",
              "  <thead>\n",
              "    <tr style=\"text-align: right;\">\n",
              "      <th></th>\n",
              "      <th>user_id</th>\n",
              "      <th>age</th>\n",
              "      <th>gender</th>\n",
              "      <th>occupation</th>\n",
              "      <th>zip_code</th>\n",
              "    </tr>\n",
              "  </thead>\n",
              "  <tbody>\n",
              "    <tr>\n",
              "      <th>0</th>\n",
              "      <td>1</td>\n",
              "      <td>24</td>\n",
              "      <td>M</td>\n",
              "      <td>technician</td>\n",
              "      <td>85711</td>\n",
              "    </tr>\n",
              "    <tr>\n",
              "      <th>1</th>\n",
              "      <td>2</td>\n",
              "      <td>53</td>\n",
              "      <td>F</td>\n",
              "      <td>other</td>\n",
              "      <td>94043</td>\n",
              "    </tr>\n",
              "    <tr>\n",
              "      <th>2</th>\n",
              "      <td>3</td>\n",
              "      <td>23</td>\n",
              "      <td>M</td>\n",
              "      <td>writer</td>\n",
              "      <td>32067</td>\n",
              "    </tr>\n",
              "    <tr>\n",
              "      <th>3</th>\n",
              "      <td>4</td>\n",
              "      <td>24</td>\n",
              "      <td>M</td>\n",
              "      <td>technician</td>\n",
              "      <td>43537</td>\n",
              "    </tr>\n",
              "    <tr>\n",
              "      <th>4</th>\n",
              "      <td>5</td>\n",
              "      <td>33</td>\n",
              "      <td>F</td>\n",
              "      <td>other</td>\n",
              "      <td>15213</td>\n",
              "    </tr>\n",
              "  </tbody>\n",
              "</table>\n",
              "</div>"
            ],
            "text/plain": [
              "   user_id  age gender  occupation zip_code\n",
              "0        1   24      M  technician    85711\n",
              "1        2   53      F       other    94043\n",
              "2        3   23      M      writer    32067\n",
              "3        4   24      M  technician    43537\n",
              "4        5   33      F       other    15213"
            ]
          },
          "metadata": {}
        }
      ],
      "execution_count": 3,
      "metadata": {
        "scrolled": true
      }
    },
    {
      "cell_type": "code",
      "source": [
        "ratings.head()"
      ],
      "outputs": [
        {
          "output_type": "execute_result",
          "execution_count": 4,
          "data": {
            "text/html": [
              "<div>\n",
              "<style scoped>\n",
              "    .dataframe tbody tr th:only-of-type {\n",
              "        vertical-align: middle;\n",
              "    }\n",
              "\n",
              "    .dataframe tbody tr th {\n",
              "        vertical-align: top;\n",
              "    }\n",
              "\n",
              "    .dataframe thead th {\n",
              "        text-align: right;\n",
              "    }\n",
              "</style>\n",
              "<table border=\"1\" class=\"dataframe\">\n",
              "  <thead>\n",
              "    <tr style=\"text-align: right;\">\n",
              "      <th></th>\n",
              "      <th>user_id</th>\n",
              "      <th>movie_id</th>\n",
              "      <th>rating</th>\n",
              "      <th>unix_timestamp</th>\n",
              "    </tr>\n",
              "  </thead>\n",
              "  <tbody>\n",
              "    <tr>\n",
              "      <th>0</th>\n",
              "      <td>196</td>\n",
              "      <td>242</td>\n",
              "      <td>3</td>\n",
              "      <td>881250949</td>\n",
              "    </tr>\n",
              "    <tr>\n",
              "      <th>1</th>\n",
              "      <td>186</td>\n",
              "      <td>302</td>\n",
              "      <td>3</td>\n",
              "      <td>891717742</td>\n",
              "    </tr>\n",
              "    <tr>\n",
              "      <th>2</th>\n",
              "      <td>22</td>\n",
              "      <td>377</td>\n",
              "      <td>1</td>\n",
              "      <td>878887116</td>\n",
              "    </tr>\n",
              "    <tr>\n",
              "      <th>3</th>\n",
              "      <td>244</td>\n",
              "      <td>51</td>\n",
              "      <td>2</td>\n",
              "      <td>880606923</td>\n",
              "    </tr>\n",
              "    <tr>\n",
              "      <th>4</th>\n",
              "      <td>166</td>\n",
              "      <td>346</td>\n",
              "      <td>1</td>\n",
              "      <td>886397596</td>\n",
              "    </tr>\n",
              "  </tbody>\n",
              "</table>\n",
              "</div>"
            ],
            "text/plain": [
              "   user_id  movie_id  rating  unix_timestamp\n",
              "0      196       242       3       881250949\n",
              "1      186       302       3       891717742\n",
              "2       22       377       1       878887116\n",
              "3      244        51       2       880606923\n",
              "4      166       346       1       886397596"
            ]
          },
          "metadata": {}
        }
      ],
      "execution_count": 4,
      "metadata": {}
    },
    {
      "cell_type": "code",
      "source": [
        "movies.head()"
      ],
      "outputs": [
        {
          "output_type": "execute_result",
          "execution_count": 5,
          "data": {
            "text/html": [
              "<div>\n",
              "<style scoped>\n",
              "    .dataframe tbody tr th:only-of-type {\n",
              "        vertical-align: middle;\n",
              "    }\n",
              "\n",
              "    .dataframe tbody tr th {\n",
              "        vertical-align: top;\n",
              "    }\n",
              "\n",
              "    .dataframe thead th {\n",
              "        text-align: right;\n",
              "    }\n",
              "</style>\n",
              "<table border=\"1\" class=\"dataframe\">\n",
              "  <thead>\n",
              "    <tr style=\"text-align: right;\">\n",
              "      <th></th>\n",
              "      <th>movie_id</th>\n",
              "      <th>title</th>\n",
              "    </tr>\n",
              "  </thead>\n",
              "  <tbody>\n",
              "    <tr>\n",
              "      <th>0</th>\n",
              "      <td>1</td>\n",
              "      <td>Toy Story (1995)</td>\n",
              "    </tr>\n",
              "    <tr>\n",
              "      <th>1</th>\n",
              "      <td>2</td>\n",
              "      <td>GoldenEye (1995)</td>\n",
              "    </tr>\n",
              "    <tr>\n",
              "      <th>2</th>\n",
              "      <td>3</td>\n",
              "      <td>Four Rooms (1995)</td>\n",
              "    </tr>\n",
              "    <tr>\n",
              "      <th>3</th>\n",
              "      <td>4</td>\n",
              "      <td>Get Shorty (1995)</td>\n",
              "    </tr>\n",
              "    <tr>\n",
              "      <th>4</th>\n",
              "      <td>5</td>\n",
              "      <td>Copycat (1995)</td>\n",
              "    </tr>\n",
              "  </tbody>\n",
              "</table>\n",
              "</div>"
            ],
            "text/plain": [
              "   movie_id              title\n",
              "0         1   Toy Story (1995)\n",
              "1         2   GoldenEye (1995)\n",
              "2         3  Four Rooms (1995)\n",
              "3         4  Get Shorty (1995)\n",
              "4         5     Copycat (1995)"
            ]
          },
          "metadata": {}
        }
      ],
      "execution_count": 5,
      "metadata": {}
    },
    {
      "cell_type": "code",
      "source": [
        "# create one merged DataFrame\n",
        "movie_ratings = pd.merge(movies, ratings)\n",
        "data = pd.merge(movie_ratings, users)"
      ],
      "outputs": [],
      "execution_count": 6,
      "metadata": {}
    },
    {
      "cell_type": "markdown",
      "source": [
        "Always good to start off by examining the data"
      ],
      "metadata": {}
    },
    {
      "cell_type": "code",
      "source": [
        "data.head()"
      ],
      "outputs": [
        {
          "output_type": "execute_result",
          "execution_count": 7,
          "data": {
            "text/html": [
              "<div>\n",
              "<style scoped>\n",
              "    .dataframe tbody tr th:only-of-type {\n",
              "        vertical-align: middle;\n",
              "    }\n",
              "\n",
              "    .dataframe tbody tr th {\n",
              "        vertical-align: top;\n",
              "    }\n",
              "\n",
              "    .dataframe thead th {\n",
              "        text-align: right;\n",
              "    }\n",
              "</style>\n",
              "<table border=\"1\" class=\"dataframe\">\n",
              "  <thead>\n",
              "    <tr style=\"text-align: right;\">\n",
              "      <th></th>\n",
              "      <th>movie_id</th>\n",
              "      <th>title</th>\n",
              "      <th>user_id</th>\n",
              "      <th>rating</th>\n",
              "      <th>unix_timestamp</th>\n",
              "      <th>age</th>\n",
              "      <th>gender</th>\n",
              "      <th>occupation</th>\n",
              "      <th>zip_code</th>\n",
              "    </tr>\n",
              "  </thead>\n",
              "  <tbody>\n",
              "    <tr>\n",
              "      <th>0</th>\n",
              "      <td>1</td>\n",
              "      <td>Toy Story (1995)</td>\n",
              "      <td>308</td>\n",
              "      <td>4</td>\n",
              "      <td>887736532</td>\n",
              "      <td>60</td>\n",
              "      <td>M</td>\n",
              "      <td>retired</td>\n",
              "      <td>95076</td>\n",
              "    </tr>\n",
              "    <tr>\n",
              "      <th>1</th>\n",
              "      <td>4</td>\n",
              "      <td>Get Shorty (1995)</td>\n",
              "      <td>308</td>\n",
              "      <td>5</td>\n",
              "      <td>887737890</td>\n",
              "      <td>60</td>\n",
              "      <td>M</td>\n",
              "      <td>retired</td>\n",
              "      <td>95076</td>\n",
              "    </tr>\n",
              "    <tr>\n",
              "      <th>2</th>\n",
              "      <td>5</td>\n",
              "      <td>Copycat (1995)</td>\n",
              "      <td>308</td>\n",
              "      <td>4</td>\n",
              "      <td>887739608</td>\n",
              "      <td>60</td>\n",
              "      <td>M</td>\n",
              "      <td>retired</td>\n",
              "      <td>95076</td>\n",
              "    </tr>\n",
              "    <tr>\n",
              "      <th>3</th>\n",
              "      <td>7</td>\n",
              "      <td>Twelve Monkeys (1995)</td>\n",
              "      <td>308</td>\n",
              "      <td>4</td>\n",
              "      <td>887738847</td>\n",
              "      <td>60</td>\n",
              "      <td>M</td>\n",
              "      <td>retired</td>\n",
              "      <td>95076</td>\n",
              "    </tr>\n",
              "    <tr>\n",
              "      <th>4</th>\n",
              "      <td>8</td>\n",
              "      <td>Babe (1995)</td>\n",
              "      <td>308</td>\n",
              "      <td>5</td>\n",
              "      <td>887736696</td>\n",
              "      <td>60</td>\n",
              "      <td>M</td>\n",
              "      <td>retired</td>\n",
              "      <td>95076</td>\n",
              "    </tr>\n",
              "  </tbody>\n",
              "</table>\n",
              "</div>"
            ],
            "text/plain": [
              "   movie_id                  title  user_id  rating  unix_timestamp  age  \\\n",
              "0         1       Toy Story (1995)      308       4       887736532   60   \n",
              "1         4      Get Shorty (1995)      308       5       887737890   60   \n",
              "2         5         Copycat (1995)      308       4       887739608   60   \n",
              "3         7  Twelve Monkeys (1995)      308       4       887738847   60   \n",
              "4         8            Babe (1995)      308       5       887736696   60   \n",
              "\n",
              "  gender occupation zip_code  \n",
              "0      M    retired    95076  \n",
              "1      M    retired    95076  \n",
              "2      M    retired    95076  \n",
              "3      M    retired    95076  \n",
              "4      M    retired    95076  "
            ]
          },
          "metadata": {}
        }
      ],
      "execution_count": 7,
      "metadata": {
        "scrolled": true
      }
    },
    {
      "cell_type": "code",
      "source": [
        "data.head().T"
      ],
      "outputs": [
        {
          "output_type": "execute_result",
          "execution_count": 8,
          "data": {
            "text/html": [
              "<div>\n",
              "<style scoped>\n",
              "    .dataframe tbody tr th:only-of-type {\n",
              "        vertical-align: middle;\n",
              "    }\n",
              "\n",
              "    .dataframe tbody tr th {\n",
              "        vertical-align: top;\n",
              "    }\n",
              "\n",
              "    .dataframe thead th {\n",
              "        text-align: right;\n",
              "    }\n",
              "</style>\n",
              "<table border=\"1\" class=\"dataframe\">\n",
              "  <thead>\n",
              "    <tr style=\"text-align: right;\">\n",
              "      <th></th>\n",
              "      <th>0</th>\n",
              "      <th>1</th>\n",
              "      <th>2</th>\n",
              "      <th>3</th>\n",
              "      <th>4</th>\n",
              "    </tr>\n",
              "  </thead>\n",
              "  <tbody>\n",
              "    <tr>\n",
              "      <th>movie_id</th>\n",
              "      <td>1</td>\n",
              "      <td>4</td>\n",
              "      <td>5</td>\n",
              "      <td>7</td>\n",
              "      <td>8</td>\n",
              "    </tr>\n",
              "    <tr>\n",
              "      <th>title</th>\n",
              "      <td>Toy Story (1995)</td>\n",
              "      <td>Get Shorty (1995)</td>\n",
              "      <td>Copycat (1995)</td>\n",
              "      <td>Twelve Monkeys (1995)</td>\n",
              "      <td>Babe (1995)</td>\n",
              "    </tr>\n",
              "    <tr>\n",
              "      <th>user_id</th>\n",
              "      <td>308</td>\n",
              "      <td>308</td>\n",
              "      <td>308</td>\n",
              "      <td>308</td>\n",
              "      <td>308</td>\n",
              "    </tr>\n",
              "    <tr>\n",
              "      <th>rating</th>\n",
              "      <td>4</td>\n",
              "      <td>5</td>\n",
              "      <td>4</td>\n",
              "      <td>4</td>\n",
              "      <td>5</td>\n",
              "    </tr>\n",
              "    <tr>\n",
              "      <th>unix_timestamp</th>\n",
              "      <td>887736532</td>\n",
              "      <td>887737890</td>\n",
              "      <td>887739608</td>\n",
              "      <td>887738847</td>\n",
              "      <td>887736696</td>\n",
              "    </tr>\n",
              "    <tr>\n",
              "      <th>age</th>\n",
              "      <td>60</td>\n",
              "      <td>60</td>\n",
              "      <td>60</td>\n",
              "      <td>60</td>\n",
              "      <td>60</td>\n",
              "    </tr>\n",
              "    <tr>\n",
              "      <th>gender</th>\n",
              "      <td>M</td>\n",
              "      <td>M</td>\n",
              "      <td>M</td>\n",
              "      <td>M</td>\n",
              "      <td>M</td>\n",
              "    </tr>\n",
              "    <tr>\n",
              "      <th>occupation</th>\n",
              "      <td>retired</td>\n",
              "      <td>retired</td>\n",
              "      <td>retired</td>\n",
              "      <td>retired</td>\n",
              "      <td>retired</td>\n",
              "    </tr>\n",
              "    <tr>\n",
              "      <th>zip_code</th>\n",
              "      <td>95076</td>\n",
              "      <td>95076</td>\n",
              "      <td>95076</td>\n",
              "      <td>95076</td>\n",
              "      <td>95076</td>\n",
              "    </tr>\n",
              "  </tbody>\n",
              "</table>\n",
              "</div>"
            ],
            "text/plain": [
              "                               0                  1               2  \\\n",
              "movie_id                       1                  4               5   \n",
              "title           Toy Story (1995)  Get Shorty (1995)  Copycat (1995)   \n",
              "user_id                      308                308             308   \n",
              "rating                         4                  5               4   \n",
              "unix_timestamp         887736532          887737890       887739608   \n",
              "age                           60                 60              60   \n",
              "gender                         M                  M               M   \n",
              "occupation               retired            retired         retired   \n",
              "zip_code                   95076              95076           95076   \n",
              "\n",
              "                                    3            4  \n",
              "movie_id                            7            8  \n",
              "title           Twelve Monkeys (1995)  Babe (1995)  \n",
              "user_id                           308          308  \n",
              "rating                              4            5  \n",
              "unix_timestamp              887738847    887736696  \n",
              "age                                60           60  \n",
              "gender                              M            M  \n",
              "occupation                    retired      retired  \n",
              "zip_code                        95076        95076  "
            ]
          },
          "metadata": {}
        }
      ],
      "execution_count": 8,
      "metadata": {}
    },
    {
      "cell_type": "markdown",
      "source": [
        "### [Q] What are the top 10 movies that have the most number of ratings?"
      ],
      "metadata": {}
    },
    {
      "cell_type": "markdown",
      "source": [
        "#### Approach 1: \n",
        "- Form groups based on title\n",
        "- find the size of each group\n",
        "- sort the resultant Series with .sort_values"
      ],
      "metadata": {}
    },
    {
      "cell_type": "code",
      "source": [
        "g=data.groupby('title')\n",
        "g.get_group(\"'Til There Was You (1997)\")\n",
        "\n",
        "\n"
      ],
      "outputs": [
        {
          "output_type": "execute_result",
          "execution_count": 9,
          "data": {
            "text/html": [
              "<div>\n",
              "<style scoped>\n",
              "    .dataframe tbody tr th:only-of-type {\n",
              "        vertical-align: middle;\n",
              "    }\n",
              "\n",
              "    .dataframe tbody tr th {\n",
              "        vertical-align: top;\n",
              "    }\n",
              "\n",
              "    .dataframe thead th {\n",
              "        text-align: right;\n",
              "    }\n",
              "</style>\n",
              "<table border=\"1\" class=\"dataframe\">\n",
              "  <thead>\n",
              "    <tr style=\"text-align: right;\">\n",
              "      <th></th>\n",
              "      <th>movie_id</th>\n",
              "      <th>title</th>\n",
              "      <th>user_id</th>\n",
              "      <th>rating</th>\n",
              "      <th>unix_timestamp</th>\n",
              "      <th>age</th>\n",
              "      <th>gender</th>\n",
              "      <th>occupation</th>\n",
              "      <th>zip_code</th>\n",
              "    </tr>\n",
              "  </thead>\n",
              "  <tbody>\n",
              "    <tr>\n",
              "      <th>3533</th>\n",
              "      <td>1300</td>\n",
              "      <td>'Til There Was You (1997)</td>\n",
              "      <td>223</td>\n",
              "      <td>1</td>\n",
              "      <td>891550470</td>\n",
              "      <td>19</td>\n",
              "      <td>F</td>\n",
              "      <td>student</td>\n",
              "      <td>47906</td>\n",
              "    </tr>\n",
              "    <tr>\n",
              "      <th>20920</th>\n",
              "      <td>1300</td>\n",
              "      <td>'Til There Was You (1997)</td>\n",
              "      <td>416</td>\n",
              "      <td>3</td>\n",
              "      <td>886315494</td>\n",
              "      <td>20</td>\n",
              "      <td>F</td>\n",
              "      <td>student</td>\n",
              "      <td>92626</td>\n",
              "    </tr>\n",
              "    <tr>\n",
              "      <th>26074</th>\n",
              "      <td>1300</td>\n",
              "      <td>'Til There Was You (1997)</td>\n",
              "      <td>299</td>\n",
              "      <td>2</td>\n",
              "      <td>877878382</td>\n",
              "      <td>29</td>\n",
              "      <td>M</td>\n",
              "      <td>doctor</td>\n",
              "      <td>63108</td>\n",
              "    </tr>\n",
              "    <tr>\n",
              "      <th>27955</th>\n",
              "      <td>1300</td>\n",
              "      <td>'Til There Was You (1997)</td>\n",
              "      <td>532</td>\n",
              "      <td>3</td>\n",
              "      <td>888632446</td>\n",
              "      <td>20</td>\n",
              "      <td>M</td>\n",
              "      <td>student</td>\n",
              "      <td>92705</td>\n",
              "    </tr>\n",
              "    <tr>\n",
              "      <th>34521</th>\n",
              "      <td>1300</td>\n",
              "      <td>'Til There Was You (1997)</td>\n",
              "      <td>178</td>\n",
              "      <td>3</td>\n",
              "      <td>886678518</td>\n",
              "      <td>26</td>\n",
              "      <td>M</td>\n",
              "      <td>other</td>\n",
              "      <td>49512</td>\n",
              "    </tr>\n",
              "    <tr>\n",
              "      <th>72303</th>\n",
              "      <td>1300</td>\n",
              "      <td>'Til There Was You (1997)</td>\n",
              "      <td>342</td>\n",
              "      <td>1</td>\n",
              "      <td>875318556</td>\n",
              "      <td>25</td>\n",
              "      <td>F</td>\n",
              "      <td>other</td>\n",
              "      <td>98006</td>\n",
              "    </tr>\n",
              "    <tr>\n",
              "      <th>86970</th>\n",
              "      <td>1300</td>\n",
              "      <td>'Til There Was You (1997)</td>\n",
              "      <td>152</td>\n",
              "      <td>4</td>\n",
              "      <td>886535827</td>\n",
              "      <td>33</td>\n",
              "      <td>F</td>\n",
              "      <td>educator</td>\n",
              "      <td>68767</td>\n",
              "    </tr>\n",
              "    <tr>\n",
              "      <th>94514</th>\n",
              "      <td>1300</td>\n",
              "      <td>'Til There Was You (1997)</td>\n",
              "      <td>530</td>\n",
              "      <td>2</td>\n",
              "      <td>890627207</td>\n",
              "      <td>29</td>\n",
              "      <td>M</td>\n",
              "      <td>engineer</td>\n",
              "      <td>94040</td>\n",
              "    </tr>\n",
              "    <tr>\n",
              "      <th>95199</th>\n",
              "      <td>1300</td>\n",
              "      <td>'Til There Was You (1997)</td>\n",
              "      <td>782</td>\n",
              "      <td>2</td>\n",
              "      <td>891499469</td>\n",
              "      <td>21</td>\n",
              "      <td>F</td>\n",
              "      <td>artist</td>\n",
              "      <td>33205</td>\n",
              "    </tr>\n",
              "  </tbody>\n",
              "</table>\n",
              "</div>"
            ],
            "text/plain": [
              "       movie_id                      title  user_id  rating  unix_timestamp  \\\n",
              "3533       1300  'Til There Was You (1997)      223       1       891550470   \n",
              "20920      1300  'Til There Was You (1997)      416       3       886315494   \n",
              "26074      1300  'Til There Was You (1997)      299       2       877878382   \n",
              "27955      1300  'Til There Was You (1997)      532       3       888632446   \n",
              "34521      1300  'Til There Was You (1997)      178       3       886678518   \n",
              "72303      1300  'Til There Was You (1997)      342       1       875318556   \n",
              "86970      1300  'Til There Was You (1997)      152       4       886535827   \n",
              "94514      1300  'Til There Was You (1997)      530       2       890627207   \n",
              "95199      1300  'Til There Was You (1997)      782       2       891499469   \n",
              "\n",
              "       age gender occupation zip_code  \n",
              "3533    19      F    student    47906  \n",
              "20920   20      F    student    92626  \n",
              "26074   29      M     doctor    63108  \n",
              "27955   20      M    student    92705  \n",
              "34521   26      M      other    49512  \n",
              "72303   25      F      other    98006  \n",
              "86970   33      F   educator    68767  \n",
              "94514   29      M   engineer    94040  \n",
              "95199   21      F     artist    33205  "
            ]
          },
          "metadata": {}
        }
      ],
      "execution_count": 9,
      "metadata": {
        "scrolled": false
      }
    },
    {
      "cell_type": "code",
      "source": [
        "data.groupby('title').size().sort_values(ascending=False).head(10)"
      ],
      "outputs": [
        {
          "output_type": "execute_result",
          "execution_count": 10,
          "data": {
            "text/plain": [
              "title\n",
              "Star Wars (1977)                 583\n",
              "Contact (1997)                   509\n",
              "Fargo (1996)                     508\n",
              "Return of the Jedi (1983)        507\n",
              "Liar Liar (1997)                 485\n",
              "English Patient, The (1996)      481\n",
              "Scream (1996)                    478\n",
              "Toy Story (1995)                 452\n",
              "Air Force One (1997)             431\n",
              "Independence Day (ID4) (1996)    429\n",
              "dtype: int64"
            ]
          },
          "metadata": {}
        }
      ],
      "execution_count": 10,
      "metadata": {}
    },
    {
      "cell_type": "markdown",
      "source": [
        "#### Approach 2:  Use Pandas' .value_counts :-)"
      ],
      "metadata": {}
    },
    {
      "cell_type": "code",
      "source": [
        "len(data), len(movies)"
      ],
      "outputs": [
        {
          "output_type": "execute_result",
          "execution_count": 11,
          "data": {
            "text/plain": [
              "(100000, 1682)"
            ]
          },
          "metadata": {}
        }
      ],
      "execution_count": 11,
      "metadata": {}
    },
    {
      "cell_type": "code",
      "source": [
        "data['title'].value_counts().head(10)\n",
        "\n"
      ],
      "outputs": [
        {
          "output_type": "execute_result",
          "execution_count": 12,
          "data": {
            "text/plain": [
              "Star Wars (1977)                 583\n",
              "Contact (1997)                   509\n",
              "Fargo (1996)                     508\n",
              "Return of the Jedi (1983)        507\n",
              "Liar Liar (1997)                 485\n",
              "English Patient, The (1996)      481\n",
              "Scream (1996)                    478\n",
              "Toy Story (1995)                 452\n",
              "Air Force One (1997)             431\n",
              "Independence Day (ID4) (1996)    429\n",
              "Name: title, dtype: int64"
            ]
          },
          "metadata": {}
        }
      ],
      "execution_count": 12,
      "metadata": {}
    },
    {
      "cell_type": "markdown",
      "source": [
        "### [Q] What is the average rating for each movie?  Which movies are rated the highest? "
      ],
      "metadata": {}
    },
    {
      "cell_type": "code",
      "source": [
        "data.groupby('title').apply(lambda df: df['rating'].mean())\n",
        "\n",
        "\n"
      ],
      "outputs": [
        {
          "output_type": "execute_result",
          "execution_count": 13,
          "data": {
            "text/plain": [
              "title\n",
              "'Til There Was You (1997)                                   2.333333\n",
              "1-900 (1994)                                                2.600000\n",
              "101 Dalmatians (1996)                                       2.908257\n",
              "12 Angry Men (1957)                                         4.344000\n",
              "187 (1997)                                                  3.024390\n",
              "2 Days in the Valley (1996)                                 3.225806\n",
              "20,000 Leagues Under the Sea (1954)                         3.500000\n",
              "2001: A Space Odyssey (1968)                                3.969112\n",
              "3 Ninjas: High Noon At Mega Mountain (1998)                 1.000000\n",
              "39 Steps, The (1935)                                        4.050847\n",
              "8 1/2 (1963)                                                3.815789\n",
              "8 Heads in a Duffel Bag (1997)                              3.250000\n",
              "8 Seconds (1994)                                            3.750000\n",
              "A Chef in Love (1996)                                       4.125000\n",
              "A koldum klaka (Cold Fever) (1994)                          3.000000\n",
              "Above the Rim (1994)                                        3.000000\n",
              "Absolute Power (1997)                                       3.370079\n",
              "Abyss, The (1989)                                           3.589404\n",
              "Ace Ventura: Pet Detective (1994)                           3.048544\n",
              "Ace Ventura: When Nature Calls (1995)                       2.675676\n",
              "Across the Sea of Time (1995)                               2.750000\n",
              "Addams Family Values (1993)                                 2.816092\n",
              "Addicted to Love (1997)                                     3.166667\n",
              "Addiction, The (1995)                                       2.181818\n",
              "Adventures of Pinocchio, The (1996)                         3.051282\n",
              "Adventures of Priscilla, Queen of the Desert, The (1994)    3.594595\n",
              "Adventures of Robin Hood, The (1938)                        3.791045\n",
              "Affair to Remember, An (1957)                               4.192308\n",
              "African Queen, The (1951)                                   4.184211\n",
              "Afterglow (1997)                                            3.111111\n",
              "                                                              ...   \n",
              "Willy Wonka and the Chocolate Factory (1971)                3.631902\n",
              "Window to Paris (1994)                                      4.000000\n",
              "Wings of Courage (1995)                                     4.000000\n",
              "Wings of Desire (1987)                                      4.000000\n",
              "Wings of the Dove, The (1997)                               3.680000\n",
              "Winnie the Pooh and the Blustery Day (1968)                 3.800000\n",
              "Winter Guest, The (1997)                                    3.444444\n",
              "Wishmaster (1997)                                           2.444444\n",
              "With Honors (1994)                                          3.065217\n",
              "Withnail and I (1987)                                       3.230769\n",
              "Witness (1985)                                              4.000000\n",
              "Wizard of Oz, The (1939)                                    4.077236\n",
              "Wolf (1994)                                                 2.701493\n",
              "Woman in Question, The (1950)                               1.000000\n",
              "Women, The (1939)                                           3.666667\n",
              "Wonderful, Horrible Life of Leni Riefenstahl, The (1993)    4.000000\n",
              "Wonderland (1997)                                           3.200000\n",
              "Wooden Man's Bride, The (Wu Kui) (1994)                     2.666667\n",
              "World of Apu, The (Apur Sansar) (1959)                      4.000000\n",
              "Wrong Trousers, The (1993)                                  4.466102\n",
              "Wyatt Earp (1994)                                           3.100000\n",
              "Yankee Zulu (1994)                                          1.000000\n",
              "Year of the Horse (1997)                                    3.285714\n",
              "You So Crazy (1994)                                         3.000000\n",
              "Young Frankenstein (1974)                                   3.945000\n",
              "Young Guns (1988)                                           3.207921\n",
              "Young Guns II (1990)                                        2.772727\n",
              "Young Poisoner's Handbook, The (1995)                       3.341463\n",
              "Zeus and Roxanne (1997)                                     2.166667\n",
              "unknown                                                     3.444444\n",
              "Length: 1664, dtype: float64"
            ]
          },
          "metadata": {}
        }
      ],
      "execution_count": 13,
      "metadata": {}
    },
    {
      "cell_type": "code",
      "source": [
        "# data.groupby('title').apply(lambda df: df['rating'].mean())\n",
        "\n",
        "data.groupby('title')['rating'].mean()\n"
      ],
      "outputs": [
        {
          "output_type": "execute_result",
          "execution_count": 14,
          "data": {
            "text/plain": [
              "title\n",
              "'Til There Was You (1997)                                   2.333333\n",
              "1-900 (1994)                                                2.600000\n",
              "101 Dalmatians (1996)                                       2.908257\n",
              "12 Angry Men (1957)                                         4.344000\n",
              "187 (1997)                                                  3.024390\n",
              "2 Days in the Valley (1996)                                 3.225806\n",
              "20,000 Leagues Under the Sea (1954)                         3.500000\n",
              "2001: A Space Odyssey (1968)                                3.969112\n",
              "3 Ninjas: High Noon At Mega Mountain (1998)                 1.000000\n",
              "39 Steps, The (1935)                                        4.050847\n",
              "8 1/2 (1963)                                                3.815789\n",
              "8 Heads in a Duffel Bag (1997)                              3.250000\n",
              "8 Seconds (1994)                                            3.750000\n",
              "A Chef in Love (1996)                                       4.125000\n",
              "A koldum klaka (Cold Fever) (1994)                          3.000000\n",
              "Above the Rim (1994)                                        3.000000\n",
              "Absolute Power (1997)                                       3.370079\n",
              "Abyss, The (1989)                                           3.589404\n",
              "Ace Ventura: Pet Detective (1994)                           3.048544\n",
              "Ace Ventura: When Nature Calls (1995)                       2.675676\n",
              "Across the Sea of Time (1995)                               2.750000\n",
              "Addams Family Values (1993)                                 2.816092\n",
              "Addicted to Love (1997)                                     3.166667\n",
              "Addiction, The (1995)                                       2.181818\n",
              "Adventures of Pinocchio, The (1996)                         3.051282\n",
              "Adventures of Priscilla, Queen of the Desert, The (1994)    3.594595\n",
              "Adventures of Robin Hood, The (1938)                        3.791045\n",
              "Affair to Remember, An (1957)                               4.192308\n",
              "African Queen, The (1951)                                   4.184211\n",
              "Afterglow (1997)                                            3.111111\n",
              "                                                              ...   \n",
              "Willy Wonka and the Chocolate Factory (1971)                3.631902\n",
              "Window to Paris (1994)                                      4.000000\n",
              "Wings of Courage (1995)                                     4.000000\n",
              "Wings of Desire (1987)                                      4.000000\n",
              "Wings of the Dove, The (1997)                               3.680000\n",
              "Winnie the Pooh and the Blustery Day (1968)                 3.800000\n",
              "Winter Guest, The (1997)                                    3.444444\n",
              "Wishmaster (1997)                                           2.444444\n",
              "With Honors (1994)                                          3.065217\n",
              "Withnail and I (1987)                                       3.230769\n",
              "Witness (1985)                                              4.000000\n",
              "Wizard of Oz, The (1939)                                    4.077236\n",
              "Wolf (1994)                                                 2.701493\n",
              "Woman in Question, The (1950)                               1.000000\n",
              "Women, The (1939)                                           3.666667\n",
              "Wonderful, Horrible Life of Leni Riefenstahl, The (1993)    4.000000\n",
              "Wonderland (1997)                                           3.200000\n",
              "Wooden Man's Bride, The (Wu Kui) (1994)                     2.666667\n",
              "World of Apu, The (Apur Sansar) (1959)                      4.000000\n",
              "Wrong Trousers, The (1993)                                  4.466102\n",
              "Wyatt Earp (1994)                                           3.100000\n",
              "Yankee Zulu (1994)                                          1.000000\n",
              "Year of the Horse (1997)                                    3.285714\n",
              "You So Crazy (1994)                                         3.000000\n",
              "Young Frankenstein (1974)                                   3.945000\n",
              "Young Guns (1988)                                           3.207921\n",
              "Young Guns II (1990)                                        2.772727\n",
              "Young Poisoner's Handbook, The (1995)                       3.341463\n",
              "Zeus and Roxanne (1997)                                     2.166667\n",
              "unknown                                                     3.444444\n",
              "Name: rating, Length: 1664, dtype: float64"
            ]
          },
          "metadata": {}
        }
      ],
      "execution_count": 14,
      "metadata": {}
    },
    {
      "cell_type": "markdown",
      "source": [
        "### [Q] Perform the same calculation, but this time only for movies that have been rated at least 100 times"
      ],
      "metadata": {}
    },
    {
      "cell_type": "code",
      "source": [
        "s1=data.groupby('title').apply(lambda df: (len(df), df['rating'].mean()) )\n",
        "s1.head()\n",
        "bm=s1.apply(lambda v: v[0]>=100)\n"
      ],
      "outputs": [],
      "execution_count": null,
      "metadata": {}
    },
    {
      "cell_type": "markdown",
      "source": [
        "### Determine the 50 movies that have been reviewed the most\n",
        "(we've already done it)"
      ],
      "metadata": {}
    },
    {
      "cell_type": "code",
      "source": [
        "top50 = data['title'].value_counts().head(50)\n",
        "\n",
        "\n"
      ],
      "outputs": [],
      "execution_count": null,
      "metadata": {}
    },
    {
      "cell_type": "markdown",
      "source": [
        "## Pivot Tables"
      ],
      "metadata": {}
    },
    {
      "cell_type": "code",
      "source": [
        "len(data['title'].value_counts())"
      ],
      "outputs": [],
      "execution_count": null,
      "metadata": {}
    },
    {
      "cell_type": "code",
      "source": [
        "len(data)"
      ],
      "outputs": [],
      "execution_count": null,
      "metadata": {}
    },
    {
      "cell_type": "code",
      "source": [
        "pvt = data.pivot_table(index='title', \n",
        "                       columns='gender', values='rating')\n",
        "pvt.head()\n",
        "\n",
        "\n",
        "\n"
      ],
      "outputs": [],
      "execution_count": null,
      "metadata": {}
    },
    {
      "cell_type": "code",
      "source": [
        "len(pvt)"
      ],
      "outputs": [],
      "execution_count": null,
      "metadata": {
        "scrolled": false
      }
    },
    {
      "cell_type": "markdown",
      "source": [
        "### Find X to plot the difference in average reviews between men and women"
      ],
      "metadata": {}
    },
    {
      "cell_type": "code",
      "source": [
        "rev = pvt.loc[top50.index]"
      ],
      "outputs": [],
      "execution_count": null,
      "metadata": {}
    },
    {
      "cell_type": "code",
      "source": [
        "rev['diff'] = rev['M']-rev['F']\n",
        "rev.head()\n",
        "X = rev['diff']"
      ],
      "outputs": [],
      "execution_count": null,
      "metadata": {}
    },
    {
      "cell_type": "code",
      "source": [
        "X.sort_values().plot(kind='barh',figsize=[9,15])"
      ],
      "outputs": [],
      "execution_count": null,
      "metadata": {}
    }
  ],
  "metadata": {
    "kernelspec": {
      "name": "python3",
      "language": "python",
      "display_name": "Python 3"
    },
    "language_info": {
      "name": "python",
      "version": "3.7.3",
      "mimetype": "text/x-python",
      "codemirror_mode": {
        "name": "ipython",
        "version": 3
      },
      "pygments_lexer": "ipython3",
      "nbconvert_exporter": "python",
      "file_extension": ".py"
    },
    "kernel_info": {
      "name": "python3"
    },
    "nteract": {
      "version": "0.15.0"
    }
  },
  "nbformat": 4,
  "nbformat_minor": 1
}