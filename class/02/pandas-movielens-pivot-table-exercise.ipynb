{
  "cells": [
    {
      "cell_type": "markdown",
      "source": [
        "# MoviesLens data set\n",
        "# Question: How do men and women rate the same movie?"
      ],
      "metadata": {}
    },
    {
      "cell_type": "code",
      "source": [
        "import pandas as pd\n",
        "import matplotlib.pyplot as plt\n",
        "import numpy as np\n",
        "\n",
        "%matplotlib inline"
      ],
      "outputs": [],
      "execution_count": 1,
      "metadata": {}
    },
    {
      "cell_type": "markdown",
      "source": [
        "### Read three data files"
      ],
      "metadata": {}
    },
    {
      "cell_type": "code",
      "source": [
        "# pass in column names for each CSV\n",
        "u_cols = ['user_id', 'age', 'gender', 'occupation', 'zip_code']\n",
        "users = pd.read_csv('u.user', sep='|', names=u_cols,\n",
        "                    encoding='latin-1')\n",
        "\n",
        "r_cols = ['user_id', 'movie_id', 'rating', 'unix_timestamp']\n",
        "ratings = pd.read_csv('u.data', sep='\\t', names=r_cols,\n",
        "                      encoding='latin-1')\n",
        "\n",
        "# u.item has a large number of fields.  Lets use only two.\n",
        "# Note the use of 'usecols'\n",
        "\n",
        "m_cols = ['movie_id', 'title']\n",
        "movies = pd.read_csv('u.item', sep='|', names=m_cols, usecols=range(2),\n",
        "                     encoding='latin-1')"
      ],
      "outputs": [],
      "execution_count": 2,
      "metadata": {}
    },
    {
      "cell_type": "code",
      "source": [
        "users.head()"
      ],
      "outputs": [
        {
          "output_type": "execute_result",
          "execution_count": 3,
          "data": {
            "text/html": [
              "<div>\n",
              "<style scoped>\n",
              "    .dataframe tbody tr th:only-of-type {\n",
              "        vertical-align: middle;\n",
              "    }\n",
              "\n",
              "    .dataframe tbody tr th {\n",
              "        vertical-align: top;\n",
              "    }\n",
              "\n",
              "    .dataframe thead th {\n",
              "        text-align: right;\n",
              "    }\n",
              "</style>\n",
              "<table border=\"1\" class=\"dataframe\">\n",
              "  <thead>\n",
              "    <tr style=\"text-align: right;\">\n",
              "      <th></th>\n",
              "      <th>user_id</th>\n",
              "      <th>age</th>\n",
              "      <th>gender</th>\n",
              "      <th>occupation</th>\n",
              "      <th>zip_code</th>\n",
              "    </tr>\n",
              "  </thead>\n",
              "  <tbody>\n",
              "    <tr>\n",
              "      <td>0</td>\n",
              "      <td>1</td>\n",
              "      <td>24</td>\n",
              "      <td>M</td>\n",
              "      <td>technician</td>\n",
              "      <td>85711</td>\n",
              "    </tr>\n",
              "    <tr>\n",
              "      <td>1</td>\n",
              "      <td>2</td>\n",
              "      <td>53</td>\n",
              "      <td>F</td>\n",
              "      <td>other</td>\n",
              "      <td>94043</td>\n",
              "    </tr>\n",
              "    <tr>\n",
              "      <td>2</td>\n",
              "      <td>3</td>\n",
              "      <td>23</td>\n",
              "      <td>M</td>\n",
              "      <td>writer</td>\n",
              "      <td>32067</td>\n",
              "    </tr>\n",
              "    <tr>\n",
              "      <td>3</td>\n",
              "      <td>4</td>\n",
              "      <td>24</td>\n",
              "      <td>M</td>\n",
              "      <td>technician</td>\n",
              "      <td>43537</td>\n",
              "    </tr>\n",
              "    <tr>\n",
              "      <td>4</td>\n",
              "      <td>5</td>\n",
              "      <td>33</td>\n",
              "      <td>F</td>\n",
              "      <td>other</td>\n",
              "      <td>15213</td>\n",
              "    </tr>\n",
              "  </tbody>\n",
              "</table>\n",
              "</div>"
            ],
            "text/plain": [
              "   user_id  age gender  occupation zip_code\n",
              "0        1   24      M  technician    85711\n",
              "1        2   53      F       other    94043\n",
              "2        3   23      M      writer    32067\n",
              "3        4   24      M  technician    43537\n",
              "4        5   33      F       other    15213"
            ]
          },
          "metadata": {}
        }
      ],
      "execution_count": 3,
      "metadata": {}
    },
    {
      "cell_type": "code",
      "source": [
        "ratings.head()"
      ],
      "outputs": [
        {
          "output_type": "execute_result",
          "execution_count": 4,
          "data": {
            "text/html": [
              "<div>\n",
              "<style scoped>\n",
              "    .dataframe tbody tr th:only-of-type {\n",
              "        vertical-align: middle;\n",
              "    }\n",
              "\n",
              "    .dataframe tbody tr th {\n",
              "        vertical-align: top;\n",
              "    }\n",
              "\n",
              "    .dataframe thead th {\n",
              "        text-align: right;\n",
              "    }\n",
              "</style>\n",
              "<table border=\"1\" class=\"dataframe\">\n",
              "  <thead>\n",
              "    <tr style=\"text-align: right;\">\n",
              "      <th></th>\n",
              "      <th>user_id</th>\n",
              "      <th>movie_id</th>\n",
              "      <th>rating</th>\n",
              "      <th>unix_timestamp</th>\n",
              "    </tr>\n",
              "  </thead>\n",
              "  <tbody>\n",
              "    <tr>\n",
              "      <td>0</td>\n",
              "      <td>196</td>\n",
              "      <td>242</td>\n",
              "      <td>3</td>\n",
              "      <td>881250949</td>\n",
              "    </tr>\n",
              "    <tr>\n",
              "      <td>1</td>\n",
              "      <td>186</td>\n",
              "      <td>302</td>\n",
              "      <td>3</td>\n",
              "      <td>891717742</td>\n",
              "    </tr>\n",
              "    <tr>\n",
              "      <td>2</td>\n",
              "      <td>22</td>\n",
              "      <td>377</td>\n",
              "      <td>1</td>\n",
              "      <td>878887116</td>\n",
              "    </tr>\n",
              "    <tr>\n",
              "      <td>3</td>\n",
              "      <td>244</td>\n",
              "      <td>51</td>\n",
              "      <td>2</td>\n",
              "      <td>880606923</td>\n",
              "    </tr>\n",
              "    <tr>\n",
              "      <td>4</td>\n",
              "      <td>166</td>\n",
              "      <td>346</td>\n",
              "      <td>1</td>\n",
              "      <td>886397596</td>\n",
              "    </tr>\n",
              "  </tbody>\n",
              "</table>\n",
              "</div>"
            ],
            "text/plain": [
              "   user_id  movie_id  rating  unix_timestamp\n",
              "0      196       242       3       881250949\n",
              "1      186       302       3       891717742\n",
              "2       22       377       1       878887116\n",
              "3      244        51       2       880606923\n",
              "4      166       346       1       886397596"
            ]
          },
          "metadata": {}
        }
      ],
      "execution_count": 4,
      "metadata": {}
    },
    {
      "cell_type": "code",
      "source": [
        "# create one merged DataFrame\n",
        "movie_ratings = pd.merge(users, ratings,\n",
        "                         how='inner',\n",
        "                        left_on='user_id',\n",
        "                        right_on='user_id')\n",
        "data = pd.merge(movie_ratings, movies,\n",
        "               how='inner',\n",
        "               on='movie_id')"
      ],
      "outputs": [
        {
          "output_type": "execute_result",
          "execution_count": 5,
          "data": {
            "text/html": [
              "<div>\n",
              "<style scoped>\n",
              "    .dataframe tbody tr th:only-of-type {\n",
              "        vertical-align: middle;\n",
              "    }\n",
              "\n",
              "    .dataframe tbody tr th {\n",
              "        vertical-align: top;\n",
              "    }\n",
              "\n",
              "    .dataframe thead th {\n",
              "        text-align: right;\n",
              "    }\n",
              "</style>\n",
              "<table border=\"1\" class=\"dataframe\">\n",
              "  <thead>\n",
              "    <tr style=\"text-align: right;\">\n",
              "      <th></th>\n",
              "      <th>user_id</th>\n",
              "      <th>age</th>\n",
              "      <th>gender</th>\n",
              "      <th>occupation</th>\n",
              "      <th>zip_code</th>\n",
              "      <th>movie_id</th>\n",
              "      <th>rating</th>\n",
              "      <th>unix_timestamp</th>\n",
              "      <th>title</th>\n",
              "    </tr>\n",
              "  </thead>\n",
              "  <tbody>\n",
              "    <tr>\n",
              "      <td>0</td>\n",
              "      <td>1</td>\n",
              "      <td>24</td>\n",
              "      <td>M</td>\n",
              "      <td>technician</td>\n",
              "      <td>85711</td>\n",
              "      <td>61</td>\n",
              "      <td>4</td>\n",
              "      <td>878542420</td>\n",
              "      <td>Three Colors: White (1994)</td>\n",
              "    </tr>\n",
              "    <tr>\n",
              "      <td>1</td>\n",
              "      <td>13</td>\n",
              "      <td>47</td>\n",
              "      <td>M</td>\n",
              "      <td>educator</td>\n",
              "      <td>29206</td>\n",
              "      <td>61</td>\n",
              "      <td>4</td>\n",
              "      <td>882140552</td>\n",
              "      <td>Three Colors: White (1994)</td>\n",
              "    </tr>\n",
              "    <tr>\n",
              "      <td>2</td>\n",
              "      <td>18</td>\n",
              "      <td>35</td>\n",
              "      <td>F</td>\n",
              "      <td>other</td>\n",
              "      <td>37212</td>\n",
              "      <td>61</td>\n",
              "      <td>4</td>\n",
              "      <td>880130803</td>\n",
              "      <td>Three Colors: White (1994)</td>\n",
              "    </tr>\n",
              "    <tr>\n",
              "      <td>3</td>\n",
              "      <td>58</td>\n",
              "      <td>27</td>\n",
              "      <td>M</td>\n",
              "      <td>programmer</td>\n",
              "      <td>52246</td>\n",
              "      <td>61</td>\n",
              "      <td>5</td>\n",
              "      <td>884305271</td>\n",
              "      <td>Three Colors: White (1994)</td>\n",
              "    </tr>\n",
              "    <tr>\n",
              "      <td>4</td>\n",
              "      <td>59</td>\n",
              "      <td>49</td>\n",
              "      <td>M</td>\n",
              "      <td>educator</td>\n",
              "      <td>08403</td>\n",
              "      <td>61</td>\n",
              "      <td>4</td>\n",
              "      <td>888204597</td>\n",
              "      <td>Three Colors: White (1994)</td>\n",
              "    </tr>\n",
              "  </tbody>\n",
              "</table>\n",
              "</div>"
            ],
            "text/plain": [
              "   user_id  age gender  occupation zip_code  movie_id  rating  unix_timestamp  \\\n",
              "0        1   24      M  technician    85711        61       4       878542420   \n",
              "1       13   47      M    educator    29206        61       4       882140552   \n",
              "2       18   35      F       other    37212        61       4       880130803   \n",
              "3       58   27      M  programmer    52246        61       5       884305271   \n",
              "4       59   49      M    educator    08403        61       4       888204597   \n",
              "\n",
              "                        title  \n",
              "0  Three Colors: White (1994)  \n",
              "1  Three Colors: White (1994)  \n",
              "2  Three Colors: White (1994)  \n",
              "3  Three Colors: White (1994)  \n",
              "4  Three Colors: White (1994)  "
            ]
          },
          "metadata": {}
        }
      ],
      "execution_count": 5,
      "metadata": {}
    },
    {
      "cell_type": "markdown",
      "source": [
        "Always good to start off by examining the data"
      ],
      "metadata": {}
    },
    {
      "cell_type": "code",
      "source": [
        "data.head()"
      ],
      "outputs": [
        {
          "output_type": "execute_result",
          "execution_count": 6,
          "data": {
            "text/html": [
              "<div>\n",
              "<style scoped>\n",
              "    .dataframe tbody tr th:only-of-type {\n",
              "        vertical-align: middle;\n",
              "    }\n",
              "\n",
              "    .dataframe tbody tr th {\n",
              "        vertical-align: top;\n",
              "    }\n",
              "\n",
              "    .dataframe thead th {\n",
              "        text-align: right;\n",
              "    }\n",
              "</style>\n",
              "<table border=\"1\" class=\"dataframe\">\n",
              "  <thead>\n",
              "    <tr style=\"text-align: right;\">\n",
              "      <th></th>\n",
              "      <th>user_id</th>\n",
              "      <th>age</th>\n",
              "      <th>gender</th>\n",
              "      <th>occupation</th>\n",
              "      <th>zip_code</th>\n",
              "      <th>movie_id</th>\n",
              "      <th>rating</th>\n",
              "      <th>unix_timestamp</th>\n",
              "      <th>title</th>\n",
              "    </tr>\n",
              "  </thead>\n",
              "  <tbody>\n",
              "    <tr>\n",
              "      <td>0</td>\n",
              "      <td>1</td>\n",
              "      <td>24</td>\n",
              "      <td>M</td>\n",
              "      <td>technician</td>\n",
              "      <td>85711</td>\n",
              "      <td>61</td>\n",
              "      <td>4</td>\n",
              "      <td>878542420</td>\n",
              "      <td>Three Colors: White (1994)</td>\n",
              "    </tr>\n",
              "    <tr>\n",
              "      <td>1</td>\n",
              "      <td>13</td>\n",
              "      <td>47</td>\n",
              "      <td>M</td>\n",
              "      <td>educator</td>\n",
              "      <td>29206</td>\n",
              "      <td>61</td>\n",
              "      <td>4</td>\n",
              "      <td>882140552</td>\n",
              "      <td>Three Colors: White (1994)</td>\n",
              "    </tr>\n",
              "    <tr>\n",
              "      <td>2</td>\n",
              "      <td>18</td>\n",
              "      <td>35</td>\n",
              "      <td>F</td>\n",
              "      <td>other</td>\n",
              "      <td>37212</td>\n",
              "      <td>61</td>\n",
              "      <td>4</td>\n",
              "      <td>880130803</td>\n",
              "      <td>Three Colors: White (1994)</td>\n",
              "    </tr>\n",
              "    <tr>\n",
              "      <td>3</td>\n",
              "      <td>58</td>\n",
              "      <td>27</td>\n",
              "      <td>M</td>\n",
              "      <td>programmer</td>\n",
              "      <td>52246</td>\n",
              "      <td>61</td>\n",
              "      <td>5</td>\n",
              "      <td>884305271</td>\n",
              "      <td>Three Colors: White (1994)</td>\n",
              "    </tr>\n",
              "    <tr>\n",
              "      <td>4</td>\n",
              "      <td>59</td>\n",
              "      <td>49</td>\n",
              "      <td>M</td>\n",
              "      <td>educator</td>\n",
              "      <td>08403</td>\n",
              "      <td>61</td>\n",
              "      <td>4</td>\n",
              "      <td>888204597</td>\n",
              "      <td>Three Colors: White (1994)</td>\n",
              "    </tr>\n",
              "  </tbody>\n",
              "</table>\n",
              "</div>"
            ],
            "text/plain": [
              "   user_id  age gender  occupation zip_code  movie_id  rating  unix_timestamp  \\\n",
              "0        1   24      M  technician    85711        61       4       878542420   \n",
              "1       13   47      M    educator    29206        61       4       882140552   \n",
              "2       18   35      F       other    37212        61       4       880130803   \n",
              "3       58   27      M  programmer    52246        61       5       884305271   \n",
              "4       59   49      M    educator    08403        61       4       888204597   \n",
              "\n",
              "                        title  \n",
              "0  Three Colors: White (1994)  \n",
              "1  Three Colors: White (1994)  \n",
              "2  Three Colors: White (1994)  \n",
              "3  Three Colors: White (1994)  \n",
              "4  Three Colors: White (1994)  "
            ]
          },
          "metadata": {}
        }
      ],
      "execution_count": 6,
      "metadata": {
        "scrolled": true
      }
    },
    {
      "cell_type": "markdown",
      "source": [
        "### [Q] What are the top 10 movies that have the most number of ratings?"
      ],
      "metadata": {}
    },
    {
      "cell_type": "markdown",
      "source": [
        "#### Approach 1: \n",
        "- Form groups based on title\n",
        "- find the size of each group\n",
        "- sort the resultant Series with .sort_values"
      ],
      "metadata": {}
    },
    {
      "cell_type": "code",
      "source": [
        "data.groupby('title').size().sort_values(ascending=False)\n",
        "\n",
        "\n"
      ],
      "outputs": [
        {
          "output_type": "execute_result",
          "execution_count": 9,
          "data": {
            "text/plain": [
              "title\n",
              "Star Wars (1977)                      583\n",
              "Contact (1997)                        509\n",
              "Fargo (1996)                          508\n",
              "Return of the Jedi (1983)             507\n",
              "Liar Liar (1997)                      485\n",
              "                                     ... \n",
              "Brother's Kiss, A (1997)                1\n",
              "Object of My Affection, The (1998)      1\n",
              "Office Killer (1997)                    1\n",
              "Other Voices, Other Rooms (1997)        1\n",
              "Lady of Burlesque (1943)                1\n",
              "Length: 1664, dtype: int64"
            ]
          },
          "metadata": {}
        }
      ],
      "execution_count": 9,
      "metadata": {
        "scrolled": false
      }
    },
    {
      "cell_type": "markdown",
      "source": [
        "#### Approach 2:  Use Pandas' .value_counts :-)"
      ],
      "metadata": {}
    },
    {
      "cell_type": "code",
      "source": [
        "data.title.value_counts()\n",
        "\n"
      ],
      "outputs": [
        {
          "output_type": "execute_result",
          "execution_count": 8,
          "data": {
            "text/plain": [
              "Star Wars (1977)                               583\n",
              "Contact (1997)                                 509\n",
              "Fargo (1996)                                   508\n",
              "Return of the Jedi (1983)                      507\n",
              "Liar Liar (1997)                               485\n",
              "                                              ... \n",
              "Hana-bi (1997)                                   1\n",
              "You So Crazy (1994)                              1\n",
              "All Things Fair (1996)                           1\n",
              "Land and Freedom (Tierra y libertad) (1995)      1\n",
              "Sweet Nothing (1995)                             1\n",
              "Name: title, Length: 1664, dtype: int64"
            ]
          },
          "metadata": {}
        }
      ],
      "execution_count": 8,
      "metadata": {}
    },
    {
      "cell_type": "markdown",
      "source": [
        "### [Q] What is the average rating for each movie?  Which movies are rated the highest? "
      ],
      "metadata": {}
    },
    {
      "cell_type": "code",
      "source": [
        "d1 = data.groupby('title').rating.mean().sort_values(ascending=False)\n",
        "d1"
      ],
      "outputs": [
        {
          "output_type": "execute_result",
          "execution_count": 13,
          "data": {
            "text/plain": [
              "title\n",
              "They Made Me a Criminal (1939)                       5.0\n",
              "Entertaining Angels: The Dorothy Day Story (1996)    5.0\n",
              "Prefontaine (1997)                                   5.0\n",
              "Someone Else's America (1995)                        5.0\n",
              "Aiqing wansui (1994)                                 5.0\n",
              "                                                    ... \n",
              "Quartier Mozart (1992)                               1.0\n",
              "Baton Rouge (1988)                                   1.0\n",
              "Further Gesture, A (1996)                            1.0\n",
              "Somebody to Love (1994)                              1.0\n",
              "Good Morning (1971)                                  1.0\n",
              "Name: rating, Length: 1664, dtype: float64"
            ]
          },
          "metadata": {}
        }
      ],
      "execution_count": 13,
      "metadata": {}
    },
    {
      "cell_type": "markdown",
      "source": [
        "### [Q] Perform the same calculation, but this time only for movies that have been rated at least 100 times"
      ],
      "metadata": {}
    },
    {
      "cell_type": "code",
      "source": [
        "s1 = data.groupby('title').apply(lambda df: (df.rating.mean(), df.size))\n",
        "\n",
        "s2 = s1[s1.apply(lambda v: v[1] > 100)]\n",
        "s2.sort_values(ascending=False)"
      ],
      "outputs": [
        {
          "output_type": "execute_result",
          "execution_count": 21,
          "data": {
            "text/plain": [
              "title\n",
              "Close Shave, A (1995)                                     (4.491071428571429, 1008)\n",
              "Schindler's List (1993)                                   (4.466442953020135, 2682)\n",
              "Wrong Trousers, The (1993)                                (4.466101694915254, 1062)\n",
              "Casablanca (1942)                                          (4.45679012345679, 2187)\n",
              "Wallace & Gromit: The Best of Aardman Animation (1996)     (4.447761194029851, 603)\n",
              "                                                                    ...            \n",
              "Free Willy 3: The Rescue (1997)                           (1.7407407407407407, 243)\n",
              "Lawnmower Man 2: Beyond Cyberspace (1996)                 (1.7142857142857142, 189)\n",
              "Amityville II: The Possession (1982)                      (1.6428571428571428, 126)\n",
              "Body Parts (1991)                                         (1.6153846153846154, 117)\n",
              "Children of the Corn: The Gathering (1996)                (1.3157894736842106, 171)\n",
              "Length: 1091, dtype: object"
            ]
          },
          "metadata": {}
        }
      ],
      "execution_count": 21,
      "metadata": {}
    },
    {
      "cell_type": "markdown",
      "source": [
        "### Determine the 50 movies that have been reviewed the most\n",
        "(we've already done it)"
      ],
      "metadata": {}
    },
    {
      "cell_type": "code",
      "source": [
        "most_50 = data.title.value_counts().head(50)\n",
        "most_50\n",
        "\n",
        "\n"
      ],
      "outputs": [
        {
          "output_type": "execute_result",
          "execution_count": 24,
          "data": {
            "text/plain": [
              "Star Wars (1977)                                583\n",
              "Contact (1997)                                  509\n",
              "Fargo (1996)                                    508\n",
              "Return of the Jedi (1983)                       507\n",
              "Liar Liar (1997)                                485\n",
              "English Patient, The (1996)                     481\n",
              "Scream (1996)                                   478\n",
              "Toy Story (1995)                                452\n",
              "Air Force One (1997)                            431\n",
              "Independence Day (ID4) (1996)                   429\n",
              "Raiders of the Lost Ark (1981)                  420\n",
              "Godfather, The (1972)                           413\n",
              "Pulp Fiction (1994)                             394\n",
              "Twelve Monkeys (1995)                           392\n",
              "Silence of the Lambs, The (1991)                390\n",
              "Jerry Maguire (1996)                            384\n",
              "Chasing Amy (1997)                              379\n",
              "Rock, The (1996)                                378\n",
              "Empire Strikes Back, The (1980)                 367\n",
              "Star Trek: First Contact (1996)                 365\n",
              "Titanic (1997)                                  350\n",
              "Back to the Future (1985)                       350\n",
              "Mission: Impossible (1996)                      344\n",
              "Fugitive, The (1993)                            336\n",
              "Indiana Jones and the Last Crusade (1989)       331\n",
              "Willy Wonka and the Chocolate Factory (1971)    326\n",
              "Princess Bride, The (1987)                      324\n",
              "Forrest Gump (1994)                             321\n",
              "Monty Python and the Holy Grail (1974)          316\n",
              "Saint, The (1997)                               316\n",
              "Full Monty, The (1997)                          315\n",
              "Men in Black (1997)                             303\n",
              "Terminator, The (1984)                          301\n",
              "E.T. the Extra-Terrestrial (1982)               300\n",
              "Dead Man Walking (1995)                         299\n",
              "Leaving Las Vegas (1995)                        298\n",
              "Schindler's List (1993)                         298\n",
              "L.A. Confidential (1997)                        297\n",
              "Braveheart (1995)                               297\n",
              "Conspiracy Theory (1997)                        295\n",
              "Terminator 2: Judgment Day (1991)               295\n",
              "Birdcage, The (1996)                            293\n",
              "Mr. Holland's Opus (1995)                       293\n",
              "Twister (1996)                                  293\n",
              "Alien (1979)                                    291\n",
              "When Harry Met Sally... (1989)                  290\n",
              "Aliens (1986)                                   284\n",
              "Shawshank Redemption, The (1994)                283\n",
              "Groundhog Day (1993)                            280\n",
              "Jaws (1975)                                     280\n",
              "Name: title, dtype: int64"
            ]
          },
          "metadata": {}
        }
      ],
      "execution_count": 24,
      "metadata": {}
    },
    {
      "cell_type": "markdown",
      "source": [
        "## Pivot Tables"
      ],
      "metadata": {}
    },
    {
      "cell_type": "code",
      "source": [
        "data.head(0)"
      ],
      "outputs": [
        {
          "output_type": "execute_result",
          "execution_count": 27,
          "data": {
            "text/html": [
              "<div>\n",
              "<style scoped>\n",
              "    .dataframe tbody tr th:only-of-type {\n",
              "        vertical-align: middle;\n",
              "    }\n",
              "\n",
              "    .dataframe tbody tr th {\n",
              "        vertical-align: top;\n",
              "    }\n",
              "\n",
              "    .dataframe thead th {\n",
              "        text-align: right;\n",
              "    }\n",
              "</style>\n",
              "<table border=\"1\" class=\"dataframe\">\n",
              "  <thead>\n",
              "    <tr style=\"text-align: right;\">\n",
              "      <th></th>\n",
              "      <th>user_id</th>\n",
              "      <th>age</th>\n",
              "      <th>gender</th>\n",
              "      <th>occupation</th>\n",
              "      <th>zip_code</th>\n",
              "      <th>movie_id</th>\n",
              "      <th>rating</th>\n",
              "      <th>unix_timestamp</th>\n",
              "      <th>title</th>\n",
              "    </tr>\n",
              "  </thead>\n",
              "  <tbody>\n",
              "  </tbody>\n",
              "</table>\n",
              "</div>"
            ],
            "text/plain": [
              "Empty DataFrame\n",
              "Columns: [user_id, age, gender, occupation, zip_code, movie_id, rating, unix_timestamp, title]\n",
              "Index: []"
            ]
          },
          "metadata": {}
        }
      ],
      "execution_count": 27,
      "metadata": {}
    },
    {
      "cell_type": "code",
      "source": [
        "len(data['title'].value_counts())"
      ],
      "outputs": [
        {
          "output_type": "execute_result",
          "execution_count": 25,
          "data": {
            "text/plain": [
              "1664"
            ]
          },
          "metadata": {}
        }
      ],
      "execution_count": 25,
      "metadata": {}
    },
    {
      "cell_type": "code",
      "source": [
        "len(data)"
      ],
      "outputs": [
        {
          "output_type": "execute_result",
          "execution_count": 26,
          "data": {
            "text/plain": [
              "100000"
            ]
          },
          "metadata": {}
        }
      ],
      "execution_count": 26,
      "metadata": {}
    },
    {
      "cell_type": "code",
      "source": [
        "pvt = data.pivot_table(index='title',\n",
        "                      columns='gender',\n",
        "                      values='rating',\n",
        "                      aggfunc= lambda x: x.mean())\n",
        "\n",
        "pvt.head()\n",
        "\n"
      ],
      "outputs": [
        {
          "output_type": "execute_result",
          "execution_count": 29,
          "data": {
            "text/html": [
              "<div>\n",
              "<style scoped>\n",
              "    .dataframe tbody tr th:only-of-type {\n",
              "        vertical-align: middle;\n",
              "    }\n",
              "\n",
              "    .dataframe tbody tr th {\n",
              "        vertical-align: top;\n",
              "    }\n",
              "\n",
              "    .dataframe thead th {\n",
              "        text-align: right;\n",
              "    }\n",
              "</style>\n",
              "<table border=\"1\" class=\"dataframe\">\n",
              "  <thead>\n",
              "    <tr style=\"text-align: right;\">\n",
              "      <th>gender</th>\n",
              "      <th>F</th>\n",
              "      <th>M</th>\n",
              "    </tr>\n",
              "    <tr>\n",
              "      <th>title</th>\n",
              "      <th></th>\n",
              "      <th></th>\n",
              "    </tr>\n",
              "  </thead>\n",
              "  <tbody>\n",
              "    <tr>\n",
              "      <td>'Til There Was You (1997)</td>\n",
              "      <td>2.200000</td>\n",
              "      <td>2.500000</td>\n",
              "    </tr>\n",
              "    <tr>\n",
              "      <td>1-900 (1994)</td>\n",
              "      <td>1.000000</td>\n",
              "      <td>3.000000</td>\n",
              "    </tr>\n",
              "    <tr>\n",
              "      <td>101 Dalmatians (1996)</td>\n",
              "      <td>3.116279</td>\n",
              "      <td>2.772727</td>\n",
              "    </tr>\n",
              "    <tr>\n",
              "      <td>12 Angry Men (1957)</td>\n",
              "      <td>4.269231</td>\n",
              "      <td>4.363636</td>\n",
              "    </tr>\n",
              "    <tr>\n",
              "      <td>187 (1997)</td>\n",
              "      <td>3.500000</td>\n",
              "      <td>2.870968</td>\n",
              "    </tr>\n",
              "  </tbody>\n",
              "</table>\n",
              "</div>"
            ],
            "text/plain": [
              "gender                            F         M\n",
              "title                                        \n",
              "'Til There Was You (1997)  2.200000  2.500000\n",
              "1-900 (1994)               1.000000  3.000000\n",
              "101 Dalmatians (1996)      3.116279  2.772727\n",
              "12 Angry Men (1957)        4.269231  4.363636\n",
              "187 (1997)                 3.500000  2.870968"
            ]
          },
          "metadata": {}
        }
      ],
      "execution_count": 29,
      "metadata": {}
    },
    {
      "cell_type": "code",
      "source": [
        "len(pvt)"
      ],
      "outputs": [
        {
          "output_type": "execute_result",
          "execution_count": 30,
          "data": {
            "text/plain": [
              "1664"
            ]
          },
          "metadata": {}
        }
      ],
      "execution_count": 30,
      "metadata": {
        "scrolled": false
      }
    },
    {
      "cell_type": "markdown",
      "source": [
        "### Find X to plot the difference in average reviews between men and women"
      ],
      "metadata": {}
    },
    {
      "cell_type": "code",
      "source": [
        "most_50.index"
      ],
      "outputs": [
        {
          "output_type": "execute_result",
          "execution_count": 31,
          "data": {
            "text/plain": [
              "Index(['Star Wars (1977)', 'Contact (1997)', 'Fargo (1996)',\n",
              "       'Return of the Jedi (1983)', 'Liar Liar (1997)',\n",
              "       'English Patient, The (1996)', 'Scream (1996)', 'Toy Story (1995)',\n",
              "       'Air Force One (1997)', 'Independence Day (ID4) (1996)',\n",
              "       'Raiders of the Lost Ark (1981)', 'Godfather, The (1972)',\n",
              "       'Pulp Fiction (1994)', 'Twelve Monkeys (1995)',\n",
              "       'Silence of the Lambs, The (1991)', 'Jerry Maguire (1996)',\n",
              "       'Chasing Amy (1997)', 'Rock, The (1996)',\n",
              "       'Empire Strikes Back, The (1980)', 'Star Trek: First Contact (1996)',\n",
              "       'Titanic (1997)', 'Back to the Future (1985)',\n",
              "       'Mission: Impossible (1996)', 'Fugitive, The (1993)',\n",
              "       'Indiana Jones and the Last Crusade (1989)',\n",
              "       'Willy Wonka and the Chocolate Factory (1971)',\n",
              "       'Princess Bride, The (1987)', 'Forrest Gump (1994)',\n",
              "       'Monty Python and the Holy Grail (1974)', 'Saint, The (1997)',\n",
              "       'Full Monty, The (1997)', 'Men in Black (1997)',\n",
              "       'Terminator, The (1984)', 'E.T. the Extra-Terrestrial (1982)',\n",
              "       'Dead Man Walking (1995)', 'Leaving Las Vegas (1995)',\n",
              "       'Schindler's List (1993)', 'L.A. Confidential (1997)',\n",
              "       'Braveheart (1995)', 'Conspiracy Theory (1997)',\n",
              "       'Terminator 2: Judgment Day (1991)', 'Birdcage, The (1996)',\n",
              "       'Mr. Holland's Opus (1995)', 'Twister (1996)', 'Alien (1979)',\n",
              "       'When Harry Met Sally... (1989)', 'Aliens (1986)',\n",
              "       'Shawshank Redemption, The (1994)', 'Groundhog Day (1993)',\n",
              "       'Jaws (1975)'],\n",
              "      dtype='object')"
            ]
          },
          "metadata": {}
        }
      ],
      "execution_count": 31,
      "metadata": {
        "collapsed": true
      }
    },
    {
      "cell_type": "code",
      "source": [
        "pvt['diff'] = pvt.F-pvt.M\n",
        "pvt.head()\n",
        "\n",
        "\n",
        "X = pvt['diff']\n",
        "X = X.loc[most_50.index]"
      ],
      "outputs": [],
      "execution_count": 42,
      "metadata": {}
    },
    {
      "cell_type": "code",
      "source": [
        "X.sort_values().plot(kind='barh',figsize=[9,15])"
      ],
      "outputs": [
        {
          "output_type": "execute_result",
          "execution_count": 43,
          "data": {
            "text/plain": [
              "<matplotlib.axes._subplots.AxesSubplot at 0x25e0b8dc588>"
            ]
          },
          "metadata": {}
        },
        {
          "output_type": "display_data",
          "data": {
            "image/png": "[encoded data removed]",
            "text/plain": [
              "<Figure size 648x1080 with 1 Axes>"
            ]
          },
          "metadata": {
            "needs_background": "light"
          }
        }
      ],
      "execution_count": 43,
      "metadata": {}
    }
  ],
  "metadata": {
    "kernelspec": {
      "name": "python3",
      "language": "python",
      "display_name": "Python 3"
    },
    "language_info": {
      "name": "python",
      "version": "3.7.3",
      "mimetype": "text/x-python",
      "codemirror_mode": {
        "name": "ipython",
        "version": 3
      },
      "pygments_lexer": "ipython3",
      "nbconvert_exporter": "python",
      "file_extension": ".py"
    },
    "kernel_info": {
      "name": "python3"
    },
    "nteract": {
      "version": "0.15.0"
    }
  },
  "nbformat": 4,
  "nbformat_minor": 1
}