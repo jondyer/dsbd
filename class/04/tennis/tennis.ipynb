{
 "cells": [
  {
   "cell_type": "markdown",
   "metadata": {},
   "source": [
    "# Example: Working with the Tennis data set"
   ]
  },
  {
   "cell_type": "markdown",
   "metadata": {},
   "source": [
    "Classification with scikit-learn consists of the following high level stages\n",
    "1. Transform the data into a numpy array of numbers: a *feature matrix* and a *target vector*\n",
    "2. Select an estimator (either a classifier or regresor)\n",
    "3. Train the estimator (model) with `model.fit(X_train, y_train)`\n",
    "4. Assess the performance of the trained model(scikit provides numerous metrics) using `model.predict(X_test)`\n",
    "5. Deploy the model to estimate samples whose target is unknown "
   ]
  },
  {
   "cell_type": "markdown",
   "metadata": {},
   "source": [
    "## Data in scikit-learn"
   ]
  },
  {
   "cell_type": "markdown",
   "metadata": {},
   "source": [
    "Data in scikit-learn, is stored as a\n",
    "**two-dimensional array**, of size `[n_samples, n_features]`. "
   ]
  },
  {
   "cell_type": "markdown",
   "metadata": {},
   "source": [
    "- **n_samples:**   The number of samples: each sample is an item to process (e.g. classify).\n",
    "  A sample can be a document, a picture, a sound, a video, an astronomical object,\n",
    "  a row in database or CSV file,\n",
    "  or whatever you can describe with a fixed set of quantitative traits.\n",
    "- **n_features:**  The number of features or distinct traits that can be used to describe each\n",
    "  item in a quantitative manner.  Features are generally real-valued, but may be boolean or\n",
    "  discrete-valued in some cases.\n",
    "  \n",
    "Note:  sample, observation, instance are used synonymously in machine learning literature"
   ]
  },
  {
   "cell_type": "markdown",
   "metadata": {},
   "source": [
    "### Loading the Tennis Data from a file"
   ]
  },
  {
   "cell_type": "code",
   "execution_count": 1,
   "metadata": {},
   "outputs": [
    {
     "name": "stdout",
     "output_type": "stream",
     "text": [
      "[[2, 2, 1, 0],\n",
      " [2, 2, 1, 1],\n",
      " [1, 2, 1, 0],\n",
      " [0, 1, 1, 0],\n",
      " [0, 0, 0, 0],\n",
      " [0, 0, 0, 1],\n",
      " [1, 0, 0, 1],\n",
      " [2, 1, 1, 0],\n",
      " [2, 0, 0, 0],\n",
      " [0, 1, 0, 0],\n",
      " [2, 1, 0, 1],\n",
      " [1, 1, 1, 1],\n",
      " [1, 2, 0, 0],\n",
      " [0, 1, 1, 1]]\n",
      "[0, 0, 1, 1, 1, 0, 1, 0, 1, 1, 1, 1, 1, 0]\n"
     ]
    }
   ],
   "source": [
    "from pprint import pprint as pp\n",
    "\n",
    "# data =\n",
    "# target = \n",
    "\n",
    "feature_matrix = []\n",
    "target_vector = []\n",
    "\n",
    "for line in open('tennis-data-ints.txt', 'r'):\n",
    "#    day, f1, f2, f3, f4, target = line.strip().split()\n",
    "#    print( day, f1, f2, f3, f4, target)\n",
    "     day, *features, target = line.strip().split()\n",
    "     features = [ int(f) for f in features]\n",
    "     feature_matrix.append(features)\n",
    "     target = int(target)\n",
    "     target_vector.append(target)\n",
    "    \n",
    "pp(feature_matrix)\n",
    "pp(target_vector)"
   ]
  },
  {
   "cell_type": "code",
   "execution_count": 2,
   "metadata": {},
   "outputs": [
    {
     "name": "stdout",
     "output_type": "stream",
     "text": [
      "[[2 2 1 0]\n",
      " [2 2 1 1]\n",
      " [1 2 1 0]\n",
      " [0 1 1 0]\n",
      " [0 0 0 0]\n",
      " [0 0 0 1]\n",
      " [1 0 0 1]\n",
      " [2 1 1 0]\n",
      " [2 0 0 0]\n",
      " [0 1 0 0]\n",
      " [2 1 0 1]\n",
      " [1 1 1 1]\n",
      " [1 2 0 0]\n",
      " [0 1 1 1]]\n",
      "[0 0 1 1 1 0 1 0 1 1 1 1 1 0]\n"
     ]
    }
   ],
   "source": [
    "import numpy as np\n",
    "data = np.array( feature_matrix)\n",
    "target = np.array( target_vector)\n",
    "\n",
    "print(data)\n",
    "print(target)"
   ]
  },
  {
   "cell_type": "markdown",
   "metadata": {},
   "source": [
    "## Training and Testing"
   ]
  },
  {
   "cell_type": "code",
   "execution_count": 3,
   "metadata": {},
   "outputs": [
    {
     "data": {
      "text/plain": [
       "array([0])"
      ]
     },
     "execution_count": 3,
     "metadata": {},
     "output_type": "execute_result"
    }
   ],
   "source": [
    "# from sklearn.model_selection import train_test_split\n",
    "#r X_train, X_test, y_train, y_test = train_test_split(data, target, test_size=0.33, random_state=42)\n",
    "\n",
    "# We will use a variation of NB \n",
    "from sklearn.naive_bayes import GaussianNB\n",
    "\n",
    "# fit a Naive Bayes model to the data\n",
    "model = GaussianNB()\n",
    "X_train, y_train = data, target \n",
    "model.fit(X_train, y_train)\n",
    "\n",
    "# make predictions\n",
    "# sunny cool high strong\n",
    "X_test =  np.array([[ 2, 0, 1, 1]])\n",
    "\n",
    "predicted = model.predict(X_test)\n",
    "predicted"
   ]
  },
  {
   "cell_type": "markdown",
   "metadata": {},
   "source": [
    "### Testing performance on training data itself ..."
   ]
  },
  {
   "cell_type": "code",
   "execution_count": 4,
   "metadata": {},
   "outputs": [],
   "source": [
    "y_predicted = model.predict(X_train) \n",
    "y_expected = y_train"
   ]
  },
  {
   "cell_type": "code",
   "execution_count": 5,
   "metadata": {},
   "outputs": [
    {
     "name": "stdout",
     "output_type": "stream",
     "text": [
      "0.7857142857142857\n",
      "\n",
      "              precision    recall  f1-score   support\n",
      "\n",
      "           0       0.67      0.80      0.73         5\n",
      "           1       0.88      0.78      0.82         9\n",
      "\n",
      "    accuracy                           0.79        14\n",
      "   macro avg       0.77      0.79      0.78        14\n",
      "weighted avg       0.80      0.79      0.79        14\n",
      "\n",
      "[[4 1]\n",
      " [2 7]]\n",
      "\n"
     ]
    }
   ],
   "source": [
    "# Import  metrics\n",
    "from sklearn import metrics\n",
    "\n",
    "# summarize the fit of the model\n",
    "\n",
    "print(metrics.accuracy_score(y_expected, y_predicted))\n",
    "print()\n",
    "print(metrics.classification_report(y_expected, y_predicted))\n",
    "print(metrics.confusion_matrix(y_expected, y_predicted))\n",
    "print()"
   ]
  },
  {
   "cell_type": "code",
   "execution_count": null,
   "metadata": {
    "collapsed": true
   },
   "outputs": [],
   "source": []
  }
 ],
 "metadata": {
  "kernelspec": {
   "display_name": "Python 3",
   "language": "python",
   "name": "python3"
  },
  "language_info": {
   "codemirror_mode": {
    "name": "ipython",
    "version": 3
   },
   "file_extension": ".py",
   "mimetype": "text/x-python",
   "name": "python",
   "nbconvert_exporter": "python",
   "pygments_lexer": "ipython3",
   "version": "3.7.3"
  }
 },
 "nbformat": 4,
 "nbformat_minor": 1
}
