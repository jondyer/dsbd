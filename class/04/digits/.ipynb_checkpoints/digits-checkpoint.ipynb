{
 "cells": [
  {
   "cell_type": "markdown",
   "metadata": {},
   "source": [
    "## Classifying the MNIST digits\n",
    "\n",
    "#### First load the training and test set"
   ]
  },
  {
   "cell_type": "code",
   "execution_count": 1,
   "metadata": {},
   "outputs": [],
   "source": [
    "%run read_all_data.py"
   ]
  },
  {
   "cell_type": "code",
   "execution_count": 2,
   "metadata": {},
   "outputs": [],
   "source": [
    "X_train, y_train = read_all_image_label('train_images.txt', 'train_labels.txt')\n",
    "X_test, y_test = read_all_image_label('test_images.txt', 'test_labels.txt')"
   ]
  },
  {
   "cell_type": "code",
   "execution_count": 3,
   "metadata": {},
   "outputs": [
    {
     "data": {
      "text/plain": [
       "(5000, 1000)"
      ]
     },
     "execution_count": 3,
     "metadata": {},
     "output_type": "execute_result"
    }
   ],
   "source": [
    "(len(X_train), len(X_test))"
   ]
  },
  {
   "cell_type": "markdown",
   "metadata": {},
   "source": [
    "#### Convert Python lists to numpy arrays"
   ]
  },
  {
   "cell_type": "code",
   "execution_count": 4,
   "metadata": {},
   "outputs": [],
   "source": [
    "import numpy as np\n",
    "y_train_np = np.array(y_train)\n",
    "y_test_np = np.array(y_test)"
   ]
  },
  {
   "cell_type": "code",
   "execution_count": 5,
   "metadata": {},
   "outputs": [],
   "source": [
    "img = X_train[0]"
   ]
  },
  {
   "cell_type": "code",
   "execution_count": 6,
   "metadata": {},
   "outputs": [
    {
     "name": "stdout",
     "output_type": "stream",
     "text": [
      "['                            ',\n",
      " '                            ',\n",
      " '                            ',\n",
      " '                            ',\n",
      " '                            ',\n",
      " '                +++++##+    ',\n",
      " '        +++++######+###+    ',\n",
      " '       +##########+++++     ',\n",
      " '        #######+##          ',\n",
      " '        +++###  ++          ',\n",
      " '           +#+              ',\n",
      " '           +#+              ',\n",
      " '            +#+             ',\n",
      " '            +##++           ',\n",
      " '             +###++         ',\n",
      " '              ++##++        ',\n",
      " '                +##+        ',\n",
      " '                 ###+       ',\n",
      " '              +++###        ',\n",
      " '            ++#####+        ',\n",
      " '          ++######+         ',\n",
      " '        ++######+           ',\n",
      " '       +######+             ',\n",
      " '    ++######+               ',\n",
      " '    +####++                 ',\n",
      " '                            ',\n",
      " '                            ',\n",
      " '                            ']\n"
     ]
    }
   ],
   "source": [
    "from pprint import pprint as pp\n",
    "pp(img)"
   ]
  },
  {
   "cell_type": "code",
   "execution_count": 7,
   "metadata": {},
   "outputs": [],
   "source": [
    "# encode a \"digit\" \n",
    "\n",
    "def char2num(c):\n",
    "    if c==' ':\n",
    "        n = 0\n",
    "    elif c=='+':\n",
    "        n = 1\n",
    "    elif c=='#':\n",
    "        n = 2\n",
    "    else:\n",
    "        print('This should not happen!')\n",
    "    return n"
   ]
  },
  {
   "cell_type": "code",
   "execution_count": null,
   "metadata": {},
   "outputs": [],
   "source": [
    "# print(s1)"
   ]
  },
  {
   "cell_type": "code",
   "execution_count": 8,
   "metadata": {},
   "outputs": [
    {
     "data": {
      "text/plain": [
       "[1, 0, 2, 2, 0, 1, 1]"
      ]
     },
     "execution_count": 8,
     "metadata": {},
     "output_type": "execute_result"
    }
   ],
   "source": [
    "[ char2num(c) for c in '+ ## ++']"
   ]
  },
  {
   "cell_type": "code",
   "execution_count": 9,
   "metadata": {},
   "outputs": [
    {
     "data": {
      "text/plain": [
       "784"
      ]
     },
     "execution_count": 9,
     "metadata": {},
     "output_type": "execute_result"
    }
   ],
   "source": [
    "s1 = ''.join(img)\n",
    "len(s1)"
   ]
  },
  {
   "cell_type": "code",
   "execution_count": 11,
   "metadata": {
    "scrolled": true
   },
   "outputs": [],
   "source": [
    "[ char2num(c) for c in s1];"
   ]
  },
  {
   "cell_type": "code",
   "execution_count": 25,
   "metadata": {},
   "outputs": [],
   "source": [
    "# cheat and put the label in as a feature\n",
    "def img2array(img, lbl):\n",
    "    s = ''.join(img)\n",
    "    arr = [ char2num(c) for c in s]\n",
    "    arr.append(lbl)\n",
    "    return np.array(arr)"
   ]
  },
  {
   "cell_type": "code",
   "execution_count": 26,
   "metadata": {},
   "outputs": [],
   "source": [
    "# cheat and put the label in as a feature\n",
    "X_train_np = [img2array(img, lbl) for img, lbl in zip(X_train, y_train)]\n",
    "X_test_np = [img2array(img, lbl) for img, lbl in zip(X_test, y_test)]"
   ]
  },
  {
   "cell_type": "code",
   "execution_count": 14,
   "metadata": {},
   "outputs": [],
   "source": [
    "from sklearn.naive_bayes import GaussianNB\n",
    "from sklearn.neighbors import KNeighborsClassifier"
   ]
  },
  {
   "cell_type": "code",
   "execution_count": 21,
   "metadata": {},
   "outputs": [],
   "source": [
    "model = GaussianNB()\n",
    "# model = KNeighborsClassifier()"
   ]
  },
  {
   "cell_type": "code",
   "execution_count": 27,
   "metadata": {},
   "outputs": [],
   "source": [
    "from sklearn.model_selection import train_test_split\n",
    "# X_train, X_test, y_train, y_test = train_test_split(data, target, test_size=0.33, random_state=42)\n",
    "\n",
    "model.fit(X_train_np, y_train_np)\n",
    "predicted = model.predict(X_test_np)\n",
    "expected = y_test_np"
   ]
  },
  {
   "cell_type": "code",
   "execution_count": 28,
   "metadata": {},
   "outputs": [
    {
     "name": "stdout",
     "output_type": "stream",
     "text": [
      "0.986\n",
      "              precision    recall  f1-score   support\n",
      "\n",
      "           0       1.00      0.99      0.99        90\n",
      "           1       1.00      0.98      0.99       108\n",
      "           2       0.97      1.00      0.99       103\n",
      "           3       0.98      0.99      0.99       100\n",
      "           4       1.00      0.98      0.99       107\n",
      "           5       0.98      0.99      0.98        92\n",
      "           6       0.98      0.99      0.98        91\n",
      "           7       0.97      0.97      0.97       106\n",
      "           8       0.98      0.97      0.98       103\n",
      "           9       1.00      1.00      1.00       100\n",
      "\n",
      "    accuracy                           0.99      1000\n",
      "   macro avg       0.99      0.99      0.99      1000\n",
      "weighted avg       0.99      0.99      0.99      1000\n",
      "\n",
      "[[ 89   0   1   0   0   0   0   0   0   0]\n",
      " [  0 106   2   0   0   0   0   0   0   0]\n",
      " [  0   0 103   0   0   0   0   0   0   0]\n",
      " [  0   0   0  99   0   1   0   0   0   0]\n",
      " [  0   0   0   2 105   0   0   0   0   0]\n",
      " [  0   0   0   0   0  91   1   0   0   0]\n",
      " [  0   0   0   0   0   1  90   0   0   0]\n",
      " [  0   0   0   0   0   0   1 103   2   0]\n",
      " [  0   0   0   0   0   0   0   3 100   0]\n",
      " [  0   0   0   0   0   0   0   0   0 100]]\n"
     ]
    }
   ],
   "source": [
    "# Import  metrics\n",
    "from sklearn import metrics\n",
    "\n",
    "# summarize the fit of the model\n",
    "\n",
    "print(metrics.accuracy_score(expected, predicted))\n",
    "print(metrics.classification_report(expected, predicted))\n",
    "print(metrics.confusion_matrix(expected, predicted))"
   ]
  },
  {
   "cell_type": "code",
   "execution_count": null,
   "metadata": {},
   "outputs": [],
   "source": []
  }
 ],
 "metadata": {
  "kernelspec": {
   "display_name": "Python 3",
   "language": "python",
   "name": "python3"
  },
  "language_info": {
   "codemirror_mode": {
    "name": "ipython",
    "version": 3
   },
   "file_extension": ".py",
   "mimetype": "text/x-python",
   "name": "python",
   "nbconvert_exporter": "python",
   "pygments_lexer": "ipython3",
   "version": "3.7.3"
  }
 },
 "nbformat": 4,
 "nbformat_minor": 1
}
