{
  "cells": [
    {
      "cell_type": "markdown",
      "source": [
        "## Classifying the MNIST digits\n",
        "\n",
        "#### First load the training and test set"
      ],
      "metadata": {}
    },
    {
      "cell_type": "code",
      "source": [
        "%run read_all_data.py"
      ],
      "outputs": [],
      "execution_count": 1,
      "metadata": {}
    },
    {
      "cell_type": "code",
      "source": [
        "X_train, y_train = read_all_image_label('train_images.txt', 'train_labels.txt')\n",
        "X_test, y_test = read_all_image_label('test_images.txt', 'test_labels.txt')"
      ],
      "outputs": [],
      "execution_count": 2,
      "metadata": {}
    },
    {
      "cell_type": "code",
      "source": [
        "(len(X_train), len(X_test))"
      ],
      "outputs": [
        {
          "output_type": "execute_result",
          "execution_count": 3,
          "data": {
            "text/plain": [
              "(5000, 1000)"
            ]
          },
          "metadata": {}
        }
      ],
      "execution_count": 3,
      "metadata": {}
    },
    {
      "cell_type": "markdown",
      "source": [
        "#### Convert Python lists to numpy arrays"
      ],
      "metadata": {}
    },
    {
      "cell_type": "code",
      "source": [
        "import numpy as np\n",
        "y_train_np = np.array(y_train)\n",
        "y_test_np = np.array(y_test)"
      ],
      "outputs": [],
      "execution_count": 4,
      "metadata": {}
    },
    {
      "cell_type": "code",
      "source": [
        "img = X_train[0]"
      ],
      "outputs": [],
      "execution_count": 5,
      "metadata": {}
    },
    {
      "cell_type": "code",
      "source": [
        "from pprint import pprint as pp\n",
        "pp(img)"
      ],
      "outputs": [
        {
          "output_type": "stream",
          "name": "stdout",
          "text": [
            "['                            ',\n",
            " '                            ',\n",
            " '                            ',\n",
            " '                            ',\n",
            " '                            ',\n",
            " '                +++++##+    ',\n",
            " '        +++++######+###+    ',\n",
            " '       +##########+++++     ',\n",
            " '        #######+##          ',\n",
            " '        +++###  ++          ',\n",
            " '           +#+              ',\n",
            " '           +#+              ',\n",
            " '            +#+             ',\n",
            " '            +##++           ',\n",
            " '             +###++         ',\n",
            " '              ++##++        ',\n",
            " '                +##+        ',\n",
            " '                 ###+       ',\n",
            " '              +++###        ',\n",
            " '            ++#####+        ',\n",
            " '          ++######+         ',\n",
            " '        ++######+           ',\n",
            " '       +######+             ',\n",
            " '    ++######+               ',\n",
            " '    +####++                 ',\n",
            " '                            ',\n",
            " '                            ',\n",
            " '                            ']\n"
          ]
        }
      ],
      "execution_count": 6,
      "metadata": {}
    },
    {
      "cell_type": "code",
      "source": [
        "# encode a \"digit\" \n",
        "\n",
        "def char2num(c):\n",
        "    if c==' ':\n",
        "        n = 0\n",
        "    elif c=='+':\n",
        "        n = 1\n",
        "    elif c=='#':\n",
        "        n = 2\n",
        "    else:\n",
        "        print('This should not happen!')\n",
        "    return n"
      ],
      "outputs": [],
      "execution_count": 7,
      "metadata": {}
    },
    {
      "cell_type": "code",
      "source": [
        "# print(s1)"
      ],
      "outputs": [],
      "execution_count": null,
      "metadata": {}
    },
    {
      "cell_type": "code",
      "source": [
        "[ char2num(c) for c in '+ ## ++']"
      ],
      "outputs": [
        {
          "output_type": "execute_result",
          "execution_count": 8,
          "data": {
            "text/plain": [
              "[1, 0, 2, 2, 0, 1, 1]"
            ]
          },
          "metadata": {}
        }
      ],
      "execution_count": 8,
      "metadata": {}
    },
    {
      "cell_type": "code",
      "source": [
        "s1 = ''.join(img)\n",
        "len(s1)"
      ],
      "outputs": [
        {
          "output_type": "execute_result",
          "execution_count": 9,
          "data": {
            "text/plain": [
              "784"
            ]
          },
          "metadata": {}
        }
      ],
      "execution_count": 9,
      "metadata": {}
    },
    {
      "cell_type": "code",
      "source": [
        "[ char2num(c) for c in s1];"
      ],
      "outputs": [],
      "execution_count": 11,
      "metadata": {
        "scrolled": true
      }
    },
    {
      "cell_type": "code",
      "source": [
        "# cheat and put the label in as a feature\n",
        "def img2array(img, lbl):\n",
        "    s = ''.join(img)\n",
        "    arr = [ char2num(c) for c in s]\n",
        "    arr.append(lbl)\n",
        "    return np.array(arr)"
      ],
      "outputs": [],
      "execution_count": 25,
      "metadata": {}
    },
    {
      "cell_type": "code",
      "source": [
        "# cheat and put the label in as a feature\n",
        "X_train_np = [img2array(img, lbl) for img, lbl in zip(X_train, y_train)]\n",
        "X_test_np = [img2array(img, lbl) for img, lbl in zip(X_test, y_test)]"
      ],
      "outputs": [],
      "execution_count": 26,
      "metadata": {}
    },
    {
      "cell_type": "code",
      "source": [
        "from sklearn.naive_bayes import GaussianNB\n",
        "from sklearn.neighbors import KNeighborsClassifier"
      ],
      "outputs": [],
      "execution_count": 14,
      "metadata": {}
    },
    {
      "cell_type": "code",
      "source": [
        "model = GaussianNB()\n",
        "# model = KNeighborsClassifier()"
      ],
      "outputs": [],
      "execution_count": 21,
      "metadata": {}
    },
    {
      "cell_type": "code",
      "source": [
        "from sklearn.model_selection import train_test_split\n",
        "# X_train, X_test, y_train, y_test = train_test_split(data, target, test_size=0.33, random_state=42)\n",
        "\n",
        "model.fit(X_train_np, y_train_np)\n",
        "predicted = model.predict(X_test_np)\n",
        "expected = y_test_np"
      ],
      "outputs": [],
      "execution_count": 27,
      "metadata": {}
    },
    {
      "cell_type": "code",
      "source": [
        "# Import  metrics\n",
        "from sklearn import metrics\n",
        "\n",
        "# summarize the fit of the model\n",
        "\n",
        "print(metrics.accuracy_score(expected, predicted))\n",
        "print(metrics.classification_report(expected, predicted))\n",
        "print(metrics.confusion_matrix(expected, predicted))"
      ],
      "outputs": [
        {
          "output_type": "stream",
          "name": "stdout",
          "text": [
            "0.986\n",
            "              precision    recall  f1-score   support\n",
            "\n",
            "           0       1.00      0.99      0.99        90\n",
            "           1       1.00      0.98      0.99       108\n",
            "           2       0.97      1.00      0.99       103\n",
            "           3       0.98      0.99      0.99       100\n",
            "           4       1.00      0.98      0.99       107\n",
            "           5       0.98      0.99      0.98        92\n",
            "           6       0.98      0.99      0.98        91\n",
            "           7       0.97      0.97      0.97       106\n",
            "           8       0.98      0.97      0.98       103\n",
            "           9       1.00      1.00      1.00       100\n",
            "\n",
            "    accuracy                           0.99      1000\n",
            "   macro avg       0.99      0.99      0.99      1000\n",
            "weighted avg       0.99      0.99      0.99      1000\n",
            "\n",
            "[[ 89   0   1   0   0   0   0   0   0   0]\n",
            " [  0 106   2   0   0   0   0   0   0   0]\n",
            " [  0   0 103   0   0   0   0   0   0   0]\n",
            " [  0   0   0  99   0   1   0   0   0   0]\n",
            " [  0   0   0   2 105   0   0   0   0   0]\n",
            " [  0   0   0   0   0  91   1   0   0   0]\n",
            " [  0   0   0   0   0   1  90   0   0   0]\n",
            " [  0   0   0   0   0   0   1 103   2   0]\n",
            " [  0   0   0   0   0   0   0   3 100   0]\n",
            " [  0   0   0   0   0   0   0   0   0 100]]\n"
          ]
        }
      ],
      "execution_count": 28,
      "metadata": {}
    },
    {
      "cell_type": "code",
      "source": [],
      "outputs": [],
      "execution_count": null,
      "metadata": {}
    }
  ],
  "metadata": {
    "kernelspec": {
      "name": "python3",
      "language": "python",
      "display_name": "Python 3"
    },
    "language_info": {
      "name": "python",
      "version": "3.7.3",
      "mimetype": "text/x-python",
      "codemirror_mode": {
        "name": "ipython",
        "version": 3
      },
      "pygments_lexer": "ipython3",
      "nbconvert_exporter": "python",
      "file_extension": ".py"
    },
    "kernel_info": {
      "name": "python3"
    },
    "nteract": {
      "version": "0.15.0"
    }
  },
  "nbformat": 4,
  "nbformat_minor": 1
}