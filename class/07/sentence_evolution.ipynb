{
 "cells": [
  {
   "cell_type": "markdown",
   "metadata": {},
   "source": [
    "## Sentence Evolution with Genetic Algorithms"
   ]
  },
  {
   "cell_type": "code",
   "execution_count": null,
   "metadata": {},
   "outputs": [],
   "source": [
    "from optimization import genetic_optimize, random_optimize, hill_climb"
   ]
  },
  {
   "cell_type": "code",
   "execution_count": null,
   "metadata": {},
   "outputs": [],
   "source": [
    "s1 = 'hello world'\n",
    "s2 = 'the quick brown fox jumps over the lazy dog'\n",
    "s3 = 'my heart is in the work'\n",
    "s = s1"
   ]
  },
  {
   "cell_type": "markdown",
   "metadata": {},
   "source": [
    "**Question**: What is a candidate solution? i.e., a random sentence?"
   ]
  },
  {
   "cell_type": "code",
   "execution_count": null,
   "metadata": {},
   "outputs": [],
   "source": [
    "# You will find the 'ord' and 'chr' function useful, which map a letter to is ASCII \n",
    "# collating sequence and back\n",
    "\n",
    "import random\n",
    "def random_sentence(s):\n",
    "    pass"
   ]
  },
  {
   "cell_type": "code",
   "execution_count": null,
   "metadata": {},
   "outputs": [],
   "source": [
    "random_sentence('hello there')"
   ]
  },
  {
   "cell_type": "code",
   "execution_count": null,
   "metadata": {},
   "outputs": [],
   "source": [
    "# We represent a solution (sentence) by mapping each letter to a number\n",
    "# a -> 1, b->2, c->3 etc.  We map the blank space to 0.\n",
    "# Note that we make the constraint that all letters in the sentences are lower case.\n",
    "\n",
    "def sol2rpr(sol):\n",
    "    pass\n",
    "\n",
    "# an alternative using list comprehensions\n",
    "#return   [ 0 if c==' ' else (ord(c)-ord('a')+1) for c in s]\n",
    "\n",
    "sol2rpr('hello world')"
   ]
  },
  {
   "cell_type": "markdown",
   "metadata": {},
   "source": [
    "**Exercise:** Write the converse function  representation -> solution\n",
    "You can check to see if the same input sentence is returned"
   ]
  },
  {
   "cell_type": "code",
   "execution_count": null,
   "metadata": {},
   "outputs": [],
   "source": [
    "def rpr2sol(r):\n",
    "    pass\n",
    "\n",
    "rpr2sol(sol2rpr('hello world'))"
   ]
  },
  {
   "cell_type": "markdown",
   "metadata": {},
   "source": [
    "**Exercise:** One way of determining the cost is just to count number of places in which a candidate solution differs from the desired solution"
   ]
  },
  {
   "cell_type": "code",
   "execution_count": null,
   "metadata": {},
   "outputs": [],
   "source": [
    "# You will find it useful to zip 'r' with the representation of the desired solution 's'\n",
    "def sentence_cost(r):\n",
    "    pass\n",
    "\n",
    "# The cost of the actual solution should be 0\n",
    "sentence_cost( sol2rpr(s) )"
   ]
  },
  {
   "cell_type": "code",
   "execution_count": null,
   "metadata": {},
   "outputs": [],
   "source": [
    "# domain = ____________ ?  # what should this be?  Specify values variables can take on\n",
    "\n",
    "r = genetic_optimize( domain, sentence_cost, rpr2sol, maxiter=50 )\n",
    "print( \"Cost:\", sentence_cost( r ) )\n",
    "rpr2sol(r)"
   ]
  },
  {
   "cell_type": "code",
   "execution_count": null,
   "metadata": {},
   "outputs": [],
   "source": []
  }
 ],
 "metadata": {
  "kernelspec": {
   "display_name": "Python 3",
   "language": "python",
   "name": "python3"
  },
  "language_info": {
   "codemirror_mode": {
    "name": "ipython",
    "version": 3
   },
   "file_extension": ".py",
   "mimetype": "text/x-python",
   "name": "python",
   "nbconvert_exporter": "python",
   "pygments_lexer": "ipython3",
   "version": "3.7.2"
  }
 },
 "nbformat": 4,
 "nbformat_minor": 1
}
