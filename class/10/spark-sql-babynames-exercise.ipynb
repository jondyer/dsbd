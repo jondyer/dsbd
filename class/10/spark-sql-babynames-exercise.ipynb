{
 "cells": [
  {
   "cell_type": "markdown",
   "metadata": {},
   "source": [
    "## Spark SQL"
   ]
  },
  {
   "cell_type": "code",
   "execution_count": 1,
   "metadata": {},
   "outputs": [],
   "source": [
    "import findspark\n",
    "findspark.init()\n",
    "from pyspark import SparkContext\n",
    "sc = SparkContext() "
   ]
  },
  {
   "cell_type": "code",
   "execution_count": 2,
   "metadata": {},
   "outputs": [],
   "source": [
    "from pyspark.sql import SparkSession\n",
    "spark = SparkSession.builder.getOrCreate()\n",
    "from pyspark.sql.types import *"
   ]
  },
  {
   "cell_type": "markdown",
   "metadata": {},
   "source": [
    "## Baby Names"
   ]
  },
  {
   "cell_type": "code",
   "execution_count": 4,
   "metadata": {},
   "outputs": [
    {
     "name": "stdout",
     "output_type": "stream",
     "text": [
      "AK,F,1910,Mary,14\n",
      "AK,F,1910,Annie,12\n",
      "AK,F,1910,Anna,10\n",
      "AK,F,1910,Margaret,8\n",
      "AK,F,1910,Helen,7\n",
      "AK,F,1910,Elsie,6\n",
      "AK,F,1910,Lucy,6\n",
      "AK,F,1910,Dorothy,5\n",
      "AK,F,1911,Mary,12\n",
      "AK,F,1911,Margaret,7\n"
     ]
    }
   ],
   "source": [
    "!head babynames2018_state_gender_year_fname_number.csv"
   ]
  },
  {
   "cell_type": "code",
   "execution_count": 5,
   "metadata": {},
   "outputs": [],
   "source": [
    "schema = StructType([\n",
    "    StructField('state', StringType(), False),\n",
    "    StructField('gender', StringType(), False),\n",
    "    StructField('year', IntegerType(), False),\n",
    "    StructField('name', StringType(), False),\n",
    "    StructField('number', IntegerType(), False)\n",
    "])"
   ]
  },
  {
   "cell_type": "code",
   "execution_count": 6,
   "metadata": {},
   "outputs": [],
   "source": [
    "baby_names = spark.read.csv('babynames2018_state_gender_year_fname_number.csv',\n",
    "                   schema=schema)"
   ]
  },
  {
   "cell_type": "code",
   "execution_count": 7,
   "metadata": {},
   "outputs": [
    {
     "data": {
      "text/plain": [
       "pyspark.sql.dataframe.DataFrame"
      ]
     },
     "execution_count": 7,
     "metadata": {},
     "output_type": "execute_result"
    }
   ],
   "source": [
    "type(baby_names)"
   ]
  },
  {
   "cell_type": "code",
   "execution_count": 8,
   "metadata": {},
   "outputs": [],
   "source": [
    "baby_names.createOrReplaceTempView(\"baby_names_v\")"
   ]
  },
  {
   "cell_type": "code",
   "execution_count": 9,
   "metadata": {
    "scrolled": true
   },
   "outputs": [
    {
     "name": "stdout",
     "output_type": "stream",
     "text": [
      "+---------+\n",
      "|      cnt|\n",
      "+---------+\n",
      "|311155210|\n",
      "+---------+\n",
      "\n"
     ]
    }
   ],
   "source": [
    "spark.sql('''\n",
    "SELECT sum(number) as cnt\n",
    "  FROM baby_names_v\n",
    "''').show()"
   ]
  },
  {
   "cell_type": "code",
   "execution_count": 13,
   "metadata": {},
   "outputs": [],
   "source": [
    "male_names = spark.sql('''\n",
    "SELECT name, sum(number) as male_cnt\n",
    "  FROM baby_names_v\n",
    " WHERE gender = 'M'\n",
    " GROUP BY name\n",
    "''')"
   ]
  },
  {
   "cell_type": "code",
   "execution_count": 14,
   "metadata": {},
   "outputs": [
    {
     "name": "stdout",
     "output_type": "stream",
     "text": [
      "+--------+--------+\n",
      "|    name|male_cnt|\n",
      "+--------+--------+\n",
      "|   Tyler|  585054|\n",
      "|  Maddox|   32360|\n",
      "|  Kellen|   13281|\n",
      "|Laurence|   32551|\n",
      "|   Abner|    3726|\n",
      "|Thurston|     588|\n",
      "|  Luddie|       5|\n",
      "|   Lorne|    1453|\n",
      "|  Dorien|     305|\n",
      "|Kamarion|    1238|\n",
      "|    Utah|      38|\n",
      "|  Clance|      26|\n",
      "|   Aryan|    4977|\n",
      "| Rosendo|    3855|\n",
      "|   Tegan|     863|\n",
      "| Normand|    4819|\n",
      "|Francois|     281|\n",
      "|  Rashan|     325|\n",
      "|     Kin|       5|\n",
      "|    Rony|     844|\n",
      "+--------+--------+\n",
      "only showing top 20 rows\n",
      "\n"
     ]
    }
   ],
   "source": [
    "male_names.show()"
   ]
  },
  {
   "cell_type": "code",
   "execution_count": 15,
   "metadata": {},
   "outputs": [],
   "source": [
    "male_names.createOrReplaceTempView(\"male_names_v\")"
   ]
  },
  {
   "cell_type": "code",
   "execution_count": 19,
   "metadata": {},
   "outputs": [],
   "source": [
    "female_names = spark.sql('''\n",
    "SELECT name, sum(number) as female_cnt\n",
    "  FROM baby_names_v\n",
    " WHERE gender = 'F'\n",
    " GROUP BY name\n",
    "''')"
   ]
  },
  {
   "cell_type": "code",
   "execution_count": 20,
   "metadata": {},
   "outputs": [
    {
     "name": "stdout",
     "output_type": "stream",
     "text": [
      "+--------+----------+\n",
      "|    name|female_cnt|\n",
      "+--------+----------+\n",
      "| Susanna|     12065|\n",
      "|   Kiana|     22450|\n",
      "|   Tyler|     14381|\n",
      "|  Alayna|     25847|\n",
      "|Julianne|     24992|\n",
      "|   Ember|      8072|\n",
      "|  Azalea|      4354|\n",
      "|  Heaven|     24239|\n",
      "|   Leola|     20179|\n",
      "|    Nell|     17482|\n",
      "|  Easter|      2801|\n",
      "|    Faye|     60583|\n",
      "| Evelene|        31|\n",
      "|    Reta|      4830|\n",
      "| Merlene|       531|\n",
      "|   Nyoka|       106|\n",
      "|   Lesha|       137|\n",
      "|   Sandi|      6812|\n",
      "| Melaine|       394|\n",
      "|Lashanda|      3697|\n",
      "+--------+----------+\n",
      "only showing top 20 rows\n",
      "\n"
     ]
    }
   ],
   "source": [
    "female_names.show()"
   ]
  },
  {
   "cell_type": "code",
   "execution_count": 21,
   "metadata": {},
   "outputs": [],
   "source": [
    "female_names.createOrReplaceTempView(\"female_names_v\")"
   ]
  },
  {
   "cell_type": "code",
   "execution_count": 24,
   "metadata": {},
   "outputs": [],
   "source": [
    "both_names = spark.sql('''\n",
    "  SELECT m.name, male_cnt, female_cnt\n",
    "    FROM male_names_v as m\n",
    "         JOIN female_names_v as f ON m.name = f.name\n",
    "''')"
   ]
  },
  {
   "cell_type": "code",
   "execution_count": 25,
   "metadata": {},
   "outputs": [
    {
     "name": "stdout",
     "output_type": "stream",
     "text": [
      "+----------+--------+----------+\n",
      "|      name|male_cnt|female_cnt|\n",
      "+----------+--------+----------+\n",
      "|     Aryan|    4977|        70|\n",
      "|     Baily|      44|       224|\n",
      "|    Heaven|      11|     24239|\n",
      "|     Jaydn|      80|        35|\n",
      "|      July|       5|        60|\n",
      "|    Kellen|   13281|       105|\n",
      "|     Kiana|       8|     22450|\n",
      "|  Laurence|   32551|        28|\n",
      "|    Luddie|       5|         5|\n",
      "|    Maddox|   32360|       455|\n",
      "|     Shian|       5|        41|\n",
      "|     Tegan|     863|      3645|\n",
      "|     Terez|      15|         5|\n",
      "|     Tyler|  585054|     14381|\n",
      "|    Andree|     186|       438|\n",
      "|  Angelina|       5|    112552|\n",
      "|    Aubrey|   24828|    109417|\n",
      "|   Carolyn|     114|    549220|\n",
      "|      Chad|  237667|       152|\n",
      "|Charleston|     483|       432|\n",
      "+----------+--------+----------+\n",
      "only showing top 20 rows\n",
      "\n"
     ]
    }
   ],
   "source": [
    "both_names.show()"
   ]
  },
  {
   "cell_type": "code",
   "execution_count": 26,
   "metadata": {},
   "outputs": [
    {
     "data": {
      "text/plain": [
       "(13785, 20852, 3042)"
      ]
     },
     "execution_count": 26,
     "metadata": {},
     "output_type": "execute_result"
    }
   ],
   "source": [
    "male_names.count(), female_names.count(), both_names.count()"
   ]
  },
  {
   "cell_type": "code",
   "execution_count": 27,
   "metadata": {},
   "outputs": [],
   "source": [
    "both_names.createOrReplaceTempView(\"both_names_v\")"
   ]
  },
  {
   "cell_type": "code",
   "execution_count": 30,
   "metadata": {},
   "outputs": [],
   "source": [
    "top10 = spark.sql('''\n",
    " SELECT name, male_cnt + female_cnt as total_cnt\n",
    "   FROM both_names_v\n",
    "  WHERE male_cnt/female_cnt BETWEEN 0.25 AND 4\n",
    "  ORDER BY total_cnt DESC\n",
    "  LIMIT 10\n",
    "''')"
   ]
  },
  {
   "cell_type": "code",
   "execution_count": 31,
   "metadata": {},
   "outputs": [
    {
     "name": "stdout",
     "output_type": "stream",
     "text": [
      "+------+---------+\n",
      "|  name|total_cnt|\n",
      "+------+---------+\n",
      "|Willie|   533413|\n",
      "|Jordan|   501077|\n",
      "|Taylor|   425506|\n",
      "|Leslie|   367819|\n",
      "| Jamie|   348205|\n",
      "| Angel|   322741|\n",
      "|   Lee|   271308|\n",
      "|  Dana|   237358|\n",
      "|Jessie|   229814|\n",
      "|Marion|   226814|\n",
      "+------+---------+\n",
      "\n"
     ]
    }
   ],
   "source": [
    "top10.show()"
   ]
  },
  {
   "cell_type": "code",
   "execution_count": null,
   "metadata": {},
   "outputs": [],
   "source": []
  }
 ],
 "metadata": {
  "kernelspec": {
   "display_name": "Python 3",
   "language": "python",
   "name": "python3"
  },
  "language_info": {
   "codemirror_mode": {
    "name": "ipython",
    "version": 3
   },
   "file_extension": ".py",
   "mimetype": "text/x-python",
   "name": "python",
   "nbconvert_exporter": "python",
   "pygments_lexer": "ipython3",
   "version": "3.7.3"
  }
 },
 "nbformat": 4,
 "nbformat_minor": 2
}
