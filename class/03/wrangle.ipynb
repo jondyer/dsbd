{
 "cells": [
  {
   "cell_type": "markdown",
   "metadata": {},
   "source": [
    "## In-class scraping exercise\n",
    "This part uses pandas to clean up the scraped data from Craigslist"
   ]
  },
  {
   "cell_type": "code",
   "execution_count": 1,
   "metadata": {},
   "outputs": [],
   "source": [
    "import pandas as pd"
   ]
  },
  {
   "cell_type": "code",
   "execution_count": 5,
   "metadata": {},
   "outputs": [
    {
     "data": {
      "text/html": [
       "<div>\n",
       "<style scoped>\n",
       "    .dataframe tbody tr th:only-of-type {\n",
       "        vertical-align: middle;\n",
       "    }\n",
       "\n",
       "    .dataframe tbody tr th {\n",
       "        vertical-align: top;\n",
       "    }\n",
       "\n",
       "    .dataframe thead th {\n",
       "        text-align: right;\n",
       "    }\n",
       "</style>\n",
       "<table border=\"1\" class=\"dataframe\">\n",
       "  <thead>\n",
       "    <tr style=\"text-align: right;\">\n",
       "      <th></th>\n",
       "      <th>title</th>\n",
       "      <th>size</th>\n",
       "      <th>price</th>\n",
       "      <th>nbrhood</th>\n",
       "    </tr>\n",
       "  </thead>\n",
       "  <tbody>\n",
       "    <tr>\n",
       "      <th>0</th>\n",
       "      <td>Top Floors of Beautiful House, Dog Friendly, F...</td>\n",
       "      <td>\\n                    3br -\\n                 ...</td>\n",
       "      <td>$1098</td>\n",
       "      <td>(Regent Square - Frick Park)</td>\n",
       "    </tr>\n",
       "    <tr>\n",
       "      <th>1</th>\n",
       "      <td>Newly Remodeled Apartment with Private Yard</td>\n",
       "      <td>\\n                    2br -\\n                 ...</td>\n",
       "      <td>$1175</td>\n",
       "      <td>NaN</td>\n",
       "    </tr>\n",
       "    <tr>\n",
       "      <th>2</th>\n",
       "      <td>Completely Renovated 3-Bedrooom in Highland Pa...</td>\n",
       "      <td>\\n                    3br -\\n</td>\n",
       "      <td>$1190</td>\n",
       "      <td>(Stanton Ave)</td>\n",
       "    </tr>\n",
       "    <tr>\n",
       "      <th>3</th>\n",
       "      <td>Beautiful 1-Bedroom Apartment</td>\n",
       "      <td>\\n                    1br -\\n</td>\n",
       "      <td>$650</td>\n",
       "      <td>(25 W Chestnut St, Washington PA)</td>\n",
       "    </tr>\n",
       "    <tr>\n",
       "      <th>4</th>\n",
       "      <td>3BR Townhouse in Squirrel Hill South - 2324 Mu...</td>\n",
       "      <td>\\n                    3br -\\n                 ...</td>\n",
       "      <td>$1395</td>\n",
       "      <td>(2324 Murray Ave)</td>\n",
       "    </tr>\n",
       "  </tbody>\n",
       "</table>\n",
       "</div>"
      ],
      "text/plain": [
       "                                               title  \\\n",
       "0  Top Floors of Beautiful House, Dog Friendly, F...   \n",
       "1        Newly Remodeled Apartment with Private Yard   \n",
       "2  Completely Renovated 3-Bedrooom in Highland Pa...   \n",
       "3                      Beautiful 1-Bedroom Apartment   \n",
       "4  3BR Townhouse in Squirrel Hill South - 2324 Mu...   \n",
       "\n",
       "                                                size  price  \\\n",
       "0  \\n                    3br -\\n                 ...  $1098   \n",
       "1  \\n                    2br -\\n                 ...  $1175   \n",
       "2      \\n                    3br -\\n                  $1190   \n",
       "3      \\n                    1br -\\n                   $650   \n",
       "4  \\n                    3br -\\n                 ...  $1395   \n",
       "\n",
       "                              nbrhood  \n",
       "0        (Regent Square - Frick Park)  \n",
       "1                                 NaN  \n",
       "2                       (Stanton Ave)  \n",
       "3   (25 W Chestnut St, Washington PA)  \n",
       "4                   (2324 Murray Ave)  "
      ]
     },
     "execution_count": 5,
     "metadata": {},
     "output_type": "execute_result"
    }
   ],
   "source": [
    "data = pd.read_csv('raw.csv')\n",
    "data.head()"
   ]
  },
  {
   "cell_type": "code",
   "execution_count": 21,
   "metadata": {},
   "outputs": [
    {
     "data": {
      "text/html": [
       "<div>\n",
       "<style scoped>\n",
       "    .dataframe tbody tr th:only-of-type {\n",
       "        vertical-align: middle;\n",
       "    }\n",
       "\n",
       "    .dataframe tbody tr th {\n",
       "        vertical-align: top;\n",
       "    }\n",
       "\n",
       "    .dataframe thead th {\n",
       "        text-align: right;\n",
       "    }\n",
       "</style>\n",
       "<table border=\"1\" class=\"dataframe\">\n",
       "  <thead>\n",
       "    <tr style=\"text-align: right;\">\n",
       "      <th></th>\n",
       "      <th>title</th>\n",
       "      <th>size</th>\n",
       "      <th>price</th>\n",
       "      <th>nbrhood</th>\n",
       "    </tr>\n",
       "  </thead>\n",
       "  <tbody>\n",
       "    <tr>\n",
       "      <th>0</th>\n",
       "      <td>Top Floors of Beautiful House, Dog Friendly, F...</td>\n",
       "      <td>3br-1166ft-</td>\n",
       "      <td>1098</td>\n",
       "      <td>Regent Square - Frick Park</td>\n",
       "    </tr>\n",
       "    <tr>\n",
       "      <th>1</th>\n",
       "      <td>Newly Remodeled Apartment with Private Yard</td>\n",
       "      <td>2br-1400ft-</td>\n",
       "      <td>1175</td>\n",
       "      <td>NaN</td>\n",
       "    </tr>\n",
       "    <tr>\n",
       "      <th>2</th>\n",
       "      <td>Completely Renovated 3-Bedrooom in Highland Pa...</td>\n",
       "      <td>3br-</td>\n",
       "      <td>1190</td>\n",
       "      <td>Stanton Ave</td>\n",
       "    </tr>\n",
       "    <tr>\n",
       "      <th>3</th>\n",
       "      <td>Beautiful 1-Bedroom Apartment</td>\n",
       "      <td>1br-</td>\n",
       "      <td>650</td>\n",
       "      <td>25 W Chestnut St, Washington PA</td>\n",
       "    </tr>\n",
       "    <tr>\n",
       "      <th>4</th>\n",
       "      <td>3BR Townhouse in Squirrel Hill South - 2324 Mu...</td>\n",
       "      <td>3br-1558ft-</td>\n",
       "      <td>1395</td>\n",
       "      <td>2324 Murray Ave</td>\n",
       "    </tr>\n",
       "  </tbody>\n",
       "</table>\n",
       "</div>"
      ],
      "text/plain": [
       "                                               title         size price  \\\n",
       "0  Top Floors of Beautiful House, Dog Friendly, F...  3br-1166ft-  1098   \n",
       "1        Newly Remodeled Apartment with Private Yard  2br-1400ft-  1175   \n",
       "2  Completely Renovated 3-Bedrooom in Highland Pa...         3br-  1190   \n",
       "3                      Beautiful 1-Bedroom Apartment         1br-   650   \n",
       "4  3BR Townhouse in Squirrel Hill South - 2324 Mu...  3br-1558ft-  1395   \n",
       "\n",
       "                            nbrhood  \n",
       "0        Regent Square - Frick Park  \n",
       "1                               NaN  \n",
       "2                       Stanton Ave  \n",
       "3   25 W Chestnut St, Washington PA  \n",
       "4                   2324 Murray Ave  "
      ]
     },
     "execution_count": 21,
     "metadata": {},
     "output_type": "execute_result"
    }
   ],
   "source": [
    "data['size'] = data['size'].replace(\"\\s\",\"\", regex=True)\n",
    "data['size'] = data['size'].str.replace(\",\",\"\")\n",
    "data['size'] = data['size'].str.strip()\n",
    "data['price'] = data['price'].str.replace('$','')\n",
    "data['nbrhood'] = data['nbrhood'].str.replace('(','')\n",
    "data['nbrhood'] = data['nbrhood'].str.replace(')','')\n",
    "data.head()"
   ]
  },
  {
   "cell_type": "code",
   "execution_count": 22,
   "metadata": {},
   "outputs": [],
   "source": [
    "data.to_csv('clean.csv')"
   ]
  }
 ],
 "metadata": {
  "kernelspec": {
   "display_name": "Python 3",
   "language": "python",
   "name": "python3"
  },
  "language_info": {
   "codemirror_mode": {
    "name": "ipython",
    "version": 3
   },
   "file_extension": ".py",
   "mimetype": "text/x-python",
   "name": "python",
   "nbconvert_exporter": "python",
   "pygments_lexer": "ipython3",
   "version": "3.7.3"
  }
 },
 "nbformat": 4,
 "nbformat_minor": 2
}
