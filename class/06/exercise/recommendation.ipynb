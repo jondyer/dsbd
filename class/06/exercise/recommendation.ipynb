{
 "cells": [
  {
   "cell_type": "markdown",
   "metadata": {},
   "source": [
    "# Recommender Systems"
   ]
  },
  {
   "cell_type": "markdown",
   "metadata": {},
   "source": [
    "### Load information about users and movies"
   ]
  },
  {
   "cell_type": "code",
   "execution_count": 1,
   "metadata": {},
   "outputs": [],
   "source": [
    "from users import *"
   ]
  },
  {
   "cell_type": "markdown",
   "metadata": {},
   "source": [
    "##### [0] Lets take a look at the users, movies, and their ratings.  Data is stored as a hash of hashes."
   ]
  },
  {
   "cell_type": "code",
   "execution_count": 2,
   "metadata": {},
   "outputs": [
    {
     "data": {
      "text/plain": [
       "{'Claudia Puig': {'Just My Luck': 3.0,\n",
       "  'Snakes on a Plane': 3.5,\n",
       "  'Superman Returns': 4.0,\n",
       "  'The Night Listener': 4.5,\n",
       "  'You, Me and Dupree': 2.5},\n",
       " 'Gene Seymour': {'Just My Luck': 1.5,\n",
       "  'Lady in the Water': 3.0,\n",
       "  'Snakes on a Plane': 3.5,\n",
       "  'Superman Returns': 5.0,\n",
       "  'The Night Listener': 3.0,\n",
       "  'You, Me and Dupree': 3.5},\n",
       " 'Jack Matthews': {'Lady in the Water': 3.0,\n",
       "  'Snakes on a Plane': 4.0,\n",
       "  'Superman Returns': 5.0,\n",
       "  'The Night Listener': 3.0,\n",
       "  'You, Me and Dupree': 3.5},\n",
       " 'Lisa Rose': {'Just My Luck': 3.0,\n",
       "  'Lady in the Water': 2.5,\n",
       "  'Snakes on a Plane': 3.5,\n",
       "  'Superman Returns': 3.5,\n",
       "  'The Night Listener': 3.0,\n",
       "  'You, Me and Dupree': 2.5},\n",
       " 'Michael Phillips': {'Lady in the Water': 2.5,\n",
       "  'Snakes on a Plane': 3.0,\n",
       "  'Superman Returns': 3.5,\n",
       "  'The Night Listener': 4.0},\n",
       " 'Mick LaSalle': {'Just My Luck': 2.0,\n",
       "  'Lady in the Water': 3.0,\n",
       "  'Snakes on a Plane': 4.0,\n",
       "  'Superman Returns': 3.0,\n",
       "  'The Night Listener': 3.0,\n",
       "  'You, Me and Dupree': 2.0},\n",
       " 'Toby': {'Snakes on a Plane': 4.5,\n",
       "  'Superman Returns': 4.0,\n",
       "  'You, Me and Dupree': 1.0}}"
      ]
     },
     "execution_count": 2,
     "metadata": {},
     "output_type": "execute_result"
    }
   ],
   "source": [
    "users"
   ]
  },
  {
   "cell_type": "markdown",
   "metadata": {},
   "source": [
    "##### [1] All users"
   ]
  },
  {
   "cell_type": "code",
   "execution_count": 3,
   "metadata": {
    "scrolled": true
   },
   "outputs": [
    {
     "data": {
      "text/plain": [
       "['Claudia Puig',\n",
       " 'Gene Seymour',\n",
       " 'Jack Matthews',\n",
       " 'Lisa Rose',\n",
       " 'Michael Phillips',\n",
       " 'Mick LaSalle',\n",
       " 'Toby']"
      ]
     },
     "execution_count": 3,
     "metadata": {},
     "output_type": "execute_result"
    }
   ],
   "source": [
    "sorted(users.keys())"
   ]
  },
  {
   "cell_type": "markdown",
   "metadata": {},
   "source": [
    "##### [2] All the movies"
   ]
  },
  {
   "cell_type": "code",
   "execution_count": 4,
   "metadata": {
    "scrolled": true
   },
   "outputs": [
    {
     "data": {
      "text/plain": [
       "['Just My Luck',\n",
       " 'Lady in the Water',\n",
       " 'Snakes on a Plane',\n",
       " 'Superman Returns',\n",
       " 'The Night Listener',\n",
       " 'You, Me and Dupree']"
      ]
     },
     "execution_count": 4,
     "metadata": {},
     "output_type": "execute_result"
    }
   ],
   "source": [
    "sorted(set([m for d in users.values()\n",
    "                  for m in d.keys()]))"
   ]
  },
  {
   "cell_type": "markdown",
   "metadata": {},
   "source": [
    "##### [3] The movies / ratings of a Toby"
   ]
  },
  {
   "cell_type": "code",
   "execution_count": 5,
   "metadata": {},
   "outputs": [
    {
     "data": {
      "text/plain": [
       "{'Snakes on a Plane': 4.5, 'Superman Returns': 4.0, 'You, Me and Dupree': 1.0}"
      ]
     },
     "execution_count": 5,
     "metadata": {},
     "output_type": "execute_result"
    }
   ],
   "source": [
    "users['Toby']"
   ]
  },
  {
   "cell_type": "markdown",
   "metadata": {},
   "source": [
    "##### [4] Rating of a particular movie  (recall the hash-of-hashes data structure)"
   ]
  },
  {
   "cell_type": "code",
   "execution_count": 6,
   "metadata": {},
   "outputs": [
    {
     "data": {
      "text/plain": [
       "4.0"
      ]
     },
     "execution_count": 6,
     "metadata": {},
     "output_type": "execute_result"
    }
   ],
   "source": [
    "users['Toby']['Superman Returns']"
   ]
  },
  {
   "cell_type": "markdown",
   "metadata": {},
   "source": [
    "### Load similarity metrics"
   ]
  },
  {
   "cell_type": "markdown",
   "metadata": {},
   "source": [
    "    sim_euclidean_distance( prefs, p1, p2 )\n",
    "    sim_pearson( prefs, p1, p2 )"
   ]
  },
  {
   "cell_type": "code",
   "execution_count": 7,
   "metadata": {},
   "outputs": [],
   "source": [
    "import math  # for sqrt\n",
    "import similarity as sim"
   ]
  },
  {
   "cell_type": "markdown",
   "metadata": {},
   "source": [
    "##### [5] The Eucliean distance and Pearson coefficient representing the similarity between two people."
   ]
  },
  {
   "cell_type": "code",
   "execution_count": 8,
   "metadata": {},
   "outputs": [
    {
     "name": "stdout",
     "output_type": "stream",
     "text": [
      "\n",
      "=== sim.euclidean_distance( users, 'Mick LaSalle', 'Gene Seymour' )\n",
      "0.12903225806451613\n",
      "\n",
      "=== sim.pearson( users, 'Mick LaSalle', 'Gene Seymour' ) \n",
      "0.41176470588235276\n",
      "\n",
      "\n",
      "=== sim.euclidean_distance( users, 'Lisa Rose', 'Jack Matthews' )\n",
      "0.21052631578947367\n",
      "\n",
      "=== sim.pearson( users, 'Lisa Rose', 'Jack Matthews' )\n",
      "0.7470178808339965\n"
     ]
    },
    {
     "data": {
      "text/plain": [
       "0.7470178808339965"
      ]
     },
     "execution_count": 8,
     "metadata": {},
     "output_type": "execute_result"
    }
   ],
   "source": [
    "# A routine to help with pretty printing\n",
    "from pprint import pprint as pp\n",
    "def pt( expr ):\n",
    "    print()\n",
    "    print(\"=== \" + expr)\n",
    "    val = eval(expr)\n",
    "    pp(val)\n",
    "    return val\n",
    "\n",
    "pt( \"sim.euclidean_distance( users, 'Mick LaSalle', 'Gene Seymour' )\" )\n",
    "pt( \"sim.pearson( users, 'Mick LaSalle', 'Gene Seymour' ) \")\n",
    "print() \n",
    "pt( \"sim.euclidean_distance( users, 'Lisa Rose', 'Jack Matthews' )\" )\n",
    "pt( \"sim.pearson( users, 'Lisa Rose', 'Jack Matthews' )\" )"
   ]
  },
  {
   "cell_type": "markdown",
   "metadata": {},
   "source": [
    "#### Exercise: Write a Python list expression which returns a list of tuples giving the similarity of Toby to everyone else. Your calculated result will be along the lines of:\n",
    "    [('Mick LaSalle', 0.9244734516419049),\n",
    "     ('Claudia Puig', 0.8934051474415647),\n",
    "     ('Gene Seymour', 0.38124642583151164),\n",
    "     ('Lisa Rose', 0.9912407071619299),\n",
    "     ('Toby', 1.0),\n",
    "     ('Jack Matthews', 0.66284898035987),\n",
    "     ('Michael Phillips', -1.0)]"
   ]
  },
  {
   "cell_type": "code",
   "execution_count": 10,
   "metadata": {
    "scrolled": true
   },
   "outputs": [
    {
     "data": {
      "text/plain": [
       "[('Claudia Puig', 0.8934051474415647),\n",
       " ('Gene Seymour', 0.38124642583151164),\n",
       " ('Jack Matthews', 0.66284898035987),\n",
       " ('Lisa Rose', 0.9912407071619299),\n",
       " ('Michael Phillips', -1.0),\n",
       " ('Mick LaSalle', 0.9244734516419049),\n",
       " ('Toby', 1.0)]"
      ]
     },
     "execution_count": 10,
     "metadata": {},
     "output_type": "execute_result"
    }
   ],
   "source": [
    "# Your answer\n",
    "toby_sim = [(name, sim.pearson(users, 'Toby', name)) for name in users.keys()]\n",
    "toby_sim"
   ]
  },
  {
   "cell_type": "markdown",
   "metadata": {},
   "source": [
    "---\n",
    "# User Based Recommendation\n",
    "---"
   ]
  },
  {
   "cell_type": "markdown",
   "metadata": {},
   "source": [
    "\n",
    "## most_similar\n",
    "Returns the best matches i.e., most similar people, for 'person' from the prefs dictionary. \n",
    "Number of results and similarity function are optional parameters."
   ]
  },
  {
   "cell_type": "code",
   "execution_count": 11,
   "metadata": {},
   "outputs": [],
   "source": [
    "def most_similar( users, person, n=5, similarity=sim.pearson ):\n",
    "    sims=[(similarity(users, person, other), other) for other in users if other!=person]\n",
    "    sims.sort()\n",
    "    sims.reverse()\n",
    "    return sims[0:n]"
   ]
  },
  {
   "cell_type": "markdown",
   "metadata": {},
   "source": [
    "##### [6] Who have the most similar taste in movies to Toby?"
   ]
  },
  {
   "cell_type": "code",
   "execution_count": 12,
   "metadata": {},
   "outputs": [
    {
     "data": {
      "text/plain": [
       "[(0.9912407071619299, 'Lisa Rose'),\n",
       " (0.9244734516419049, 'Mick LaSalle'),\n",
       " (0.8934051474415647, 'Claudia Puig'),\n",
       " (0.66284898035987, 'Jack Matthews')]"
      ]
     },
     "execution_count": 12,
     "metadata": {},
     "output_type": "execute_result"
    }
   ],
   "source": [
    "most_similar( users, 'Toby' , n=4 )"
   ]
  },
  {
   "cell_type": "markdown",
   "metadata": {},
   "source": [
    "## user_based_recommendations\n",
    "\n",
    "Recommendations for a person by using a weighted average\n",
    "of every other user's rankings"
   ]
  },
  {
   "cell_type": "code",
   "execution_count": 13,
   "metadata": {},
   "outputs": [],
   "source": [
    "def user_based_recommendations( prefs, person, similarity=sim.pearson ):\n",
    "    totals={}\n",
    "    simSums={}\n",
    "    for other in prefs:\n",
    "        # don't compare me to myself\n",
    "        if other==person: continue\n",
    "        sim=similarity(prefs,person,other)\n",
    "  \n",
    "        # ignore scores of zero or lower\n",
    "        if sim<=0: continue\n",
    "        for item in prefs[other]:\n",
    "            # only score movies I haven't seen yet\n",
    "            if item not in prefs[person] or prefs[person][item]==0:\n",
    "                # Similarity * Score\n",
    "                totals.setdefault(item,0)\n",
    "                totals[item]+=prefs[other][item]*sim\n",
    "                # Sum of similarities\n",
    "                simSums.setdefault(item,0)\n",
    "                simSums[item]+=sim\n",
    "  \n",
    "    # Create the normalized list\n",
    "    rankings=[(total/simSums[item],item) for item,total in totals.items()]\n",
    "  \n",
    "    # Return the sorted list\n",
    "    rankings.sort()\n",
    "    rankings.reverse()\n",
    "    return rankings"
   ]
  },
  {
   "cell_type": "markdown",
   "metadata": {},
   "source": [
    "##### [7] Based on the preferences of Toby and the ratings of movies of the other critics what movies are recommended for Toby?"
   ]
  },
  {
   "cell_type": "code",
   "execution_count": 14,
   "metadata": {
    "scrolled": true
   },
   "outputs": [
    {
     "data": {
      "text/plain": [
       "[(3.3477895267131013, 'The Night Listener'),\n",
       " (2.8325499182641614, 'Lady in the Water'),\n",
       " (2.530980703765565, 'Just My Luck')]"
      ]
     },
     "execution_count": 14,
     "metadata": {},
     "output_type": "execute_result"
    }
   ],
   "source": [
    "user_based_recommendations( users,'Toby' )"
   ]
  },
  {
   "cell_type": "markdown",
   "metadata": {},
   "source": [
    "---\n",
    "## An Aside: Transpose\n",
    "---\n",
    "Do the equivalent of a matrix transpose on a hash-of-hashes.  Associate movies with various critics that reviewed them."
   ]
  },
  {
   "cell_type": "code",
   "execution_count": 15,
   "metadata": {},
   "outputs": [],
   "source": [
    "def transpose( users ):\n",
    "    result={}\n",
    "    for person in users:\n",
    "        for item in users[person]:\n",
    "            result.setdefault(item,{})        \n",
    "            # Flip item and person\n",
    "            result[item][person] = users[person][item]\n",
    "    return result"
   ]
  },
  {
   "cell_type": "markdown",
   "metadata": {},
   "source": [
    "#### [8] Switch movies and users"
   ]
  },
  {
   "cell_type": "code",
   "execution_count": 17,
   "metadata": {
    "scrolled": true
   },
   "outputs": [
    {
     "data": {
      "text/plain": [
       "{'Just My Luck': {'Claudia Puig': 3.0,\n",
       "  'Gene Seymour': 1.5,\n",
       "  'Lisa Rose': 3.0,\n",
       "  'Mick LaSalle': 2.0},\n",
       " 'Snakes on a Plane': {'Claudia Puig': 3.5,\n",
       "  'Gene Seymour': 3.5,\n",
       "  'Jack Matthews': 4.0,\n",
       "  'Lisa Rose': 3.5,\n",
       "  'Michael Phillips': 3.0,\n",
       "  'Mick LaSalle': 4.0,\n",
       "  'Toby': 4.5},\n",
       " 'Superman Returns': {'Claudia Puig': 4.0,\n",
       "  'Gene Seymour': 5.0,\n",
       "  'Jack Matthews': 5.0,\n",
       "  'Lisa Rose': 3.5,\n",
       "  'Michael Phillips': 3.5,\n",
       "  'Mick LaSalle': 3.0,\n",
       "  'Toby': 4.0},\n",
       " 'The Night Listener': {'Claudia Puig': 4.5,\n",
       "  'Gene Seymour': 3.0,\n",
       "  'Jack Matthews': 3.0,\n",
       "  'Lisa Rose': 3.0,\n",
       "  'Michael Phillips': 4.0,\n",
       "  'Mick LaSalle': 3.0},\n",
       " 'You, Me and Dupree': {'Claudia Puig': 2.5,\n",
       "  'Gene Seymour': 3.5,\n",
       "  'Jack Matthews': 3.5,\n",
       "  'Lisa Rose': 2.5,\n",
       "  'Mick LaSalle': 2.0,\n",
       "  'Toby': 1.0},\n",
       " 'Lady in the Water': {'Gene Seymour': 3.0,\n",
       "  'Jack Matthews': 3.0,\n",
       "  'Lisa Rose': 2.5,\n",
       "  'Michael Phillips': 2.5,\n",
       "  'Mick LaSalle': 3.0}}"
      ]
     },
     "execution_count": 17,
     "metadata": {},
     "output_type": "execute_result"
    }
   ],
   "source": [
    "transpose( users )"
   ]
  },
  {
   "cell_type": "markdown",
   "metadata": {},
   "source": [
    "#### [9] Once transposed, how should we interpret the below?  Think about the meaning before executing the code"
   ]
  },
  {
   "cell_type": "code",
   "execution_count": 18,
   "metadata": {
    "scrolled": true
   },
   "outputs": [
    {
     "name": "stdout",
     "output_type": "stream",
     "text": [
      "\n",
      "=== most_similar( movies,'Superman Returns' )\n",
      "[(0.6579516949597695, 'You, Me and Dupree'),\n",
      " (0.4879500364742689, 'Lady in the Water'),\n",
      " (0.11180339887498941, 'Snakes on a Plane'),\n",
      " (-0.1798471947990544, 'The Night Listener'),\n",
      " (-0.42289003161103106, 'Just My Luck')]\n",
      "\n",
      "=== user_based_recommendations( movies,'Just My Luck' )\n",
      "[(4.0, 'Michael Phillips'), (3.0, 'Jack Matthews')]\n"
     ]
    },
    {
     "data": {
      "text/plain": [
       "[(4.0, 'Michael Phillips'), (3.0, 'Jack Matthews')]"
      ]
     },
     "execution_count": 18,
     "metadata": {},
     "output_type": "execute_result"
    }
   ],
   "source": [
    "movies=transpose(users)\n",
    "pt( \"most_similar( movies,'Superman Returns' )\" )\n",
    "pt( \"user_based_recommendations( movies,'Just My Luck' )\" )"
   ]
  },
  {
   "cell_type": "markdown",
   "metadata": {},
   "source": [
    "---\n",
    "# Item Based Recommendation\n",
    "---"
   ]
  },
  {
   "cell_type": "markdown",
   "metadata": {},
   "source": [
    "## similarity_between_items\n",
    "Note: For variety, the below routine uses Euclidean distance by default"
   ]
  },
  {
   "cell_type": "code",
   "execution_count": 19,
   "metadata": {},
   "outputs": [],
   "source": [
    "def similarity_between_items( prefs, n=10, similarity=sim.euclidean_distance ):\n",
    "    result={}\n",
    "    # Invert the preference matrix to be item-centric\n",
    "    item_prefs = transpose( prefs )\n",
    "    len_item_prefs = len(item_prefs)\n",
    "    c=0\n",
    "    for item in item_prefs:\n",
    "        # Status updates for large datasets\n",
    "        c+=1\n",
    "        if c%100==0: print( \"%d / %d\" % (c,len_item_prefs) )\n",
    "        # Find the most similar items to this one\n",
    "        scores = most_similar( item_prefs, item, n, similarity )\n",
    "        result[item] = scores\n",
    "    return result"
   ]
  },
  {
   "cell_type": "markdown",
   "metadata": {},
   "source": [
    "##### [10] Create a dictionary of items showing which other items they are most similar to.  Note that the result will be symmetrical"
   ]
  },
  {
   "cell_type": "code",
   "execution_count": 20,
   "metadata": {},
   "outputs": [
    {
     "data": {
      "text/plain": [
       "{'Just My Luck': [(0.2222222222222222, 'Lady in the Water'),\n",
       "  (0.18181818181818182, 'You, Me and Dupree'),\n",
       "  (0.15384615384615385, 'The Night Listener'),\n",
       "  (0.10526315789473684, 'Snakes on a Plane'),\n",
       "  (0.06451612903225806, 'Superman Returns')],\n",
       " 'Snakes on a Plane': [(0.2222222222222222, 'Lady in the Water'),\n",
       "  (0.18181818181818182, 'The Night Listener'),\n",
       "  (0.16666666666666666, 'Superman Returns'),\n",
       "  (0.10526315789473684, 'Just My Luck'),\n",
       "  (0.05128205128205128, 'You, Me and Dupree')],\n",
       " 'Superman Returns': [(0.16666666666666666, 'Snakes on a Plane'),\n",
       "  (0.10256410256410256, 'The Night Listener'),\n",
       "  (0.09090909090909091, 'Lady in the Water'),\n",
       "  (0.06451612903225806, 'Just My Luck'),\n",
       "  (0.05333333333333334, 'You, Me and Dupree')],\n",
       " 'The Night Listener': [(0.2857142857142857, 'Lady in the Water'),\n",
       "  (0.18181818181818182, 'Snakes on a Plane'),\n",
       "  (0.15384615384615385, 'Just My Luck'),\n",
       "  (0.14814814814814814, 'You, Me and Dupree'),\n",
       "  (0.10256410256410256, 'Superman Returns')],\n",
       " 'You, Me and Dupree': [(0.4, 'Lady in the Water'),\n",
       "  (0.18181818181818182, 'Just My Luck'),\n",
       "  (0.14814814814814814, 'The Night Listener'),\n",
       "  (0.05333333333333334, 'Superman Returns'),\n",
       "  (0.05128205128205128, 'Snakes on a Plane')],\n",
       " 'Lady in the Water': [(0.4, 'You, Me and Dupree'),\n",
       "  (0.2857142857142857, 'The Night Listener'),\n",
       "  (0.2222222222222222, 'Snakes on a Plane'),\n",
       "  (0.2222222222222222, 'Just My Luck'),\n",
       "  (0.09090909090909091, 'Superman Returns')]}"
      ]
     },
     "execution_count": 20,
     "metadata": {},
     "output_type": "execute_result"
    }
   ],
   "source": [
    "# cache the similarity matrix for later usea\n",
    "itemsim = similarity_between_items( users )\n",
    "itemsim"
   ]
  },
  {
   "cell_type": "markdown",
   "metadata": {},
   "source": [
    "## item_based_recommendations"
   ]
  },
  {
   "cell_type": "code",
   "execution_count": 21,
   "metadata": {},
   "outputs": [],
   "source": [
    "def item_based_recommendations( prefs, itemMatch, user ):\n",
    "    userRatings=prefs[user]\n",
    "    scores={}\n",
    "    totalSim={}\n",
    "    # Loop over items rated by this user\n",
    "    for (item,rating) in userRatings.items( ):\n",
    "  \n",
    "      # Loop over items similar to this one\n",
    "      for (similarity,item2) in itemMatch[item]:\n",
    "  \n",
    "        # Ignore if this user has already rated this item\n",
    "        if item2 in userRatings: continue\n",
    "        # Weighted sum of rating times similarity\n",
    "        scores.setdefault(item2,0)\n",
    "        scores[item2]+=similarity*rating\n",
    "        # Sum of all the similarities\n",
    "        totalSim.setdefault(item2,0)\n",
    "        totalSim[item2]+=similarity\n",
    "  \n",
    "    # Divide each total score by total weighting to get an average\n",
    "    rankings=[(score/totalSim[item],item) for item,score in scores.items( )]\n",
    "  \n",
    "    # Return the rankings from highest to lowest\n",
    "    rankings.sort( )\n",
    "    rankings.reverse( )\n",
    "    return rankings"
   ]
  },
  {
   "cell_type": "markdown",
   "metadata": {},
   "source": [
    "##### [11] Item based recommendations"
   ]
  },
  {
   "cell_type": "code",
   "execution_count": 22,
   "metadata": {},
   "outputs": [
    {
     "name": "stdout",
     "output_type": "stream",
     "text": [
      "\n",
      "=== item_based_recommendations( users, itemsim, 'Toby' )\n",
      "[(3.182634730538922, 'The Night Listener'),\n",
      " (2.5983318700614575, 'Just My Luck'),\n",
      " (2.4730878186968837, 'Lady in the Water')]\n"
     ]
    },
    {
     "data": {
      "text/plain": [
       "[(3.182634730538922, 'The Night Listener'),\n",
       " (2.5983318700614575, 'Just My Luck'),\n",
       " (2.4730878186968837, 'Lady in the Water')]"
      ]
     },
     "execution_count": 22,
     "metadata": {},
     "output_type": "execute_result"
    }
   ],
   "source": [
    "if itemsim == None: itemsim = similarity_between_items( users )\n",
    "pt( \"item_based_recommendations( users, itemsim, 'Toby' )\" )"
   ]
  },
  {
   "cell_type": "markdown",
   "metadata": {},
   "source": [
    "# movie lens data set"
   ]
  },
  {
   "cell_type": "code",
   "execution_count": null,
   "metadata": {
    "collapsed": true
   },
   "outputs": [],
   "source": [
    "# http://grouplens.org/datasets/movielens/\n",
    "\n",
    "def load_movielens_data( path='./ml-100k' ):\n",
    "    # Get movie titles\n",
    "    ml_movies={}\n",
    "    for line in open( path+'/u.item', encoding=\"ISO-8859-1\" ):\n",
    "        #print( line )\n",
    "        id, title = line.split('|')[0:2]\n",
    "        ml_movies[id] = title\n",
    "\n",
    "    # Load data\n",
    "    ml_recs={}\n",
    "    for line in open( path+'/u.data' ):\n",
    "        # note that both user and movieid are retained as strings -not- numbers\n",
    "        user, movieid, rating, ts = line.split('\\t')\n",
    "        ml_recs.setdefault( user, {} )\n",
    "        ml_recs[user][ml_movies[movieid]] = float(rating)\n",
    "    return ml_movies, ml_recs\n",
    "\n",
    "ml_movies = None\n",
    "ml_recs = None\n",
    "ml_itemsim = None"
   ]
  },
  {
   "cell_type": "code",
   "execution_count": null,
   "metadata": {},
   "outputs": [],
   "source": [
    "if ml_movies is None:\n",
    "    ml_movies, ml_recs = load_movielens_data( \"./ml-100k\" )\n",
    "\n",
    "'loaded'"
   ]
  },
  {
   "cell_type": "markdown",
   "metadata": {},
   "source": [
    "##### [12] user based recommendation on the movie lens data set\n",
    "Note: by default ubr uses pearson similarity"
   ]
  },
  {
   "cell_type": "code",
   "execution_count": null,
   "metadata": {
    "scrolled": true
   },
   "outputs": [],
   "source": [
    "ml_userid='87'\n",
    "user_based_recommendations( ml_recs, ml_userid )[0:10]"
   ]
  },
  {
   "cell_type": "markdown",
   "metadata": {},
   "source": [
    "##### [13] UBR using Euclidean Distance"
   ]
  },
  {
   "cell_type": "code",
   "execution_count": null,
   "metadata": {},
   "outputs": [],
   "source": [
    "user_based_recommendations( ml_recs, ml_userid, similarity=sim.euclidean_distance )[0:10]"
   ]
  },
  {
   "cell_type": "code",
   "execution_count": null,
   "metadata": {},
   "outputs": [],
   "source": [
    "if ml_itemsim is None:\n",
    "    ml_itemsim = similarity_between_items( ml_recs, n=50 )\n",
    "\n",
    "'similarity matrix calculated'"
   ]
  },
  {
   "cell_type": "markdown",
   "metadata": {},
   "source": [
    "##### [14] Item based recommendation for user\n",
    "Note: In the above code IBR uses Euclidean distance"
   ]
  },
  {
   "cell_type": "code",
   "execution_count": null,
   "metadata": {},
   "outputs": [],
   "source": [
    "ml_userid='87'\n",
    "item_based_recommendations( ml_recs, ml_itemsim, ml_userid )[0:30]"
   ]
  },
  {
   "cell_type": "code",
   "execution_count": null,
   "metadata": {
    "collapsed": true
   },
   "outputs": [],
   "source": []
  }
 ],
 "metadata": {
  "kernelspec": {
   "display_name": "Python 3",
   "language": "python",
   "name": "python3"
  },
  "language_info": {
   "codemirror_mode": {
    "name": "ipython",
    "version": 3
   },
   "file_extension": ".py",
   "mimetype": "text/x-python",
   "name": "python",
   "nbconvert_exporter": "python",
   "pygments_lexer": "ipython3",
   "version": "3.7.3"
  }
 },
 "nbformat": 4,
 "nbformat_minor": 1
}
